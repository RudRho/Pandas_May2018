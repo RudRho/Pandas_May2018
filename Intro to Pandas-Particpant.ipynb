{
 "cells": [
  {
   "cell_type": "markdown",
   "metadata": {},
   "source": [
    "# Introduction to Pandas\n",
    "\n",
    "This workshop will be focused on the exploration, cleaning and basic visualisation of a prepared set of sample data - the Canberra Climate Sensor Data. If you have not already downloaded this data from the [Github](https://github.com/resbaz/Pandas_May2018/blob/master/pedestrian_counts.zip), please do so now, and place this data file in the same folder as this jupyter notebook. And remember, please unzip your folder before trying to use it!\n",
    "\n",
    "## Learning objectives\n",
    "\n",
    "Throughout this session we're going to be teaching you a range of tools and skills related to cleaning, manipulation and visualising large datasets. Using the pandas package, we can read in and manipulate large spreadsheets of data, and matplotlib lets you visualise these datasets in a useable, customisable format.\n",
    "\n",
    "The three over-arching themes I'll be taking you through today are:\n",
    "\n",
    "- Data examination\n",
    "- Dataframe manipulation\n",
    "- Plotting your data with pyplot\n"
   ]
  },
  {
   "cell_type": "markdown",
   "metadata": {},
   "source": [
    "## Setting Up\n",
    "\n",
    "First, we need to import Python's *pandas*, *matplotlib* and *numpy* packages, and then use inline plotting \"magic\" command so that all plots generated will appear within this notebook instead of in a new browser tab.\n",
    "\n",
    "While numpy isn't directly related to this course, it's handy for generating random values, which will be useful when learning how to create your own dataframe"
   ]
  },
  {
   "cell_type": "code",
   "execution_count": null,
   "metadata": {},
   "outputs": [],
   "source": [
    "import pandas as pd\n",
    "import numpy as np\n",
    "import matplotlib as mpl\n",
    "import matplotlib.pyplot as plt\n",
    "mpl.style.use('ggplot')"
   ]
  },
  {
   "cell_type": "code",
   "execution_count": null,
   "metadata": {},
   "outputs": [],
   "source": [
    "%pylab inline"
   ]
  },
  {
   "cell_type": "markdown",
   "metadata": {},
   "source": [
    "## A Basic Pandas Introduction\n",
    "\n",
    "- creating your own dataframe\n",
    "    - the \"series\" object\n",
    "- subsetting columns\n",
    "- subsetting rows\n",
    "    - `head()` and `tail()`\n",
    "    - slicing\n",
    "    - `loc` vs `iloc`\n"
   ]
  },
  {
   "cell_type": "markdown",
   "metadata": {},
   "source": [
    "### Creating a Dataframe\n",
    "\n",
    "A Pandas dataframe can be thought of as a collection of lists (of equal length), where each list makes up a column inside your dateframe. \n",
    "\n",
    "The key difference between a list and a Pandas column though, is that every single item inside your column _must be of the same data type_. If you have a column of integers, and a single string value, like this, `[1,2,3,4,'seven']`, then every single value inside your column is going to be a string-type.\n",
    "\n",
    "Instead of using a list - which can take any type of values -, Pandas performs this type-coercion by using a data type called a Series."
   ]
  },
  {
   "cell_type": "code",
   "execution_count": null,
   "metadata": {},
   "outputs": [],
   "source": [
    "pd.Series([1,2,3,4,5])"
   ]
  },
  {
   "cell_type": "markdown",
   "metadata": {},
   "source": [
    "Each \"Series\" object can be thought of as it's own miniature dataframe. So our previous example would be a dataframe with one column, and 5 rows.\n",
    "\n",
    "Therefore, when creating a dataframe, you actually have to create it as a collection of these \"Series\" objects"
   ]
  },
  {
   "cell_type": "code",
   "execution_count": null,
   "metadata": {},
   "outputs": [],
   "source": []
  },
  {
   "cell_type": "code",
   "execution_count": null,
   "metadata": {
    "scrolled": true
   },
   "outputs": [],
   "source": []
  },
  {
   "cell_type": "markdown",
   "metadata": {},
   "source": [
    "#### Subsetting Columns\n",
    "\n",
    "To select a particular column in your dataframe, you can use one of two options:\n",
    "\n",
    "1) Calling the column as an \"attribute\"\n",
    "    - `df.columnName`\n",
    "\n",
    "2) Subsetting the dataframe\n",
    "    - `df['columnName']`\n",
    "\n",
    "The first option is useful for some functions, but the second form is essential if you want to call more than column at once. You do this by inserting a list, [], of column names, instead a single column.\n",
    "\n",
    "For example: `df[[\"Column1\", \"Column2\", ... , etc]]`\n",
    "\n",
    "We're first going to try this on our toy dataset from earlier, for ease of use."
   ]
  },
  {
   "cell_type": "code",
   "execution_count": null,
   "metadata": {},
   "outputs": [],
   "source": [
    "df"
   ]
  },
  {
   "cell_type": "code",
   "execution_count": null,
   "metadata": {},
   "outputs": [],
   "source": [
    "# As a subset\n"
   ]
  },
  {
   "cell_type": "code",
   "execution_count": null,
   "metadata": {
    "scrolled": true
   },
   "outputs": [],
   "source": [
    "#As an attribute\n"
   ]
  },
  {
   "cell_type": "code",
   "execution_count": null,
   "metadata": {
    "scrolled": true
   },
   "outputs": [],
   "source": [
    "# Try subsetting the first two columns\n"
   ]
  },
  {
   "cell_type": "code",
   "execution_count": null,
   "metadata": {
    "scrolled": true
   },
   "outputs": [],
   "source": [
    "# What happens if you change the order around?\n"
   ]
  },
  {
   "cell_type": "code",
   "execution_count": null,
   "metadata": {},
   "outputs": [],
   "source": [
    "# What about a column that doesn't exist?\n"
   ]
  },
  {
   "cell_type": "markdown",
   "metadata": {},
   "source": [
    "#### Slicing\n",
    "\n",
    "Sometimes you need to examine specific rows and columns in the middle of your data though, which aren't covered by `head()` or `tail()`. Instead, you can use index slicing.\n",
    "\n",
    "Slicing works similarly to how you might slice a string, or a list. You simply call the indexes of the rows you want from the dataframe: `df[rowNumbers]`"
   ]
  },
  {
   "cell_type": "code",
   "execution_count": null,
   "metadata": {},
   "outputs": [],
   "source": [
    "pdsn.Location[5:10] # Gives rows 5, 6, 7, 8, 9"
   ]
  },
  {
   "cell_type": "code",
   "execution_count": null,
   "metadata": {},
   "outputs": [],
   "source": [
    "#gives rows 0 through 7\n"
   ]
  },
  {
   "cell_type": "markdown",
   "metadata": {},
   "source": [
    "#### `loc` vs `iloc`\n",
    "You can also use `loc` and `iloc` to slice rows and columns.\n",
    "\n",
    "`iloc` is positional based, so only takes integer values that correlate with the row and column numbers you want to subset\n",
    "\n",
    "`loc` is label based, and takes the row and column **labels** as inputs"
   ]
  },
  {
   "cell_type": "code",
   "execution_count": null,
   "metadata": {},
   "outputs": [],
   "source": [
    "#Using iloc to get rows 0, 1 and 2\n",
    "df.iloc[:3]"
   ]
  },
  {
   "cell_type": "code",
   "execution_count": null,
   "metadata": {
    "scrolled": true
   },
   "outputs": [],
   "source": [
    "# Using loc to get row labels 1, 2 and 3\n",
    "df.loc[1:3]"
   ]
  },
  {
   "cell_type": "markdown",
   "metadata": {},
   "source": [
    "If you only enter one set of values into `loc` and `iloc`, they will return the values for every column in your dataset.\n",
    "\n",
    "By using a second integer though, you can choose which rows and columns you specifically want to subset. The first value corresponds to the row, and the second to the columns, or rows x columns. You can also think of this with the moniker *\"Roman Catholic\"*"
   ]
  },
  {
   "cell_type": "code",
   "execution_count": null,
   "metadata": {},
   "outputs": [],
   "source": [
    "# Using loc to get row labels 1, 2 and 3 for Columns A and B\n"
   ]
  },
  {
   "cell_type": "code",
   "execution_count": null,
   "metadata": {},
   "outputs": [],
   "source": [
    "# Using iloc to get rows 0, 1 and 2 for columns 0 and 1.\n"
   ]
  },
  {
   "cell_type": "markdown",
   "metadata": {},
   "source": [
    "The differences between `loc` and `iloc` can seem minor, but they're very important, and which one you should use depends on what your needs are at the time.\n",
    "\n",
    "`iloc` is based on dataframe position, so calling `iloc[:3]` would give you rows 0 through 3. \n",
    "\n",
    "`loc` however is based on the index label, so if you were to call `df.loc[:3]`, it would give you all rows UP TO the row labelled as index 3.\n",
    "\n",
    "While the indexes are in order and all present, this isn't an issue. Consider what happens when the indexes are out of order though, with our dataframe 's'"
   ]
  },
  {
   "cell_type": "code",
   "execution_count": null,
   "metadata": {},
   "outputs": [],
   "source": [
    "# Can see that this only takes the first 2 rows\n",
    "df.iloc[:2]"
   ]
  },
  {
   "cell_type": "code",
   "execution_count": null,
   "metadata": {},
   "outputs": [],
   "source": [
    "# Whereas this takes all rows UP TO index label 2\n",
    "df.loc[:2]"
   ]
  },
  {
   "cell_type": "markdown",
   "metadata": {},
   "source": [
    "Since `loc` is based on labels, if you try to subset a row or column label that doesn't exist, even if it corresponds to a positional row, python will throw you an error\n",
    "\n",
    "Due to this, it's important that you carefully consider which tool is appropriate for your needs"
   ]
  },
  {
   "cell_type": "markdown",
   "metadata": {},
   "source": [
    "#### Challenge 1\n",
    "\n",
    "Consider the following Python dictionary data and Python list labels:\n",
    "\n",
    "```Python \n",
    "data = {'animal': ['cat', 'cat', 'snake', 'dog', 'dog', 'cat', 'snake', 'cat', 'dog', 'dog'],\n",
    "        'age': [2.5, 3, 0.5, np.nan, 5, 2, 4.5, np.nan, 7, 3],\n",
    "        'visits': [1, 3, 2, 3, 2, 3, 1, 1, 2, 1],\n",
    "        'priority': ['yes', 'yes', 'no', 'yes', 'no', 'no', 'no', 'yes', 'no', 'no']}\n",
    "\n",
    "labels = ['a', 'b', 'c', 'd', 'e', 'f', 'g', 'h', 'i', 'j']\n",
    "```\n",
    "\n",
    "**Part 1**\n",
    "\n",
    "Create a DataFrame `vet_info` from this dictionary data which has the index (i.e. row names) `labels`"
   ]
  },
  {
   "cell_type": "code",
   "execution_count": null,
   "metadata": {},
   "outputs": [],
   "source": []
  },
  {
   "cell_type": "markdown",
   "metadata": {},
   "source": [
    "**Part 2**\n",
    "\n",
    "Return the first 3 rows of the DataFrame `vet_info`."
   ]
  },
  {
   "cell_type": "code",
   "execution_count": null,
   "metadata": {},
   "outputs": [],
   "source": []
  },
  {
   "cell_type": "markdown",
   "metadata": {},
   "source": [
    "**Part 3** \n",
    "\n",
    "Select just the 'animal' and 'age' columns from `vet_info`."
   ]
  },
  {
   "cell_type": "code",
   "execution_count": null,
   "metadata": {},
   "outputs": [],
   "source": []
  },
  {
   "cell_type": "markdown",
   "metadata": {},
   "source": [
    "**Part 4** \n",
    "\n",
    "Select the data in rows [3, 4, 8] and in columns ['animal', 'age']."
   ]
  },
  {
   "cell_type": "code",
   "execution_count": null,
   "metadata": {},
   "outputs": [],
   "source": []
  },
  {
   "cell_type": "markdown",
   "metadata": {},
   "source": [
    "# Working with Data\n",
    "\n",
    "## Reading in Data\n",
    "\n",
    "The first step to any data exploration and manipulation is to open your data within your program. The **pandas** package can directly read in spread-sheet style data and convert them into *dataframes*.\n",
    "\n",
    "These dataframes work with rows and columns, like a spreadsheet, except that all data within a single column has to be the same data type. \n",
    "\n",
    "For example, imagine you had a spreadsheet containing two columns - \"labels\" and \"numbers\", and that the rows in the \"labels\" column contains either a text or number sequence. Because you cannot turn text into a number, every single row in that \"labels\" column would need to be a string (text) type. Similarly, if some (but not all) of the rows in the \"numbers\" column contained decimals, **all** of the rows within this column would need to be of a decimal (float) data type.\n",
    "\n",
    "To read in a comma-separated file, or \\*.csv, you can use the pandas function `read_csv()`"
   ]
  },
  {
   "cell_type": "code",
   "execution_count": null,
   "metadata": {},
   "outputs": [],
   "source": [
    "# Reading in a *.csv file\n",
    "pdsn = pd.read_csv(\"pedestriancounts_melbourne.csv\")"
   ]
  },
  {
   "cell_type": "markdown",
   "metadata": {},
   "source": [
    "You can also open a variety of other file types using the \"reader\" functions found in this [IO tools documentation](http://pandas.pydata.org/pandas-docs/version/0.20/io.html \"Pandas IO tools\"). \n",
    "\n",
    "This includes file types such as excel (\\*.xlsx) files, and text (\\*.txt) files. You can use the parameters within these functions to specify file or data attributes such as column separators, whether there's column/row names, and even specifying your own column names."
   ]
  },
  {
   "cell_type": "code",
   "execution_count": null,
   "metadata": {},
   "outputs": [],
   "source": [
    "pdsn.head()"
   ]
  },
  {
   "cell_type": "markdown",
   "metadata": {},
   "source": [
    "Oops! It appears that our data doesn't actually have any headers, so our column have been read in with the incorrect names. \n",
    "\n",
    "Fortunately, pandas.read_csv() has a range of keyword arguments we can use while reading in our data.\n",
    "\n",
    "- `sep`: the type of separator between our columns\n",
    "-  `header`: the row number to take as the start of the data. Useful if you have metadata attached at the beginning of your file.\n",
    "- `names`: You can also specify your column names. Takes a list of values. If your file contains no header, also use `header = none`. Otherwise, use `header = 0`.\n",
    "* `parse_dates`: Treat one or more columns like dates.\n",
    "* `dayfirst`: Use DD.MM.YYYY format, not month first.\n",
    "* `infer_datetime_format`: Tell pandas to guess the date format.\n",
    "- `na_values`: Specify values to be treated as empty."
   ]
  },
  {
   "cell_type": "code",
   "execution_count": null,
   "metadata": {},
   "outputs": [],
   "source": []
  },
  {
   "cell_type": "code",
   "execution_count": null,
   "metadata": {},
   "outputs": [],
   "source": [
    "pdsn.head()"
   ]
  },
  {
   "cell_type": "markdown",
   "metadata": {},
   "source": [
    "## Examining your Data\n",
    "\n",
    "- `head()`, `tail()`\n",
    "- `shape`; `shape[0]` vs. `shape[1]`\n",
    "- `columns`\n",
    "- `dtypes`\n",
    "- `describe()`\n",
    "- Subsetting with conditionals\n",
    "\n",
    "\n",
    "One of the first steps in exploring your data is to see what it looks like, what data types are present, and how many rows/columns there are.\n",
    "\n",
    "For example, `df.head()` and `df.tail()` show you the first/last 5 rows of your dataframe selection"
   ]
  },
  {
   "cell_type": "code",
   "execution_count": null,
   "metadata": {},
   "outputs": [],
   "source": [
    "pdsn.tail()"
   ]
  },
  {
   "cell_type": "markdown",
   "metadata": {},
   "source": [
    "You can also specify how many rows you want `head` and `tail` to return"
   ]
  },
  {
   "cell_type": "code",
   "execution_count": null,
   "metadata": {},
   "outputs": [],
   "source": []
  },
  {
   "cell_type": "markdown",
   "metadata": {},
   "source": [
    "The `shape` function gives you the dimensions of your data, in the form `(#rows, #columns)`."
   ]
  },
  {
   "cell_type": "code",
   "execution_count": null,
   "metadata": {},
   "outputs": [],
   "source": [
    "# This returns a tuple (or linked pairs) of the number of rows and columns in your dataframe.\n"
   ]
  },
  {
   "cell_type": "markdown",
   "metadata": {},
   "source": [
    "So we can see here that we have 658,823 rows, and 6 columns in our dataframe"
   ]
  },
  {
   "cell_type": "code",
   "execution_count": null,
   "metadata": {},
   "outputs": [],
   "source": [
    "# Calling the first or second element of the tuple can give you either the rows or the columns\n",
    "#Gives you the rows (remember, 0 indexing!)\n",
    "\n",
    "\n",
    "#Gives you the columns\n"
   ]
  },
  {
   "cell_type": "markdown",
   "metadata": {},
   "source": [
    "You can also use `df.columns` to examine the column names."
   ]
  },
  {
   "cell_type": "code",
   "execution_count": null,
   "metadata": {},
   "outputs": [],
   "source": [
    "# What are the column names in your dataframe?\n",
    "pdsn.columns"
   ]
  },
  {
   "cell_type": "markdown",
   "metadata": {},
   "source": [
    "You can also examine the data types inside your columns using `dtypes`\n",
    "\n",
    "Knowing what type of data is in your dataframe is extremely important, as it limits what functions you can and can't do on that column. It's useless to try and do string manipulations on an integer, or try to find the sum of a column of names.\n",
    "\n",
    "Within pandas, str = \"object\", int = \"int64\", and float = \"float64\""
   ]
  },
  {
   "cell_type": "code",
   "execution_count": null,
   "metadata": {},
   "outputs": [],
   "source": [
    "pdsn.dtypes"
   ]
  },
  {
   "cell_type": "markdown",
   "metadata": {},
   "source": [
    "Knowing this, you can now examine a quick summary of your data to see what you're working with using `describe()`"
   ]
  },
  {
   "cell_type": "code",
   "execution_count": null,
   "metadata": {},
   "outputs": [],
   "source": [
    "pdsn.describe()"
   ]
  },
  {
   "cell_type": "markdown",
   "metadata": {},
   "source": [
    "What you might notice here is that only the *numeric* columns have been returned. To view both your numeric and string/date/other columns, you will need to use the parameter `include`"
   ]
  },
  {
   "cell_type": "code",
   "execution_count": null,
   "metadata": {},
   "outputs": [],
   "source": []
  },
  {
   "cell_type": "markdown",
   "metadata": {},
   "source": [
    "As all of this data is output in the same table, the rows which aren't applicable to that data type are filled that NaN's"
   ]
  },
  {
   "cell_type": "markdown",
   "metadata": {},
   "source": [
    "### Summary Statistics\n",
    "\n",
    "We can also find specific statistics for each of these columns by using `max()`, `min()`, `count()`, `std()`, and `sum()`. \n",
    "\n",
    "Just remember though that many of these functions rely on numeric data types, and will cause errors if used on a str type. Calling `sum()` on a string however will concatentate those strings."
   ]
  },
  {
   "cell_type": "code",
   "execution_count": null,
   "metadata": {},
   "outputs": [],
   "source": [
    "#Try finding the maximum of the Location (a string) column\n",
    "pdsn.Location.max()"
   ]
  },
  {
   "cell_type": "code",
   "execution_count": null,
   "metadata": {},
   "outputs": [],
   "source": [
    "# what about the Standard Deviation (std) of Counts (numeric)?\n",
    "pdsn.Counts.std()"
   ]
  },
  {
   "cell_type": "markdown",
   "metadata": {},
   "source": [
    "Other useful functions include `mean()` and `unique()`.\n",
    "\n",
    "Where `mean()` takes the average of numeric data, `unique()` works on both numeric and string data, and gives you a list of all of the unique values within a particular column.\n"
   ]
  },
  {
   "cell_type": "code",
   "execution_count": null,
   "metadata": {},
   "outputs": [],
   "source": [
    "# Unique works on numeric data\n",
    "pdsn.Hour.unique()"
   ]
  },
  {
   "cell_type": "code",
   "execution_count": null,
   "metadata": {},
   "outputs": [],
   "source": [
    "# As well as on str data\n",
    "pdsn.Day.unique()"
   ]
  },
  {
   "cell_type": "markdown",
   "metadata": {},
   "source": [
    "As this returns a numpy array though, rather than a pandas dataframe or series object, you can use either `len()` or `array.size` to find the number of unique values for that column"
   ]
  },
  {
   "cell_type": "code",
   "execution_count": null,
   "metadata": {},
   "outputs": [],
   "source": [
    "# Using the numpy \"size\" function\n",
    "# pdsn.Day.unique().size\n",
    "\n",
    "# Using the len() function\n",
    "# len(pdsn.Day.unique())"
   ]
  },
  {
   "cell_type": "markdown",
   "metadata": {},
   "source": [
    "### Subsetting with conditionals\n",
    "You can also subset using conditional statements, such as:  \n",
    "* `==` or `!=`\n",
    "* `>` or `<`\n",
    "etc.\n",
    "\n",
    "For example, if I want to find all of the rows in our toy dataframe, `df` where `B > 60`, I would type:"
   ]
  },
  {
   "cell_type": "code",
   "execution_count": null,
   "metadata": {},
   "outputs": [],
   "source": []
  },
  {
   "cell_type": "markdown",
   "metadata": {},
   "source": [
    "Just as with lists and for loops, etc, you can also combine these conditionals using & {and} , or | {or}"
   ]
  },
  {
   "cell_type": "code",
   "execution_count": null,
   "metadata": {},
   "outputs": [],
   "source": [
    "#Find the rows where C < 0.5 AND B != 100\n"
   ]
  },
  {
   "cell_type": "code",
   "execution_count": null,
   "metadata": {},
   "outputs": [],
   "source": [
    "#You can also get a list of the row indexes for your subset\n"
   ]
  },
  {
   "cell_type": "markdown",
   "metadata": {},
   "source": [
    "Similarly, you can subset using a list of boolean values"
   ]
  },
  {
   "cell_type": "code",
   "execution_count": null,
   "metadata": {},
   "outputs": [],
   "source": [
    "# a boolean list. The 1st, 3rd and 5th values are True.\n",
    "na = [True,False,True,False,True,False]\n",
    "\n",
    "df[na] #subsets the 1st, 3rd and 5th rows"
   ]
  },
  {
   "cell_type": "markdown",
   "metadata": {},
   "source": [
    "#### Challenge 2\n",
    "\n",
    "**Part 1**\n",
    "\n",
    "Find how many rows belong to the sensor at Lygon St (West) between the hours of 12am and 2am?\n",
    "\n",
    "*Hint 1: an entry of \"3\" in the Hour column means that the pedestrian counts have been monitored from 3am to 4am*\n",
    "\n",
    "*Hint 2: remember that you find the length of a list, or you can use `array.size`*"
   ]
  },
  {
   "cell_type": "code",
   "execution_count": null,
   "metadata": {},
   "outputs": [],
   "source": []
  },
  {
   "cell_type": "markdown",
   "metadata": {},
   "source": [
    "**Part 2**\n",
    "\n",
    "Calculate the sum of all  (the total number of visits)"
   ]
  },
  {
   "cell_type": "code",
   "execution_count": null,
   "metadata": {},
   "outputs": [],
   "source": []
  },
  {
   "cell_type": "code",
   "execution_count": null,
   "metadata": {},
   "outputs": [],
   "source": []
  },
  {
   "cell_type": "markdown",
   "metadata": {},
   "source": [
    "**Part 3**\n",
    "\n",
    "Calculate the mean pedestrian count seen between (each of):\n",
    "* 12am and 1am\n",
    "* 1pm and 2pm\n",
    "* 10pm and 11pm\n",
    "\n",
    "At the Melbourne Central crossing"
   ]
  },
  {
   "cell_type": "code",
   "execution_count": null,
   "metadata": {},
   "outputs": [],
   "source": []
  },
  {
   "cell_type": "markdown",
   "metadata": {},
   "source": [
    "##### Optional Extra\n",
    "\n",
    "Suppose you have DataFrame with 10 columns of real numbers, for example\n",
    "\n",
    "`df2 = pd.DataFrame(np.random.random(size=(5, 10)), columns=list('abcdefghij'))`\n",
    "\n",
    "Which column of numbers has the smallest sum? Find that column's label.\n",
    "\n",
    "*Hint: https://pandas.pydata.org/pandas-docs/stable/generated/pandas.DataFrame.idxmin.html*"
   ]
  },
  {
   "cell_type": "code",
   "execution_count": null,
   "metadata": {},
   "outputs": [],
   "source": []
  },
  {
   "cell_type": "code",
   "execution_count": null,
   "metadata": {},
   "outputs": [],
   "source": []
  },
  {
   "cell_type": "markdown",
   "metadata": {},
   "source": [
    "# Manipulating Your Dataframe\n",
    "\n",
    "- Changing data: `set_value()`\n",
    "- Finding NaNs: \n",
    "    - `count()` \n",
    "    - Using booleans: `isnull()`\n",
    "    - Chaining: `isnull().any()`, `isnull().sum()`\n",
    "    - Subsetting: `df[df['Column'].isnull()]`\n",
    "- Data type conversion\n",
    "- Using the \"timestamp\" data type\n",
    "- Adding and deleting columns/rows\n",
    "- `groupby()`"
   ]
  },
  {
   "cell_type": "markdown",
   "metadata": {},
   "source": [
    "## Changing data inside your dataframe\n",
    "\n",
    "Occasionally, you might notice a particular value inside your data frame that you need to change - it could be a singular error, a spelling mistake, etc.\n",
    "\n",
    "This can be done using the `set_value(index,\"column\", value)` function. For the index parameter, you can pass it either a single index, or a list, [], of indexes to be replaced. \n",
    "\n",
    "`set_value()` works with column/row labels, similar to `loc`, rather than the indexes."
   ]
  },
  {
   "cell_type": "code",
   "execution_count": null,
   "metadata": {},
   "outputs": [],
   "source": [
    "df"
   ]
  },
  {
   "cell_type": "code",
   "execution_count": null,
   "metadata": {},
   "outputs": [],
   "source": [
    "# Changing index 48 in column D with a 0\n"
   ]
  },
  {
   "cell_type": "markdown",
   "metadata": {},
   "source": [
    "Say that you noticed a repeated spelling error in some of the labels, and wanted to fix them, or change something for more clarity. \n",
    "\n",
    "In this instance, let's replace all numbers in column B that are less than 70 with 0's instead."
   ]
  },
  {
   "cell_type": "code",
   "execution_count": null,
   "metadata": {
    "scrolled": true
   },
   "outputs": [],
   "source": []
  },
  {
   "cell_type": "markdown",
   "metadata": {},
   "source": [
    "Alternatively, if you want to apply a function to an entire column, you can just reassign it directly (as you could when replacing the value in a dictionary)"
   ]
  },
  {
   "cell_type": "code",
   "execution_count": null,
   "metadata": {},
   "outputs": [],
   "source": [
    "df['A'] = df[\"A\"].str.capitalize()\n",
    "\n",
    "df"
   ]
  },
  {
   "cell_type": "markdown",
   "metadata": {},
   "source": [
    "## Using `apply`, `applymap` or `map` to change your data\n",
    "\n",
    "- **apply** iterates over columns and computes the aggregated result value of the function applied to all vals in a column. Creates an aggregate value for the column/s, and returns a Series object.\n",
    "- **applymap** iterates over the columns of a dataframe and computes a result for each value of the column. Applies your function element by element over your dataframe. Returns a Dataframe.\n",
    "- **map** similar to applymap, but operates on Series objects only (rather than whole dataframes). Perfect for single column operations. Returns a Series object.\n",
    "\n",
    "\n"
   ]
  },
  {
   "cell_type": "code",
   "execution_count": null,
   "metadata": {},
   "outputs": [],
   "source": [
    "# Apply\n",
    "\n",
    "# Gives back a series object\n",
    "df_sum = df[['B','C','D']].apply() \n",
    "\n",
    "#total sum\n",
    "df_sum"
   ]
  },
  {
   "cell_type": "code",
   "execution_count": null,
   "metadata": {},
   "outputs": [],
   "source": [
    "type(df_sum)"
   ]
  },
  {
   "cell_type": "code",
   "execution_count": null,
   "metadata": {
    "scrolled": true
   },
   "outputs": [],
   "source": [
    "# Applymap\n",
    "df = pd.DataFrame(np.random.randn(3, 3))\n",
    "df"
   ]
  },
  {
   "cell_type": "code",
   "execution_count": null,
   "metadata": {},
   "outputs": [],
   "source": [
    "df = df.applymap(lambda x: '%.2f' % x)\n",
    "df"
   ]
  },
  {
   "cell_type": "markdown",
   "metadata": {},
   "source": [
    "Now say we wanted to replace all of the extended day names (e.g. Saturday) with the shortened versions instead (e.g. Sat).\n",
    "We could do this with map"
   ]
  },
  {
   "cell_type": "code",
   "execution_count": null,
   "metadata": {
    "scrolled": true
   },
   "outputs": [],
   "source": [
    "# First create a dictionary of the values we want\n",
    "days = {'Monday': 'Mon',\n",
    "        \"Tuesday\": \"Tues\",\n",
    "       \"Wednesday\":\"Wed\",\n",
    "       \"Thursday\":\"Thurs\",\n",
    "       \"Friday\":\"Fri\",\n",
    "       \"Saturday\":\"Sat\",\n",
    "       \"Sunday\":\"Sun\"}\n"
   ]
  },
  {
   "cell_type": "code",
   "execution_count": null,
   "metadata": {},
   "outputs": [],
   "source": [
    "# Replace our Day column with our new Day column values\n",
    "# `get()` accesses values safely from dictionary\n"
   ]
  },
  {
   "cell_type": "code",
   "execution_count": null,
   "metadata": {},
   "outputs": [],
   "source": []
  },
  {
   "cell_type": "markdown",
   "metadata": {},
   "source": [
    "## Finding Null Data\n",
    "\n",
    "Earlier, we explored the use of `shape` to determine the dimensions of our dataframe. Another way to do this is with `count`."
   ]
  },
  {
   "cell_type": "code",
   "execution_count": null,
   "metadata": {},
   "outputs": [],
   "source": [
    "pdsn.count()"
   ]
  },
  {
   "cell_type": "markdown",
   "metadata": {},
   "source": [
    "But you can see that not all of the columns have the same length. This is because count sums the number of rows within that column that contain values - so missing data, or NaNs, will cause the count to be smaller.\n",
    "\n",
    "You can check which columns inside our test dataframe, df, contains null values by using `isnull()`.\n"
   ]
  },
  {
   "cell_type": "code",
   "execution_count": null,
   "metadata": {},
   "outputs": [],
   "source": [
    "df"
   ]
  },
  {
   "cell_type": "code",
   "execution_count": null,
   "metadata": {},
   "outputs": [],
   "source": [
    "df.isnull()"
   ]
  },
  {
   "cell_type": "markdown",
   "metadata": {},
   "source": [
    "As you can see, this returns a `True` or `False` boolean value at each point in our dataframe. This is alright for something like this, but what about when we have 12 columns? 1000 rows? \n",
    "\n",
    "To get a more informative information, we can also pair `isnull()` with the `any()` function. `any()` will check whether there are any `True` values in the columns of your Dataframe object"
   ]
  },
  {
   "cell_type": "code",
   "execution_count": null,
   "metadata": {},
   "outputs": [],
   "source": [
    "#Check for nulls in each column\n"
   ]
  },
  {
   "cell_type": "markdown",
   "metadata": {},
   "source": [
    "We can also combine `isnull()` and `sum()` to find an exact count of how many NaNs are in each column as well, like `df.isnull().sum()`"
   ]
  },
  {
   "cell_type": "code",
   "execution_count": null,
   "metadata": {},
   "outputs": [],
   "source": []
  },
  {
   "cell_type": "markdown",
   "metadata": {},
   "source": [
    "## Resolving Null Data\n",
    "\n",
    "There are 2 ways to resolve Null data - replace it with new data, or delete them.\n",
    "\n",
    "For the purposes of this training, I'm only going to show you how to delete them (though another section below this will teach you to replace it, for the purposes of your own data investigations)."
   ]
  },
  {
   "cell_type": "markdown",
   "metadata": {},
   "source": [
    "### Deleting Null Data\n",
    "\n",
    "Firstly, let's view the columns where SensorID, Location and Counts have null values.\n",
    "\n",
    "We can do this using the `isnull()` function. As mentioned before, we can subset with a boolean list, which is what `isnull()` returns. Where the test evaluates to 'True', the row is output from the dataframe."
   ]
  },
  {
   "cell_type": "code",
   "execution_count": null,
   "metadata": {},
   "outputs": [],
   "source": [
    "#Show the rows where SensorID has null values\n"
   ]
  },
  {
   "cell_type": "code",
   "execution_count": null,
   "metadata": {},
   "outputs": [],
   "source": [
    "#Show the rows where Counts has null values\n"
   ]
  },
  {
   "cell_type": "markdown",
   "metadata": {},
   "source": [
    "You can also show *every* row with null values at once using `isnull().any()`. `any()` contains the optional parameter \"axis\", which allows you to choose whether it operates on the rows or the columns. By default `axis = 0`, which gives you columns, but setting `axis = 1` checks over the rows instead"
   ]
  },
  {
   "cell_type": "code",
   "execution_count": null,
   "metadata": {},
   "outputs": [],
   "source": []
  },
  {
   "cell_type": "code",
   "execution_count": null,
   "metadata": {},
   "outputs": [],
   "source": []
  },
  {
   "cell_type": "code",
   "execution_count": null,
   "metadata": {},
   "outputs": [],
   "source": [
    "# And remember, we can subset using boolean lists\n",
    "pdsn[pdsn.isnull().any(axis = 1)]"
   ]
  },
  {
   "cell_type": "markdown",
   "metadata": {},
   "source": [
    "From here, there are a few ways that we can remove our null data.\n",
    "\n",
    "The first option is to simply subset for every row except the null values. This can be easily done by replacing `isnull()` with the `notnull()` command"
   ]
  },
  {
   "cell_type": "code",
   "execution_count": null,
   "metadata": {},
   "outputs": [],
   "source": [
    "df[df.B.notnull()]"
   ]
  },
  {
   "cell_type": "code",
   "execution_count": null,
   "metadata": {},
   "outputs": [],
   "source": [
    "pdsn.isnull().any()"
   ]
  },
  {
   "cell_type": "code",
   "execution_count": null,
   "metadata": {},
   "outputs": [],
   "source": [
    "# Unfortunately notnull() will only work on individual columns at a time, not the whole dataframe\n",
    "no_nans = pdsn[pdsn.SensorID.notnull() & pdsn.Counts.notnull()]\n",
    "\n",
    "#Compare to make sure they've worked\n",
    "print(pdsn.shape)\n",
    "print(no_nans.shape)"
   ]
  },
  {
   "cell_type": "markdown",
   "metadata": {},
   "source": [
    "Another way is to take the `isnull().any()` boolean list that we've created, and then subset for all values *except* those.\n",
    "\n",
    "A handy python trick is that you can quickly invert the values in a True/False list with a `~` symbol"
   ]
  },
  {
   "cell_type": "code",
   "execution_count": null,
   "metadata": {},
   "outputs": [],
   "source": [
    "pdsn[~pdsn.isnull().any(axis = 1)].shape"
   ]
  },
  {
   "cell_type": "markdown",
   "metadata": {},
   "source": [
    "Conversely, there's also a dedicated `dropna()` function\n",
    "\n",
    "`dropna()` can work on either the rows or the columns, and allows you to specify whether you want to remove rows/column where either 'any' or 'all' of the data are nulls. Alternatively, you can set a threshold value, where rows/columns are discarded if they don't contain at least a certain number of non-null values"
   ]
  },
  {
   "cell_type": "code",
   "execution_count": null,
   "metadata": {},
   "outputs": [],
   "source": [
    "no_nans = pdsn.dropna(axis = 0, # 0 or‘index’, 1 or ‘columns’, or tuple/list to drop on multiple axes\n",
    "                      how = 'any'#{‘any’, ‘all’},\n",
    "                      thresh= 5, #require at least this many non-NA values\n",
    "                      inplace = False #{False(default), True}: whether it returns dataframe or edits source directly.\n",
    "                     )\n",
    "\n",
    "no_nans.shape"
   ]
  },
  {
   "cell_type": "markdown",
   "metadata": {},
   "source": [
    "If we examine the `tail()` of the altered dataframe though you can see that the row indexes are still the same from before the deletions though. We can fix this using `reset_index()`.\n",
    "\n",
    "Remember that while the indexes aren't that important if you're using `iloc`, but if you're using `loc` it's important that these index labels are correct.\n"
   ]
  },
  {
   "cell_type": "code",
   "execution_count": null,
   "metadata": {},
   "outputs": [],
   "source": [
    "no_nans.tail()"
   ]
  },
  {
   "cell_type": "code",
   "execution_count": null,
   "metadata": {},
   "outputs": [],
   "source": [
    "no_nans = no_nans.reset_index()"
   ]
  },
  {
   "cell_type": "code",
   "execution_count": null,
   "metadata": {},
   "outputs": [],
   "source": [
    "no_nans.tail()"
   ]
  },
  {
   "cell_type": "markdown",
   "metadata": {},
   "source": [
    "We can see however, that this method has added in another column, Index, with the original index values. This can be pretty easily resolved by deleting the column (if you don't want to keep that data). But we'll get to that later."
   ]
  },
  {
   "cell_type": "markdown",
   "metadata": {},
   "source": [
    "#### Challenge 3\n",
    "\n",
    "Take this dataframe of malformed flight data.\n",
    "```Python\n",
    "flightData = pd.DataFrame({'From': ['LoNDon', 'MAdrid', 'londON','Budapest', 'Brussels'],\n",
    "                   'To':['paris','miLAN',\"Stockholm\",\"PaRiS\",\"LondoN\"],\n",
    "              'FlightNumber': [10045, np.nan, 10065, np.nan, 10085],\n",
    "              'RecentDelays': [[23, 47], [], [24, 43, 87], [13], [67, 32]],\n",
    "                   'Airline': ['KLM(!)', '<Air France>', '(British Airways. )', \n",
    "                               '<Air France>', '\"Swiss Air\"']})\n",
    "```\n",
    "\n",
    "\n",
    "\n",
    "**Part 1**\n",
    "\n",
    "Some values in the the FlightNumber column are missing. These numbers are meant to increase by 10 with each row so 10055 and 10075 need to be put in place. Fill in these missing numbers."
   ]
  },
  {
   "cell_type": "code",
   "execution_count": null,
   "metadata": {},
   "outputs": [],
   "source": []
  },
  {
   "cell_type": "markdown",
   "metadata": {},
   "source": [
    "**Part 2**\n",
    "\n",
    "Notice how the capitalisation of the city names is all mixed up in this temporary DataFrame. Standardise the strings so that only the first letter is uppercase (e.g. \"londON\" should become \"London\".)"
   ]
  },
  {
   "cell_type": "code",
   "execution_count": null,
   "metadata": {},
   "outputs": [],
   "source": []
  },
  {
   "cell_type": "markdown",
   "metadata": {},
   "source": [
    "**Part 3**\n",
    "\n",
    "In the Airline column, you can see some extra puctuation and symbols have appeared around the airline names. Pull out just the airline name. E.g. '(British Airways. )' should become 'British Airways'\n",
    "\n",
    "*Hint: strings have a `strip()` function*"
   ]
  },
  {
   "cell_type": "code",
   "execution_count": null,
   "metadata": {},
   "outputs": [],
   "source": []
  },
  {
   "cell_type": "code",
   "execution_count": null,
   "metadata": {},
   "outputs": [],
   "source": []
  },
  {
   "cell_type": "code",
   "execution_count": null,
   "metadata": {},
   "outputs": [],
   "source": []
  },
  {
   "cell_type": "markdown",
   "metadata": {},
   "source": [
    "That ends the \"deleting nulls\" section of data manipulation. To continue with the exercises, now go to \"Converting Data Types, Dataframe Manipulation\". \n",
    "\n",
    "This next text section will show instead how you might replace your null values with useable data.\n",
    "\n",
    "### Replacing Nulls - Personal reading section\n",
    "\n",
    "#### Replacing all null values with a single value\n",
    "In the Counts column for example, you can see that there are 14 missing values. You might choose to just replace all of these with 0. You can do this using the `fillna()` function, and specifying the value you want to replace it with.\n"
   ]
  },
  {
   "cell_type": "code",
   "execution_count": null,
   "metadata": {
    "scrolled": true
   },
   "outputs": [],
   "source": [
    "df = pd.DataFrame({\"A\": ['a','b','c','d',np.nan],\n",
    "                 \"B\": [1,5,np.nan,7,9],\n",
    "                 \"C\": np.random.randn(5)})\n",
    "df"
   ]
  },
  {
   "cell_type": "code",
   "execution_count": null,
   "metadata": {
    "scrolled": true
   },
   "outputs": [],
   "source": [
    "df['B'] = df['B'].fillna(value=0)\n",
    "\n",
    "df"
   ]
  },
  {
   "cell_type": "markdown",
   "metadata": {},
   "source": [
    "`fillna` also allows you to forward (`ffill`) or backfill (`bfill`) your dataframe with the \"methods\" argument.\n",
    "\n",
    "Find out more about the options available here:  \n",
    "http://pandas.pydata.org/pandas-docs/stable/generated/pandas.DataFrame.fillna.html"
   ]
  },
  {
   "cell_type": "code",
   "execution_count": null,
   "metadata": {},
   "outputs": [],
   "source": [
    "df[\"A\"] = df[\"A\"].fillna(method = 'ffill')\n",
    "df"
   ]
  },
  {
   "cell_type": "markdown",
   "metadata": {},
   "source": [
    "##### Interpolating (Predicting) Missing Data\n",
    "\n",
    "One option is to use the function `Series.interpolate` to predict and fill in the missing values based on the index\n",
    "\n",
    "If we examine the function more closely, we can see that it can take multiple arguments, including the prediction method (default = linear), and the direction in which it can replace your data.\n",
    "\n",
    "Be very careful about using this method though, as it is literally predicting what data *might* have been there, rather than what actually *was* there. This naturally carries some degree of statistical uncertainty, which can be introduced into your data and calculations. If in doubt about which prediction method is appropriate, or the accuracy of your predictions, maintain an unaltered copy of your data (always recommended regardless) and consult a statistician."
   ]
  },
  {
   "cell_type": "code",
   "execution_count": null,
   "metadata": {},
   "outputs": [],
   "source": [
    "help(df.interpolate)"
   ]
  },
  {
   "cell_type": "markdown",
   "metadata": {},
   "source": [
    "## Converting Data Types, Dataframe Manipulation\n",
    "\n",
    "While we currently have a \"Date\" column, if you go into dtypes you can see that pandas has read this in as string, rather than as a datetime type. If we left it as a string, to get the Month, Day or Year we would need to perform a series of string manipulations every time we wanted to access these values - a costly, redundant and time consuming exercise if trying to use the whole dataframe. \n",
    "\n",
    "Instead, we can convert this column to a datetime data type, using the `to_datetime()` function.\n",
    "\n",
    "**Tip: this will take a while, so if you're working on the server try to stagger the run times**"
   ]
  },
  {
   "cell_type": "code",
   "execution_count": null,
   "metadata": {},
   "outputs": [],
   "source": [
    "no_nans['Date'] = pd.to_datetime(no_nans['Date'])"
   ]
  },
  {
   "cell_type": "code",
   "execution_count": null,
   "metadata": {},
   "outputs": [],
   "source": []
  },
  {
   "cell_type": "code",
   "execution_count": null,
   "metadata": {},
   "outputs": [],
   "source": []
  },
  {
   "cell_type": "markdown",
   "metadata": {},
   "source": [
    "### Adding and Deleting Columns\n",
    "\n",
    "Adding a column is a pretty simple exercise - just as we would with a dictionary, you create a new key (column) and assign it some data.\n",
    "\n",
    "Here, let's split our date column so that we can examine statistics for the different months, years, etc, later on."
   ]
  },
  {
   "cell_type": "code",
   "execution_count": null,
   "metadata": {},
   "outputs": [],
   "source": [
    "# Adding a Column with the Day\n",
    "\n",
    "\n",
    "# Adding a Column with the Month (from 1-12)\n",
    "\n",
    "\n",
    "# Adding a Column with the Year\n"
   ]
  },
  {
   "cell_type": "code",
   "execution_count": null,
   "metadata": {},
   "outputs": [],
   "source": [
    "no_nans.head()"
   ]
  },
  {
   "cell_type": "markdown",
   "metadata": {},
   "source": [
    "To delete a column, we can simply use the `del` command"
   ]
  },
  {
   "cell_type": "code",
   "execution_count": null,
   "metadata": {},
   "outputs": [],
   "source": []
  },
  {
   "cell_type": "code",
   "execution_count": null,
   "metadata": {
    "scrolled": true
   },
   "outputs": [],
   "source": []
  },
  {
   "cell_type": "markdown",
   "metadata": {},
   "source": [
    "Because of the way our columns are named, we don't currently have anything sensible to call our second date column. We can change these columns names pretty easily to something more sensible"
   ]
  },
  {
   "cell_type": "code",
   "execution_count": null,
   "metadata": {},
   "outputs": [],
   "source": [
    "no_nans.columns = []"
   ]
  },
  {
   "cell_type": "code",
   "execution_count": null,
   "metadata": {},
   "outputs": [],
   "source": [
    "no_nans.head()"
   ]
  },
  {
   "cell_type": "markdown",
   "metadata": {},
   "source": [
    "Lets also add another column, Seasons, that tells us which season the traffic is occurring"
   ]
  },
  {
   "cell_type": "code",
   "execution_count": null,
   "metadata": {},
   "outputs": [],
   "source": [
    "season_dict = {1: \"Summer\", 2:\"Summer\", 3:\"Autumn\",4:\"Autumn\",5:\"Autumn\",\n",
    "               6:\"Winter\",7:\"Winter\",8:\"Winter\",9:\"Spring\",10:\"Spring\",\n",
    "              11:\"Spring\",12:\"Summer\",}\n",
    "\n",
    "\n",
    "no_nans[\"Season\"] = no_nans[\"Month\"].apply(season_dict.get)\n",
    "\n",
    "# Check it's been added in\n",
    "no_nans.Season.unique()"
   ]
  },
  {
   "cell_type": "code",
   "execution_count": null,
   "metadata": {
    "scrolled": false
   },
   "outputs": [],
   "source": []
  },
  {
   "cell_type": "markdown",
   "metadata": {},
   "source": [
    "### Changing Your Data Types\n",
    "\n",
    "You can also convert other columns by using the `df[column].astype(<datatype>)` function. This includes 'str', 'int64' and 'float64' data types, amongst others.\n",
    "\n",
    "You must be careful **not to use `astype()` on a column with null values**. `astype()` does not preserve the null values, and makes resolving them later more difficult.\n",
    "\n",
    "Let's create a dataframe, df, in an example of converting types"
   ]
  },
  {
   "cell_type": "code",
   "execution_count": null,
   "metadata": {},
   "outputs": [],
   "source": [
    "df = pd.DataFrame({'A':['a','b','c',np.nan,'d','e'],\n",
    "             'B': np.random.randn(6),\n",
    "             'C': [2.6,np.nan, 8.0, 9.4, 3.3, np.nan]})\n",
    "df"
   ]
  },
  {
   "cell_type": "code",
   "execution_count": null,
   "metadata": {},
   "outputs": [],
   "source": [
    "df[\"A\"] = "
   ]
  },
  {
   "cell_type": "markdown",
   "metadata": {},
   "source": [
    "#### Exploration Challenge\n",
    "\n",
    "Convert column A and C in `df` to `str` and `float`, respectively, and then shown what the resulting values at the previously null indexes are\n",
    "\n",
    "*Hint: you can get the index of the current null values before the conversion*"
   ]
  },
  {
   "cell_type": "code",
   "execution_count": null,
   "metadata": {},
   "outputs": [],
   "source": []
  },
  {
   "cell_type": "markdown",
   "metadata": {},
   "source": [
    "#### Challenge 4\n",
    "\n",
    "Create a new column \"D\" for our toy dataframe, df. \"D\" will contain the values from column B + 100. \n",
    "\n",
    "_Hint 1: You can test your output by using the \"apply\" function without assigning it to a new column first_\n",
    "\n",
    "_Hint 2: you can create your own functions using \"lambda\". e.g. _`apply(lambda x: ` _`insert stuff with x`_`)`\n"
   ]
  },
  {
   "cell_type": "code",
   "execution_count": null,
   "metadata": {},
   "outputs": [],
   "source": []
  },
  {
   "cell_type": "code",
   "execution_count": null,
   "metadata": {},
   "outputs": [],
   "source": []
  },
  {
   "cell_type": "markdown",
   "metadata": {},
   "source": [
    "##### Extension Challenge\n",
    "\n",
    "Harken back to our `flightData` dataframe from Challenge 3.\n",
    "\n",
    "In the RecentDelays column, the values have been entered into the DataFrame as a list. We would like each first value in its own column, each second value in its own column, and so on. If there isn't an Nth value, the value should be NaN.\n",
    "\n",
    "Expand the Series of lists into a DataFrame named delays, rename the columns delay_1, delay_2, etc. and replace the unwanted RecentDelays column in df with delays.\n",
    "\n",
    "*Hint: You can create a new dataframe from the list data in the column by combining `apply` and pd.Series.*  \n",
    "*Hint 2: `help(df.join)`*"
   ]
  },
  {
   "cell_type": "code",
   "execution_count": null,
   "metadata": {},
   "outputs": [],
   "source": [
    "flightData"
   ]
  },
  {
   "cell_type": "code",
   "execution_count": null,
   "metadata": {},
   "outputs": [],
   "source": []
  },
  {
   "cell_type": "code",
   "execution_count": null,
   "metadata": {},
   "outputs": [],
   "source": []
  },
  {
   "cell_type": "code",
   "execution_count": null,
   "metadata": {},
   "outputs": [],
   "source": []
  },
  {
   "cell_type": "markdown",
   "metadata": {},
   "source": [
    "## Grouping Data with `groupby`\n",
    "\n",
    "It's often useful to be able to group the data within a column according to the data in another column. \n",
    "\n",
    "For example, you might wish to take the mean pedestrian counts for each month, or each year. We could do this is a complicated and time consuming way where you subset the data for each month, and then take the mean of the Counts column...or we could just use the `groupby` function. `groupby` outputs a reformatted version of your data where all values associated with your \"grouping factor\" are taken together. You can then perform mathematical and statistical tests on this grouped output (and plotting!), and the tests will be performed within each of the \"groups\" you defined.\n",
    "\n",
    "For example, say that we wanted to find the mean pedestrian counts seen in each month:"
   ]
  },
  {
   "cell_type": "code",
   "execution_count": null,
   "metadata": {},
   "outputs": [],
   "source": []
  },
  {
   "cell_type": "markdown",
   "metadata": {},
   "source": [
    "Unfortunately these tests are non-discriminatory, and will take the `mean()` of each numeric data column. \n",
    "\n",
    "To get the columns you want, such as Counts, you need to specify this in the chained command:"
   ]
  },
  {
   "cell_type": "code",
   "execution_count": null,
   "metadata": {},
   "outputs": [],
   "source": [
    "# the mean pedestrian counts within each month\n"
   ]
  },
  {
   "cell_type": "code",
   "execution_count": null,
   "metadata": {},
   "outputs": [],
   "source": [
    "# Can also specify multiple columns to be output\n",
    "        # the mean \"Hour\" and pedestrian counts within each month\n",
    "no_nans.groupby(by=[\"Month\"]).mean()[[\"Counts\",\"Hour\"]]"
   ]
  },
  {
   "cell_type": "markdown",
   "metadata": {},
   "source": [
    "We can also choose to only apply to certain columns, or even group by multiple factors"
   ]
  },
  {
   "cell_type": "code",
   "execution_count": null,
   "metadata": {
    "scrolled": true
   },
   "outputs": [],
   "source": [
    "# Just remember to keep the months you're grouping by in your column selection!\n",
    "no_nans[[\"Counts\"]].groupby(by=[\"Month\",\"Year\"]).mean()"
   ]
  },
  {
   "cell_type": "code",
   "execution_count": null,
   "metadata": {},
   "outputs": [],
   "source": []
  },
  {
   "cell_type": "code",
   "execution_count": null,
   "metadata": {
    "scrolled": true
   },
   "outputs": [],
   "source": [
    "# The order of the groupby matters\n"
   ]
  },
  {
   "cell_type": "markdown",
   "metadata": {},
   "source": [
    "By chaining more commands together you can also find the maximum, minimum, etc, values for your groups."
   ]
  },
  {
   "cell_type": "code",
   "execution_count": null,
   "metadata": {},
   "outputs": [],
   "source": [
    "# Maximum counts grouped by Month\n"
   ]
  },
  {
   "cell_type": "markdown",
   "metadata": {},
   "source": [
    "But which month is this associated with?"
   ]
  },
  {
   "cell_type": "code",
   "execution_count": null,
   "metadata": {},
   "outputs": [],
   "source": [
    "# Finding the Month associated with the maximum value\n",
    "countSums = no_nans.groupby(by=[\"Month\"]).Counts.sum()\n",
    "\n",
    "countSums[countSums == countSums.max()]"
   ]
  },
  {
   "cell_type": "markdown",
   "metadata": {},
   "source": [
    "You might also it useful to chain groupby and the `aggregate` function together for more functionality. We are limited with being able to apply this in interesting ways in our current dataset, but feel free to do some reading in your own time."
   ]
  },
  {
   "cell_type": "code",
   "execution_count": null,
   "metadata": {},
   "outputs": [],
   "source": [
    "help(df.aggregate)"
   ]
  },
  {
   "cell_type": "markdown",
   "metadata": {},
   "source": [
    "#### Challenge 5\n",
    "**Part 1** Which season has the greatest average Pedestrian traffic? "
   ]
  },
  {
   "cell_type": "code",
   "execution_count": null,
   "metadata": {},
   "outputs": [],
   "source": []
  },
  {
   "cell_type": "markdown",
   "metadata": {},
   "source": [
    "**Part 2** Which year has the greatest standard deviation in pedestrians?"
   ]
  },
  {
   "cell_type": "code",
   "execution_count": null,
   "metadata": {},
   "outputs": [],
   "source": []
  },
  {
   "cell_type": "markdown",
   "metadata": {},
   "source": [
    "**Part 3** Which hour, of which day, sees the greatest average pedestrian traffic overall?\n",
    "\n",
    "Hint: `help(df.sort_values)` might be useful"
   ]
  },
  {
   "cell_type": "code",
   "execution_count": null,
   "metadata": {
    "scrolled": false
   },
   "outputs": [],
   "source": []
  },
  {
   "cell_type": "code",
   "execution_count": null,
   "metadata": {},
   "outputs": [],
   "source": []
  },
  {
   "cell_type": "markdown",
   "metadata": {},
   "source": [
    "# Plotting Your Data\n",
    "\n",
    "Now that we've examined and cleaned our data, it's time to look at how we might explore that visually.\n",
    "\n",
    "Pandas has some in-built plotting functionality, that builds off of the traditional matplotlib library, which are reasonably easy to use. However, as Pandas plotting is built-upon matplotlib, customising your plots will require you to understand matplotlib commands. \n",
    "\n",
    "This section will teach you the basics of plotting within pandas. This is hardly comprehensive, and please feel free to delve into some of user guides and tutorials and questions available on Google and Stack Overflow to learn more about these tools and how to make them work for you.\n",
    "\n",
    "A reasonably good matplotlib tutorial can be found at https://matplotlib.org/users/pyplot_tutorial.html\n",
    "\n",
    "The [matplotlib API](https://matplotlib.org/devdocs/api/_as_gen/matplotlib.pyplot.html) contains all of the functions you can call within matplotlib, along with detailed information about how you can use them and their parameters\n",
    "\n",
    "A handy \"quick guide\" to the different kinds of plotting functions within pyplot can also be found at the [pyplot API](https://matplotlib.org/api/pyplot_api.html)"
   ]
  },
  {
   "cell_type": "markdown",
   "metadata": {},
   "source": [
    "Let's first try using `df.plot()` on our no_nans dataframe"
   ]
  },
  {
   "cell_type": "code",
   "execution_count": null,
   "metadata": {},
   "outputs": [],
   "source": [
    "no_nans.plot()\n",
    "plt.show()"
   ]
  },
  {
   "cell_type": "markdown",
   "metadata": {},
   "source": [
    "But that's not particularly informative, and much of the graph is completely unreadable.\n",
    "\n",
    "Matplotlib has great customisability, so let's play around with trying to plot different types of graphs with our data"
   ]
  },
  {
   "cell_type": "markdown",
   "metadata": {},
   "source": [
    "## Line Plot\n",
    "\n",
    "Line plots are great for plotting series data, usually a time series of some description.\n",
    "\n",
    "Line plots are also the default plot drawn when calling `.plot()`.\n",
    "\n",
    "Within the plot function you can also specify the figure title and the figure size"
   ]
  },
  {
   "cell_type": "code",
   "execution_count": null,
   "metadata": {},
   "outputs": [],
   "source": [
    "no_nans.groupby(by = ['Year', 'Month']).mean().Counts.plot( # Drawing a pot from the grouped Year, Month data\n",
    "                                                figsize = (8,6), # The figure size\n",
    "                                                title = 'Mean Pedestrian Counts per Month, per Year') #Figure Title\n",
    "\n",
    "# #Let's customise it a bit further\n",
    "# #specifying the x-axis label\n",
    "# plt.xlabel('Pedestrian Counts per Year, Month')\n",
    "\n",
    "# # the y-axis label\n",
    "# plt.ylabel('Counts (mean)')\n",
    "\n",
    "# #Rotating the x-axis labels\n",
    "# plt.xticks(rotation=45)"
   ]
  },
  {
   "cell_type": "markdown",
   "metadata": {},
   "source": [
    "## Bar Chart\n",
    "\n",
    "Bar charts are great for categorical data, like examining \"Seasons\", for example.\n",
    "\n",
    "Bar charts aren't generally recommended for time series data, such as plotting counts/hour, or mean counts per month, as these are more suited for line plots."
   ]
  },
  {
   "cell_type": "code",
   "execution_count": null,
   "metadata": {},
   "outputs": [],
   "source": [
    "# You can still use the plot function, but specify which columns and plot type you would like to use\n",
    "no_nans.groupby(by = ['Season']).mean().Counts.plot(kind = 'bar',figsize = (8, 6)) \n",
    "\n",
    "# #Figure title\n",
    "# title(\"Mean Pedestrian Counts per Season\")\n",
    "\n",
    "# # x-axis label\n",
    "# plt.xlabel('Mean Counts')\n",
    "\n",
    "# #y-axis label\n",
    "# plt.ylabel('Season')\n"
   ]
  },
  {
   "cell_type": "markdown",
   "metadata": {},
   "source": [
    "## Boxplot\n",
    "Box plots are good for viewing the spread of data within certain categories. These can be useful to measure whether two conditions could be said to be approximately equal, for example."
   ]
  },
  {
   "cell_type": "code",
   "execution_count": null,
   "metadata": {},
   "outputs": [],
   "source": []
  },
  {
   "cell_type": "code",
   "execution_count": null,
   "metadata": {},
   "outputs": [],
   "source": [
    "fig = plt.figure(figsize = (6,8))\n",
    "# ax = fig.gca() #defining axis\n",
    "\n",
    "# The data and plot to use                                      \n",
    "no_nans[['Season','Counts']][0:65000].boxplot(by = 'Season')\n",
    "\n",
    "# # x-axis label\n",
    "# plt.xlabel('Season')\n",
    "\n",
    "# #y-axis label\n",
    "# plt.ylabel('Mean Counts')\n",
    "\n",
    "# #figure title\n",
    "# title(\"Pedestrian Counts per Season\")\n",
    "\n",
    "# #If you want to SAVE your plot, make sure you do it BEFORE you show it in the notebook\n",
    "# #plt.savefig('SeasonsBoxplot.png', dpi=300)\n",
    "\n",
    "#Generating an image\n",
    "plt.show()"
   ]
  },
  {
   "cell_type": "markdown",
   "metadata": {},
   "source": [
    "## Histograms\n",
    "\n",
    "Histograms let you observe the distribution of your (continuous) data, which means that it isn't suitable for all data types.\n",
    "\n",
    "One thing we could use to observe, however, are how the average number of pedestrians per month is distributed"
   ]
  },
  {
   "cell_type": "code",
   "execution_count": null,
   "metadata": {},
   "outputs": [],
   "source": [
    "#plt.hist takes the data you want to plot\n",
    "plt.hist(no_nans.groupby(by = \"Month\").mean().Counts, bins = 12, normed = False)\n",
    "\n",
    "#specifying the x-axis label\n",
    "plt.xlabel('Mean Pedestrian Counts')\n",
    "\n",
    "# the y-axis label\n",
    "plt.ylabel('Frequency')\n",
    "\n",
    "#Generating an image\n",
    "plt.show()\n"
   ]
  },
  {
   "cell_type": "markdown",
   "metadata": {},
   "source": [
    "## ScatterPlots\n",
    "\n",
    "Scatter plots also allow you observe the relationship between two conditions within your data. This works best when you have two continuous variables. With the use of colours and shapes, you can also observe how certain conditions cluster throughout this relationship."
   ]
  },
  {
   "cell_type": "code",
   "execution_count": null,
   "metadata": {},
   "outputs": [],
   "source": [
    "no_nans.plot(kind='scatter', x = \"Counts\", y = \"Month\")\n",
    "\n",
    "plt.show()"
   ]
  },
  {
   "cell_type": "markdown",
   "metadata": {},
   "source": [
    "Unfortunately we don't actually have two continuous variables within this dataset, so our scatter plot sorts according to their discrete categories.\n",
    "\n",
    "Instead, let's try reading in the metadata for the sensor location, in the \"pedestrian_sensor_locations.csv\" file.\n",
    "\n",
    "Tihs file contains latitude and longitude data, and would show a more ideal scatterplot projection."
   ]
  },
  {
   "cell_type": "code",
   "execution_count": null,
   "metadata": {},
   "outputs": [],
   "source": [
    "sensorLt = pd.read_csv(\"pedestrian_sensor_locations.csv\")\n",
    "sensorLt.head()"
   ]
  },
  {
   "cell_type": "code",
   "execution_count": null,
   "metadata": {},
   "outputs": [],
   "source": [
    "# Setting up a list of \"area\" values, scaled according to the mean pedestrian counts for each location\n",
    "\n",
    "# This lets us create a size scale for our scatter plot points based on the proportion of pedestrians at each location\n",
    "area = (pdsn.groupby(\"Location\").mean().Counts)/(pdsn.groupby(\"Location\").mean().Counts.max()) * 100\n",
    "\n",
    "sensorLt.plot(kind='scatter', x = \"Latitude\", y = \"Longitude\", s = area)\n",
    "\n",
    "plt.show()"
   ]
  },
  {
   "cell_type": "code",
   "execution_count": null,
   "metadata": {},
   "outputs": [],
   "source": []
  },
  {
   "cell_type": "code",
   "execution_count": null,
   "metadata": {},
   "outputs": [],
   "source": []
  },
  {
   "cell_type": "markdown",
   "metadata": {},
   "source": [
    "# Summary\n",
    "\n",
    "I hope this has been an informative, although limited, introduction into the plotting and functional capabilites of the Pandas library. There are still many things you can learn, and many other ways to use it. If you're stuck, don't be afraid to throw as many key words into Google Overlord as possible, and hope that the people at StackOverflow have been kind enough (and kind) to answer a similar question.\n",
    "\n",
    "To keep you going on your journey, here are a few tutorials or Pandas-based problem sets you might like to use to practice:  \n",
    "* [Github Repo 1](https://github.com/guipsamora/pandas_exercises)\n",
    "* [Github Repo 2](https://github.com/ajcr/100-pandas-puzzles) (some of these might seem familiar)\n",
    "* [10 minutes to Pandas](http://pandas.pydata.org/pandas-docs/version/0.17.0/10min.html)\n",
    "* [Essential Basic Functionality](http://pandas.pydata.org/pandas-docs/version/0.17.0/basics.html)\n",
    "* [Pandas Dev recommended tutorials](http://pandas.pydata.org/pandas-docs/stable/tutorials.html)\n",
    "\n",
    "Follow us on Twitter and Eventbrite to keep up-to-date on new and up-coming trainings\n",
    "- [@ResPlat](https://twitter.com/resplat)\n",
    "- [All currently planned Eventbrite trainings](https://www.eventbrite.com.au/o/research-platforms-services-10600096884)"
   ]
  },
  {
   "cell_type": "code",
   "execution_count": null,
   "metadata": {},
   "outputs": [],
   "source": []
  }
 ],
 "metadata": {
  "kernelspec": {
   "display_name": "Python 3",
   "language": "python",
   "name": "python3"
  },
  "language_info": {
   "codemirror_mode": {
    "name": "ipython",
    "version": 3
   },
   "file_extension": ".py",
   "mimetype": "text/x-python",
   "name": "python",
   "nbconvert_exporter": "python",
   "pygments_lexer": "ipython3",
   "version": "3.6.1"
  },
  "toc": {
   "colors": {
    "hover_highlight": "#DAA520",
    "navigate_num": "#000000",
    "navigate_text": "#333333",
    "running_highlight": "#FF0000",
    "selected_highlight": "#FFD700",
    "sidebar_border": "#EEEEEE",
    "wrapper_background": "#FFFFFF"
   },
   "moveMenuLeft": true,
   "nav_menu": {
    "height": "512px",
    "width": "252px"
   },
   "navigate_menu": true,
   "number_sections": true,
   "sideBar": true,
   "threshold": 4,
   "toc_cell": false,
   "toc_position": {
    "height": "502px",
    "left": "0px",
    "right": "1131px",
    "top": "135px",
    "width": "235px"
   },
   "toc_section_display": "block",
   "toc_window_display": true,
   "widenNotebook": false
  },
  "varInspector": {
   "cols": {
    "lenName": 16,
    "lenType": 16,
    "lenVar": 40
   },
   "kernels_config": {
    "python": {
     "delete_cmd_postfix": "",
     "delete_cmd_prefix": "del ",
     "library": "var_list.py",
     "varRefreshCmd": "print(var_dic_list())"
    },
    "r": {
     "delete_cmd_postfix": ") ",
     "delete_cmd_prefix": "rm(",
     "library": "var_list.r",
     "varRefreshCmd": "cat(var_dic_list()) "
    }
   },
   "types_to_exclude": [
    "module",
    "function",
    "builtin_function_or_method",
    "instance",
    "_Feature"
   ],
   "window_display": false
  }
 },
 "nbformat": 4,
 "nbformat_minor": 2
}
