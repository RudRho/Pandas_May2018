{
 "cells": [
  {
   "cell_type": "markdown",
   "metadata": {},
   "source": [
    "# Introduction to Pandas\n",
    "\n",
    "This workshop will be focused on the exploration, cleaning and basic visualisation of a prepared set of sample data - the Melbourne CBD Pedestrian Crossing Data. If you have not already downloaded this data from the [Github](https://github.com/resbaz/Pandas_May2018/blob/master/pedestrian_counts.zip), please do so now, and place this data file in the same folder as this jupyter notebook. And remember, please unzip your folder before trying to use it!\n",
    "\n",
    "## Learning objectives\n",
    "\n",
    "Throughout this session we're going to be teaching you a range of tools and skills related to cleaning, manipulation and visualising large datasets. Using the pandas package, we can read in and manipulate large spreadsheets of data, and matplotlib lets you visualise these datasets in a useable, customisable format.\n",
    "\n",
    "The three over-arching themes I'll be taking you through today are:\n",
    "\n",
    "- Data examination\n",
    "- Dataframe manipulation\n",
    "- Plotting your data with pyplot\n"
   ]
  },
  {
   "cell_type": "markdown",
   "metadata": {},
   "source": [
    "## Setting Up\n",
    "\n",
    "First, we need to import Python's *pandas*, *matplotlib* and *numpy* packages, and then use inline plotting \"magic\" command so that all plots generated will appear within this notebook instead of in a new browser tab.\n",
    "\n",
    "While numpy isn't directly related to this course, it's handy for generating random values, which will be useful when learning how to create your own dataframe"
   ]
  },
  {
   "cell_type": "code",
   "execution_count": 1,
   "metadata": {},
   "outputs": [],
   "source": [
    "import pandas as pd\n",
    "import numpy as np\n",
    "import matplotlib as mpl\n",
    "import matplotlib.pyplot as plt\n",
    "mpl.style.use('ggplot')"
   ]
  },
  {
   "cell_type": "code",
   "execution_count": 2,
   "metadata": {},
   "outputs": [
    {
     "name": "stdout",
     "output_type": "stream",
     "text": [
      "Populating the interactive namespace from numpy and matplotlib\n"
     ]
    }
   ],
   "source": [
    "%pylab inline"
   ]
  },
  {
   "cell_type": "markdown",
   "metadata": {},
   "source": [
    "## A Basic Pandas Introduction\n",
    "\n",
    "- creating your own dataframe\n",
    "    - the \"series\" object\n",
    "- subsetting columns\n",
    "- subsetting rows\n",
    "    - `head()` and `tail()`\n",
    "    - slicing\n",
    "    - `loc` vs `iloc`\n"
   ]
  },
  {
   "cell_type": "markdown",
   "metadata": {},
   "source": [
    "### Creating a Dataframe\n",
    "\n",
    "A Pandas dataframe can be thought of as a collection of lists (of equal length), where each list makes up a column inside your dateframe. \n",
    "\n",
    "The key difference between a list and a Pandas column though, is that every single item inside your column _must be of the same data type_. If you have a column of integers, and a single string value, like this, `[1,2,3,4,'seven']`, then every single value inside your column is going to be a string-type.\n",
    "\n",
    "Instead of using a list - which can take any type of values -, Pandas performs this type-coercion by using a data type called a Series."
   ]
  },
  {
   "cell_type": "code",
   "execution_count": 8,
   "metadata": {},
   "outputs": [
    {
     "data": {
      "text/plain": [
       "0    1\n",
       "1    2\n",
       "2    -\n",
       "3    -\n",
       "4    5\n",
       "dtype: object"
      ]
     },
     "execution_count": 8,
     "metadata": {},
     "output_type": "execute_result"
    }
   ],
   "source": [
    "pd.Series([1,2,'-','-',5])"
   ]
  },
  {
   "cell_type": "markdown",
   "metadata": {},
   "source": [
    "Each \"Series\" object can be thought of as it's own miniature dataframe. So our previous example would be a dataframe with one column, and 5 rows.\n",
    "\n",
    "Therefore, when creating a dataframe, you actually have to create it as a collection of these \"Series\" objects"
   ]
  },
  {
   "cell_type": "code",
   "execution_count": 9,
   "metadata": {},
   "outputs": [],
   "source": [
    "# np.random.randn(), index = [47,48,49,1,2,3]\n",
    "df = pd.DataFrame({\"A\":['a','b','c','d','e','f'],\n",
    "                   \"B\":np.random.randn(6),\n",
    "                   \"C\": [1,7,20,59,30,40]},\n",
    "                  index = [47,48,49,1,2,3]\n",
    "    )"
   ]
  },
  {
   "cell_type": "code",
   "execution_count": 10,
   "metadata": {
    "scrolled": true
   },
   "outputs": [
    {
     "data": {
      "text/html": [
       "<div>\n",
       "<style>\n",
       "    .dataframe thead tr:only-child th {\n",
       "        text-align: right;\n",
       "    }\n",
       "\n",
       "    .dataframe thead th {\n",
       "        text-align: left;\n",
       "    }\n",
       "\n",
       "    .dataframe tbody tr th {\n",
       "        vertical-align: top;\n",
       "    }\n",
       "</style>\n",
       "<table border=\"1\" class=\"dataframe\">\n",
       "  <thead>\n",
       "    <tr style=\"text-align: right;\">\n",
       "      <th></th>\n",
       "      <th>A</th>\n",
       "      <th>B</th>\n",
       "      <th>C</th>\n",
       "    </tr>\n",
       "  </thead>\n",
       "  <tbody>\n",
       "    <tr>\n",
       "      <th>47</th>\n",
       "      <td>a</td>\n",
       "      <td>-0.867472</td>\n",
       "      <td>1</td>\n",
       "    </tr>\n",
       "    <tr>\n",
       "      <th>48</th>\n",
       "      <td>b</td>\n",
       "      <td>-0.656514</td>\n",
       "      <td>7</td>\n",
       "    </tr>\n",
       "    <tr>\n",
       "      <th>49</th>\n",
       "      <td>c</td>\n",
       "      <td>-1.316669</td>\n",
       "      <td>20</td>\n",
       "    </tr>\n",
       "    <tr>\n",
       "      <th>1</th>\n",
       "      <td>d</td>\n",
       "      <td>0.137304</td>\n",
       "      <td>59</td>\n",
       "    </tr>\n",
       "    <tr>\n",
       "      <th>2</th>\n",
       "      <td>e</td>\n",
       "      <td>-0.872810</td>\n",
       "      <td>30</td>\n",
       "    </tr>\n",
       "    <tr>\n",
       "      <th>3</th>\n",
       "      <td>f</td>\n",
       "      <td>-0.073563</td>\n",
       "      <td>40</td>\n",
       "    </tr>\n",
       "  </tbody>\n",
       "</table>\n",
       "</div>"
      ],
      "text/plain": [
       "    A         B   C\n",
       "47  a -0.867472   1\n",
       "48  b -0.656514   7\n",
       "49  c -1.316669  20\n",
       "1   d  0.137304  59\n",
       "2   e -0.872810  30\n",
       "3   f -0.073563  40"
      ]
     },
     "execution_count": 10,
     "metadata": {},
     "output_type": "execute_result"
    }
   ],
   "source": [
    "df"
   ]
  },
  {
   "cell_type": "markdown",
   "metadata": {},
   "source": [
    "#### Subsetting Columns\n",
    "\n",
    "To select a particular column in your dataframe, you can use one of two options:\n",
    "\n",
    "1) Calling the column as an \"attribute\"\n",
    "    - `df.columnName`\n",
    "\n",
    "2) Subsetting the dataframe\n",
    "    - `df['columnName']`\n",
    "\n",
    "The first option is useful for some functions, but the second form is essential if you want to call more than column at once. You do this by inserting a list, [], of column names, instead a single column.\n",
    "\n",
    "For example: `df[[\"Column1\", \"Column2\", ... , etc]]`\n",
    "\n",
    "We're first going to try this on our toy dataset from earlier, for ease of use."
   ]
  },
  {
   "cell_type": "code",
   "execution_count": 11,
   "metadata": {},
   "outputs": [
    {
     "data": {
      "text/html": [
       "<div>\n",
       "<style>\n",
       "    .dataframe thead tr:only-child th {\n",
       "        text-align: right;\n",
       "    }\n",
       "\n",
       "    .dataframe thead th {\n",
       "        text-align: left;\n",
       "    }\n",
       "\n",
       "    .dataframe tbody tr th {\n",
       "        vertical-align: top;\n",
       "    }\n",
       "</style>\n",
       "<table border=\"1\" class=\"dataframe\">\n",
       "  <thead>\n",
       "    <tr style=\"text-align: right;\">\n",
       "      <th></th>\n",
       "      <th>A</th>\n",
       "      <th>B</th>\n",
       "      <th>C</th>\n",
       "    </tr>\n",
       "  </thead>\n",
       "  <tbody>\n",
       "    <tr>\n",
       "      <th>47</th>\n",
       "      <td>a</td>\n",
       "      <td>-0.867472</td>\n",
       "      <td>1</td>\n",
       "    </tr>\n",
       "    <tr>\n",
       "      <th>48</th>\n",
       "      <td>b</td>\n",
       "      <td>-0.656514</td>\n",
       "      <td>7</td>\n",
       "    </tr>\n",
       "    <tr>\n",
       "      <th>49</th>\n",
       "      <td>c</td>\n",
       "      <td>-1.316669</td>\n",
       "      <td>20</td>\n",
       "    </tr>\n",
       "    <tr>\n",
       "      <th>1</th>\n",
       "      <td>d</td>\n",
       "      <td>0.137304</td>\n",
       "      <td>59</td>\n",
       "    </tr>\n",
       "    <tr>\n",
       "      <th>2</th>\n",
       "      <td>e</td>\n",
       "      <td>-0.872810</td>\n",
       "      <td>30</td>\n",
       "    </tr>\n",
       "    <tr>\n",
       "      <th>3</th>\n",
       "      <td>f</td>\n",
       "      <td>-0.073563</td>\n",
       "      <td>40</td>\n",
       "    </tr>\n",
       "  </tbody>\n",
       "</table>\n",
       "</div>"
      ],
      "text/plain": [
       "    A         B   C\n",
       "47  a -0.867472   1\n",
       "48  b -0.656514   7\n",
       "49  c -1.316669  20\n",
       "1   d  0.137304  59\n",
       "2   e -0.872810  30\n",
       "3   f -0.073563  40"
      ]
     },
     "execution_count": 11,
     "metadata": {},
     "output_type": "execute_result"
    }
   ],
   "source": [
    "df"
   ]
  },
  {
   "cell_type": "code",
   "execution_count": 12,
   "metadata": {},
   "outputs": [
    {
     "data": {
      "text/plain": [
       "47    a\n",
       "48    b\n",
       "49    c\n",
       "1     d\n",
       "2     e\n",
       "3     f\n",
       "Name: A, dtype: object"
      ]
     },
     "execution_count": 12,
     "metadata": {},
     "output_type": "execute_result"
    }
   ],
   "source": [
    "# As a subset\n",
    "df['A']"
   ]
  },
  {
   "cell_type": "code",
   "execution_count": 13,
   "metadata": {
    "scrolled": true
   },
   "outputs": [
    {
     "data": {
      "text/plain": [
       "47   -0.867472\n",
       "48   -0.656514\n",
       "49   -1.316669\n",
       "1     0.137304\n",
       "2    -0.872810\n",
       "3    -0.073563\n",
       "Name: B, dtype: float64"
      ]
     },
     "execution_count": 13,
     "metadata": {},
     "output_type": "execute_result"
    }
   ],
   "source": [
    "#As an attribute\n",
    "df.B"
   ]
  },
  {
   "cell_type": "code",
   "execution_count": 14,
   "metadata": {
    "scrolled": true
   },
   "outputs": [
    {
     "data": {
      "text/html": [
       "<div>\n",
       "<style>\n",
       "    .dataframe thead tr:only-child th {\n",
       "        text-align: right;\n",
       "    }\n",
       "\n",
       "    .dataframe thead th {\n",
       "        text-align: left;\n",
       "    }\n",
       "\n",
       "    .dataframe tbody tr th {\n",
       "        vertical-align: top;\n",
       "    }\n",
       "</style>\n",
       "<table border=\"1\" class=\"dataframe\">\n",
       "  <thead>\n",
       "    <tr style=\"text-align: right;\">\n",
       "      <th></th>\n",
       "      <th>A</th>\n",
       "      <th>B</th>\n",
       "    </tr>\n",
       "  </thead>\n",
       "  <tbody>\n",
       "    <tr>\n",
       "      <th>47</th>\n",
       "      <td>a</td>\n",
       "      <td>-0.867472</td>\n",
       "    </tr>\n",
       "    <tr>\n",
       "      <th>48</th>\n",
       "      <td>b</td>\n",
       "      <td>-0.656514</td>\n",
       "    </tr>\n",
       "    <tr>\n",
       "      <th>49</th>\n",
       "      <td>c</td>\n",
       "      <td>-1.316669</td>\n",
       "    </tr>\n",
       "    <tr>\n",
       "      <th>1</th>\n",
       "      <td>d</td>\n",
       "      <td>0.137304</td>\n",
       "    </tr>\n",
       "    <tr>\n",
       "      <th>2</th>\n",
       "      <td>e</td>\n",
       "      <td>-0.872810</td>\n",
       "    </tr>\n",
       "    <tr>\n",
       "      <th>3</th>\n",
       "      <td>f</td>\n",
       "      <td>-0.073563</td>\n",
       "    </tr>\n",
       "  </tbody>\n",
       "</table>\n",
       "</div>"
      ],
      "text/plain": [
       "    A         B\n",
       "47  a -0.867472\n",
       "48  b -0.656514\n",
       "49  c -1.316669\n",
       "1   d  0.137304\n",
       "2   e -0.872810\n",
       "3   f -0.073563"
      ]
     },
     "execution_count": 14,
     "metadata": {},
     "output_type": "execute_result"
    }
   ],
   "source": [
    "# Try subsetting the first two columns\n",
    "df[['A','B']]"
   ]
  },
  {
   "cell_type": "code",
   "execution_count": 18,
   "metadata": {
    "scrolled": true
   },
   "outputs": [],
   "source": [
    "# What happens if you change the order around?\n",
    "df[['B',\"A\"]]"
   ]
  },
  {
   "cell_type": "code",
   "execution_count": 16,
   "metadata": {},
   "outputs": [
    {
     "ename": "KeyError",
     "evalue": "'a'",
     "output_type": "error",
     "traceback": [
      "\u001b[1;31m---------------------------------------------------------------------------\u001b[0m",
      "\u001b[1;31mKeyError\u001b[0m                                  Traceback (most recent call last)",
      "\u001b[1;32mC:\\Users\\Kahli\\Anaconda2\\envs\\python36\\lib\\site-packages\\pandas\\core\\indexes\\base.py\u001b[0m in \u001b[0;36mget_loc\u001b[1;34m(self, key, method, tolerance)\u001b[0m\n\u001b[0;32m   2392\u001b[0m             \u001b[1;32mtry\u001b[0m\u001b[1;33m:\u001b[0m\u001b[1;33m\u001b[0m\u001b[0m\n\u001b[1;32m-> 2393\u001b[1;33m                 \u001b[1;32mreturn\u001b[0m \u001b[0mself\u001b[0m\u001b[1;33m.\u001b[0m\u001b[0m_engine\u001b[0m\u001b[1;33m.\u001b[0m\u001b[0mget_loc\u001b[0m\u001b[1;33m(\u001b[0m\u001b[0mkey\u001b[0m\u001b[1;33m)\u001b[0m\u001b[1;33m\u001b[0m\u001b[0m\n\u001b[0m\u001b[0;32m   2394\u001b[0m             \u001b[1;32mexcept\u001b[0m \u001b[0mKeyError\u001b[0m\u001b[1;33m:\u001b[0m\u001b[1;33m\u001b[0m\u001b[0m\n",
      "\u001b[1;32mpandas\\_libs\\index.pyx\u001b[0m in \u001b[0;36mpandas._libs.index.IndexEngine.get_loc (pandas\\_libs\\index.c:5239)\u001b[1;34m()\u001b[0m\n",
      "\u001b[1;32mpandas\\_libs\\index.pyx\u001b[0m in \u001b[0;36mpandas._libs.index.IndexEngine.get_loc (pandas\\_libs\\index.c:5085)\u001b[1;34m()\u001b[0m\n",
      "\u001b[1;32mpandas\\_libs\\hashtable_class_helper.pxi\u001b[0m in \u001b[0;36mpandas._libs.hashtable.PyObjectHashTable.get_item (pandas\\_libs\\hashtable.c:20405)\u001b[1;34m()\u001b[0m\n",
      "\u001b[1;32mpandas\\_libs\\hashtable_class_helper.pxi\u001b[0m in \u001b[0;36mpandas._libs.hashtable.PyObjectHashTable.get_item (pandas\\_libs\\hashtable.c:20359)\u001b[1;34m()\u001b[0m\n",
      "\u001b[1;31mKeyError\u001b[0m: 'a'",
      "\nDuring handling of the above exception, another exception occurred:\n",
      "\u001b[1;31mKeyError\u001b[0m                                  Traceback (most recent call last)",
      "\u001b[1;32m<ipython-input-16-6efb32e0bb1d>\u001b[0m in \u001b[0;36m<module>\u001b[1;34m()\u001b[0m\n\u001b[0;32m      1\u001b[0m \u001b[1;31m# What about a column that doesn't exist?\u001b[0m\u001b[1;33m\u001b[0m\u001b[1;33m\u001b[0m\u001b[0m\n\u001b[1;32m----> 2\u001b[1;33m \u001b[0mdf\u001b[0m\u001b[1;33m[\u001b[0m\u001b[1;34m'a'\u001b[0m\u001b[1;33m]\u001b[0m\u001b[1;33m\u001b[0m\u001b[0m\n\u001b[0m",
      "\u001b[1;32mC:\\Users\\Kahli\\Anaconda2\\envs\\python36\\lib\\site-packages\\pandas\\core\\frame.py\u001b[0m in \u001b[0;36m__getitem__\u001b[1;34m(self, key)\u001b[0m\n\u001b[0;32m   2060\u001b[0m             \u001b[1;32mreturn\u001b[0m \u001b[0mself\u001b[0m\u001b[1;33m.\u001b[0m\u001b[0m_getitem_multilevel\u001b[0m\u001b[1;33m(\u001b[0m\u001b[0mkey\u001b[0m\u001b[1;33m)\u001b[0m\u001b[1;33m\u001b[0m\u001b[0m\n\u001b[0;32m   2061\u001b[0m         \u001b[1;32melse\u001b[0m\u001b[1;33m:\u001b[0m\u001b[1;33m\u001b[0m\u001b[0m\n\u001b[1;32m-> 2062\u001b[1;33m             \u001b[1;32mreturn\u001b[0m \u001b[0mself\u001b[0m\u001b[1;33m.\u001b[0m\u001b[0m_getitem_column\u001b[0m\u001b[1;33m(\u001b[0m\u001b[0mkey\u001b[0m\u001b[1;33m)\u001b[0m\u001b[1;33m\u001b[0m\u001b[0m\n\u001b[0m\u001b[0;32m   2063\u001b[0m \u001b[1;33m\u001b[0m\u001b[0m\n\u001b[0;32m   2064\u001b[0m     \u001b[1;32mdef\u001b[0m \u001b[0m_getitem_column\u001b[0m\u001b[1;33m(\u001b[0m\u001b[0mself\u001b[0m\u001b[1;33m,\u001b[0m \u001b[0mkey\u001b[0m\u001b[1;33m)\u001b[0m\u001b[1;33m:\u001b[0m\u001b[1;33m\u001b[0m\u001b[0m\n",
      "\u001b[1;32mC:\\Users\\Kahli\\Anaconda2\\envs\\python36\\lib\\site-packages\\pandas\\core\\frame.py\u001b[0m in \u001b[0;36m_getitem_column\u001b[1;34m(self, key)\u001b[0m\n\u001b[0;32m   2067\u001b[0m         \u001b[1;31m# get column\u001b[0m\u001b[1;33m\u001b[0m\u001b[1;33m\u001b[0m\u001b[0m\n\u001b[0;32m   2068\u001b[0m         \u001b[1;32mif\u001b[0m \u001b[0mself\u001b[0m\u001b[1;33m.\u001b[0m\u001b[0mcolumns\u001b[0m\u001b[1;33m.\u001b[0m\u001b[0mis_unique\u001b[0m\u001b[1;33m:\u001b[0m\u001b[1;33m\u001b[0m\u001b[0m\n\u001b[1;32m-> 2069\u001b[1;33m             \u001b[1;32mreturn\u001b[0m \u001b[0mself\u001b[0m\u001b[1;33m.\u001b[0m\u001b[0m_get_item_cache\u001b[0m\u001b[1;33m(\u001b[0m\u001b[0mkey\u001b[0m\u001b[1;33m)\u001b[0m\u001b[1;33m\u001b[0m\u001b[0m\n\u001b[0m\u001b[0;32m   2070\u001b[0m \u001b[1;33m\u001b[0m\u001b[0m\n\u001b[0;32m   2071\u001b[0m         \u001b[1;31m# duplicate columns & possible reduce dimensionality\u001b[0m\u001b[1;33m\u001b[0m\u001b[1;33m\u001b[0m\u001b[0m\n",
      "\u001b[1;32mC:\\Users\\Kahli\\Anaconda2\\envs\\python36\\lib\\site-packages\\pandas\\core\\generic.py\u001b[0m in \u001b[0;36m_get_item_cache\u001b[1;34m(self, item)\u001b[0m\n\u001b[0;32m   1532\u001b[0m         \u001b[0mres\u001b[0m \u001b[1;33m=\u001b[0m \u001b[0mcache\u001b[0m\u001b[1;33m.\u001b[0m\u001b[0mget\u001b[0m\u001b[1;33m(\u001b[0m\u001b[0mitem\u001b[0m\u001b[1;33m)\u001b[0m\u001b[1;33m\u001b[0m\u001b[0m\n\u001b[0;32m   1533\u001b[0m         \u001b[1;32mif\u001b[0m \u001b[0mres\u001b[0m \u001b[1;32mis\u001b[0m \u001b[1;32mNone\u001b[0m\u001b[1;33m:\u001b[0m\u001b[1;33m\u001b[0m\u001b[0m\n\u001b[1;32m-> 1534\u001b[1;33m             \u001b[0mvalues\u001b[0m \u001b[1;33m=\u001b[0m \u001b[0mself\u001b[0m\u001b[1;33m.\u001b[0m\u001b[0m_data\u001b[0m\u001b[1;33m.\u001b[0m\u001b[0mget\u001b[0m\u001b[1;33m(\u001b[0m\u001b[0mitem\u001b[0m\u001b[1;33m)\u001b[0m\u001b[1;33m\u001b[0m\u001b[0m\n\u001b[0m\u001b[0;32m   1535\u001b[0m             \u001b[0mres\u001b[0m \u001b[1;33m=\u001b[0m \u001b[0mself\u001b[0m\u001b[1;33m.\u001b[0m\u001b[0m_box_item_values\u001b[0m\u001b[1;33m(\u001b[0m\u001b[0mitem\u001b[0m\u001b[1;33m,\u001b[0m \u001b[0mvalues\u001b[0m\u001b[1;33m)\u001b[0m\u001b[1;33m\u001b[0m\u001b[0m\n\u001b[0;32m   1536\u001b[0m             \u001b[0mcache\u001b[0m\u001b[1;33m[\u001b[0m\u001b[0mitem\u001b[0m\u001b[1;33m]\u001b[0m \u001b[1;33m=\u001b[0m \u001b[0mres\u001b[0m\u001b[1;33m\u001b[0m\u001b[0m\n",
      "\u001b[1;32mC:\\Users\\Kahli\\Anaconda2\\envs\\python36\\lib\\site-packages\\pandas\\core\\internals.py\u001b[0m in \u001b[0;36mget\u001b[1;34m(self, item, fastpath)\u001b[0m\n\u001b[0;32m   3588\u001b[0m \u001b[1;33m\u001b[0m\u001b[0m\n\u001b[0;32m   3589\u001b[0m             \u001b[1;32mif\u001b[0m \u001b[1;32mnot\u001b[0m \u001b[0misnull\u001b[0m\u001b[1;33m(\u001b[0m\u001b[0mitem\u001b[0m\u001b[1;33m)\u001b[0m\u001b[1;33m:\u001b[0m\u001b[1;33m\u001b[0m\u001b[0m\n\u001b[1;32m-> 3590\u001b[1;33m                 \u001b[0mloc\u001b[0m \u001b[1;33m=\u001b[0m \u001b[0mself\u001b[0m\u001b[1;33m.\u001b[0m\u001b[0mitems\u001b[0m\u001b[1;33m.\u001b[0m\u001b[0mget_loc\u001b[0m\u001b[1;33m(\u001b[0m\u001b[0mitem\u001b[0m\u001b[1;33m)\u001b[0m\u001b[1;33m\u001b[0m\u001b[0m\n\u001b[0m\u001b[0;32m   3591\u001b[0m             \u001b[1;32melse\u001b[0m\u001b[1;33m:\u001b[0m\u001b[1;33m\u001b[0m\u001b[0m\n\u001b[0;32m   3592\u001b[0m                 \u001b[0mindexer\u001b[0m \u001b[1;33m=\u001b[0m \u001b[0mnp\u001b[0m\u001b[1;33m.\u001b[0m\u001b[0marange\u001b[0m\u001b[1;33m(\u001b[0m\u001b[0mlen\u001b[0m\u001b[1;33m(\u001b[0m\u001b[0mself\u001b[0m\u001b[1;33m.\u001b[0m\u001b[0mitems\u001b[0m\u001b[1;33m)\u001b[0m\u001b[1;33m)\u001b[0m\u001b[1;33m[\u001b[0m\u001b[0misnull\u001b[0m\u001b[1;33m(\u001b[0m\u001b[0mself\u001b[0m\u001b[1;33m.\u001b[0m\u001b[0mitems\u001b[0m\u001b[1;33m)\u001b[0m\u001b[1;33m]\u001b[0m\u001b[1;33m\u001b[0m\u001b[0m\n",
      "\u001b[1;32mC:\\Users\\Kahli\\Anaconda2\\envs\\python36\\lib\\site-packages\\pandas\\core\\indexes\\base.py\u001b[0m in \u001b[0;36mget_loc\u001b[1;34m(self, key, method, tolerance)\u001b[0m\n\u001b[0;32m   2393\u001b[0m                 \u001b[1;32mreturn\u001b[0m \u001b[0mself\u001b[0m\u001b[1;33m.\u001b[0m\u001b[0m_engine\u001b[0m\u001b[1;33m.\u001b[0m\u001b[0mget_loc\u001b[0m\u001b[1;33m(\u001b[0m\u001b[0mkey\u001b[0m\u001b[1;33m)\u001b[0m\u001b[1;33m\u001b[0m\u001b[0m\n\u001b[0;32m   2394\u001b[0m             \u001b[1;32mexcept\u001b[0m \u001b[0mKeyError\u001b[0m\u001b[1;33m:\u001b[0m\u001b[1;33m\u001b[0m\u001b[0m\n\u001b[1;32m-> 2395\u001b[1;33m                 \u001b[1;32mreturn\u001b[0m \u001b[0mself\u001b[0m\u001b[1;33m.\u001b[0m\u001b[0m_engine\u001b[0m\u001b[1;33m.\u001b[0m\u001b[0mget_loc\u001b[0m\u001b[1;33m(\u001b[0m\u001b[0mself\u001b[0m\u001b[1;33m.\u001b[0m\u001b[0m_maybe_cast_indexer\u001b[0m\u001b[1;33m(\u001b[0m\u001b[0mkey\u001b[0m\u001b[1;33m)\u001b[0m\u001b[1;33m)\u001b[0m\u001b[1;33m\u001b[0m\u001b[0m\n\u001b[0m\u001b[0;32m   2396\u001b[0m \u001b[1;33m\u001b[0m\u001b[0m\n\u001b[0;32m   2397\u001b[0m         \u001b[0mindexer\u001b[0m \u001b[1;33m=\u001b[0m \u001b[0mself\u001b[0m\u001b[1;33m.\u001b[0m\u001b[0mget_indexer\u001b[0m\u001b[1;33m(\u001b[0m\u001b[1;33m[\u001b[0m\u001b[0mkey\u001b[0m\u001b[1;33m]\u001b[0m\u001b[1;33m,\u001b[0m \u001b[0mmethod\u001b[0m\u001b[1;33m=\u001b[0m\u001b[0mmethod\u001b[0m\u001b[1;33m,\u001b[0m \u001b[0mtolerance\u001b[0m\u001b[1;33m=\u001b[0m\u001b[0mtolerance\u001b[0m\u001b[1;33m)\u001b[0m\u001b[1;33m\u001b[0m\u001b[0m\n",
      "\u001b[1;32mpandas\\_libs\\index.pyx\u001b[0m in \u001b[0;36mpandas._libs.index.IndexEngine.get_loc (pandas\\_libs\\index.c:5239)\u001b[1;34m()\u001b[0m\n",
      "\u001b[1;32mpandas\\_libs\\index.pyx\u001b[0m in \u001b[0;36mpandas._libs.index.IndexEngine.get_loc (pandas\\_libs\\index.c:5085)\u001b[1;34m()\u001b[0m\n",
      "\u001b[1;32mpandas\\_libs\\hashtable_class_helper.pxi\u001b[0m in \u001b[0;36mpandas._libs.hashtable.PyObjectHashTable.get_item (pandas\\_libs\\hashtable.c:20405)\u001b[1;34m()\u001b[0m\n",
      "\u001b[1;32mpandas\\_libs\\hashtable_class_helper.pxi\u001b[0m in \u001b[0;36mpandas._libs.hashtable.PyObjectHashTable.get_item (pandas\\_libs\\hashtable.c:20359)\u001b[1;34m()\u001b[0m\n",
      "\u001b[1;31mKeyError\u001b[0m: 'a'"
     ]
    }
   ],
   "source": [
    "# What about a column that doesn't exist?\n",
    "df['a']"
   ]
  },
  {
   "cell_type": "markdown",
   "metadata": {},
   "source": [
    "#### Slicing\n",
    "\n",
    "Sometimes you need to examine specific rows and columns in the middle of your data though. Instead, you can use index slicing.\n",
    "\n",
    "Slicing works similarly to how you might slice a string, or a list. You simply call the indexes of the rows you want from the dataframe: `df[rowNumbers]`"
   ]
  },
  {
   "cell_type": "code",
   "execution_count": 21,
   "metadata": {},
   "outputs": [
    {
     "data": {
      "text/html": [
       "<div>\n",
       "<style>\n",
       "    .dataframe thead tr:only-child th {\n",
       "        text-align: right;\n",
       "    }\n",
       "\n",
       "    .dataframe thead th {\n",
       "        text-align: left;\n",
       "    }\n",
       "\n",
       "    .dataframe tbody tr th {\n",
       "        vertical-align: top;\n",
       "    }\n",
       "</style>\n",
       "<table border=\"1\" class=\"dataframe\">\n",
       "  <thead>\n",
       "    <tr style=\"text-align: right;\">\n",
       "      <th></th>\n",
       "      <th>A</th>\n",
       "      <th>B</th>\n",
       "      <th>C</th>\n",
       "    </tr>\n",
       "  </thead>\n",
       "  <tbody>\n",
       "    <tr>\n",
       "      <th>49</th>\n",
       "      <td>c</td>\n",
       "      <td>-1.316669</td>\n",
       "      <td>20</td>\n",
       "    </tr>\n",
       "    <tr>\n",
       "      <th>1</th>\n",
       "      <td>d</td>\n",
       "      <td>0.137304</td>\n",
       "      <td>59</td>\n",
       "    </tr>\n",
       "    <tr>\n",
       "      <th>2</th>\n",
       "      <td>e</td>\n",
       "      <td>-0.872810</td>\n",
       "      <td>30</td>\n",
       "    </tr>\n",
       "    <tr>\n",
       "      <th>3</th>\n",
       "      <td>f</td>\n",
       "      <td>-0.073563</td>\n",
       "      <td>40</td>\n",
       "    </tr>\n",
       "  </tbody>\n",
       "</table>\n",
       "</div>"
      ],
      "text/plain": [
       "    A         B   C\n",
       "49  c -1.316669  20\n",
       "1   d  0.137304  59\n",
       "2   e -0.872810  30\n",
       "3   f -0.073563  40"
      ]
     },
     "execution_count": 21,
     "metadata": {},
     "output_type": "execute_result"
    }
   ],
   "source": [
    "df[2:6] # Gives rows 0,1,2"
   ]
  },
  {
   "cell_type": "code",
   "execution_count": 20,
   "metadata": {},
   "outputs": [
    {
     "data": {
      "text/html": [
       "<div>\n",
       "<style>\n",
       "    .dataframe thead tr:only-child th {\n",
       "        text-align: right;\n",
       "    }\n",
       "\n",
       "    .dataframe thead th {\n",
       "        text-align: left;\n",
       "    }\n",
       "\n",
       "    .dataframe tbody tr th {\n",
       "        vertical-align: top;\n",
       "    }\n",
       "</style>\n",
       "<table border=\"1\" class=\"dataframe\">\n",
       "  <thead>\n",
       "    <tr style=\"text-align: right;\">\n",
       "      <th></th>\n",
       "      <th>A</th>\n",
       "      <th>B</th>\n",
       "    </tr>\n",
       "  </thead>\n",
       "  <tbody>\n",
       "    <tr>\n",
       "      <th>47</th>\n",
       "      <td>a</td>\n",
       "      <td>-0.867472</td>\n",
       "    </tr>\n",
       "    <tr>\n",
       "      <th>48</th>\n",
       "      <td>b</td>\n",
       "      <td>-0.656514</td>\n",
       "    </tr>\n",
       "    <tr>\n",
       "      <th>49</th>\n",
       "      <td>c</td>\n",
       "      <td>-1.316669</td>\n",
       "    </tr>\n",
       "  </tbody>\n",
       "</table>\n",
       "</div>"
      ],
      "text/plain": [
       "    A         B\n",
       "47  a -0.867472\n",
       "48  b -0.656514\n",
       "49  c -1.316669"
      ]
     },
     "execution_count": 20,
     "metadata": {},
     "output_type": "execute_result"
    }
   ],
   "source": [
    "#gives rows 0 through 7 of Location and Counts\n",
    "df[[\"A\", \"B\"]][:3]"
   ]
  },
  {
   "cell_type": "markdown",
   "metadata": {},
   "source": [
    "#### `loc` vs `iloc`\n",
    "You can also use `loc` and `iloc` to slice rows and columns.\n",
    "\n",
    "`iloc` is positional based, so only takes integer values that correlate with the row and column numbers you want to subset\n",
    "\n",
    "`loc` is label based, and takes the row and column **labels** as inputs"
   ]
  },
  {
   "cell_type": "code",
   "execution_count": 23,
   "metadata": {},
   "outputs": [
    {
     "data": {
      "text/html": [
       "<div>\n",
       "<style>\n",
       "    .dataframe thead tr:only-child th {\n",
       "        text-align: right;\n",
       "    }\n",
       "\n",
       "    .dataframe thead th {\n",
       "        text-align: left;\n",
       "    }\n",
       "\n",
       "    .dataframe tbody tr th {\n",
       "        vertical-align: top;\n",
       "    }\n",
       "</style>\n",
       "<table border=\"1\" class=\"dataframe\">\n",
       "  <thead>\n",
       "    <tr style=\"text-align: right;\">\n",
       "      <th></th>\n",
       "      <th>A</th>\n",
       "      <th>B</th>\n",
       "    </tr>\n",
       "  </thead>\n",
       "  <tbody>\n",
       "    <tr>\n",
       "      <th>47</th>\n",
       "      <td>a</td>\n",
       "      <td>-0.867472</td>\n",
       "    </tr>\n",
       "    <tr>\n",
       "      <th>48</th>\n",
       "      <td>b</td>\n",
       "      <td>-0.656514</td>\n",
       "    </tr>\n",
       "    <tr>\n",
       "      <th>49</th>\n",
       "      <td>c</td>\n",
       "      <td>-1.316669</td>\n",
       "    </tr>\n",
       "  </tbody>\n",
       "</table>\n",
       "</div>"
      ],
      "text/plain": [
       "    A         B\n",
       "47  a -0.867472\n",
       "48  b -0.656514\n",
       "49  c -1.316669"
      ]
     },
     "execution_count": 23,
     "metadata": {},
     "output_type": "execute_result"
    }
   ],
   "source": [
    "#Using iloc to get rows 0, 1 and 2\n",
    "df.iloc[:3,:2]"
   ]
  },
  {
   "cell_type": "code",
   "execution_count": 26,
   "metadata": {},
   "outputs": [
    {
     "data": {
      "text/html": [
       "<div>\n",
       "<style>\n",
       "    .dataframe thead tr:only-child th {\n",
       "        text-align: right;\n",
       "    }\n",
       "\n",
       "    .dataframe thead th {\n",
       "        text-align: left;\n",
       "    }\n",
       "\n",
       "    .dataframe tbody tr th {\n",
       "        vertical-align: top;\n",
       "    }\n",
       "</style>\n",
       "<table border=\"1\" class=\"dataframe\">\n",
       "  <thead>\n",
       "    <tr style=\"text-align: right;\">\n",
       "      <th></th>\n",
       "      <th>A</th>\n",
       "      <th>B</th>\n",
       "      <th>C</th>\n",
       "    </tr>\n",
       "  </thead>\n",
       "  <tbody>\n",
       "    <tr>\n",
       "      <th>47</th>\n",
       "      <td>a</td>\n",
       "      <td>-0.867472</td>\n",
       "      <td>1</td>\n",
       "    </tr>\n",
       "    <tr>\n",
       "      <th>48</th>\n",
       "      <td>b</td>\n",
       "      <td>-0.656514</td>\n",
       "      <td>7</td>\n",
       "    </tr>\n",
       "    <tr>\n",
       "      <th>49</th>\n",
       "      <td>c</td>\n",
       "      <td>-1.316669</td>\n",
       "      <td>20</td>\n",
       "    </tr>\n",
       "    <tr>\n",
       "      <th>1</th>\n",
       "      <td>d</td>\n",
       "      <td>0.137304</td>\n",
       "      <td>59</td>\n",
       "    </tr>\n",
       "    <tr>\n",
       "      <th>2</th>\n",
       "      <td>e</td>\n",
       "      <td>-0.872810</td>\n",
       "      <td>30</td>\n",
       "    </tr>\n",
       "    <tr>\n",
       "      <th>3</th>\n",
       "      <td>f</td>\n",
       "      <td>-0.073563</td>\n",
       "      <td>40</td>\n",
       "    </tr>\n",
       "  </tbody>\n",
       "</table>\n",
       "</div>"
      ],
      "text/plain": [
       "    A         B   C\n",
       "47  a -0.867472   1\n",
       "48  b -0.656514   7\n",
       "49  c -1.316669  20\n",
       "1   d  0.137304  59\n",
       "2   e -0.872810  30\n",
       "3   f -0.073563  40"
      ]
     },
     "execution_count": 26,
     "metadata": {},
     "output_type": "execute_result"
    }
   ],
   "source": [
    "df"
   ]
  },
  {
   "cell_type": "code",
   "execution_count": 27,
   "metadata": {
    "scrolled": true
   },
   "outputs": [
    {
     "data": {
      "text/html": [
       "<div>\n",
       "<style>\n",
       "    .dataframe thead tr:only-child th {\n",
       "        text-align: right;\n",
       "    }\n",
       "\n",
       "    .dataframe thead th {\n",
       "        text-align: left;\n",
       "    }\n",
       "\n",
       "    .dataframe tbody tr th {\n",
       "        vertical-align: top;\n",
       "    }\n",
       "</style>\n",
       "<table border=\"1\" class=\"dataframe\">\n",
       "  <thead>\n",
       "    <tr style=\"text-align: right;\">\n",
       "      <th></th>\n",
       "      <th>B</th>\n",
       "      <th>C</th>\n",
       "    </tr>\n",
       "  </thead>\n",
       "  <tbody>\n",
       "    <tr>\n",
       "      <th>1</th>\n",
       "      <td>0.137304</td>\n",
       "      <td>59</td>\n",
       "    </tr>\n",
       "    <tr>\n",
       "      <th>2</th>\n",
       "      <td>-0.872810</td>\n",
       "      <td>30</td>\n",
       "    </tr>\n",
       "    <tr>\n",
       "      <th>3</th>\n",
       "      <td>-0.073563</td>\n",
       "      <td>40</td>\n",
       "    </tr>\n",
       "  </tbody>\n",
       "</table>\n",
       "</div>"
      ],
      "text/plain": [
       "          B   C\n",
       "1  0.137304  59\n",
       "2 -0.872810  30\n",
       "3 -0.073563  40"
      ]
     },
     "execution_count": 27,
     "metadata": {},
     "output_type": "execute_result"
    }
   ],
   "source": [
    "# Using loc to get row labels 1, 2 and 3\n",
    "df.loc[1:3,[\"B\",'C']]"
   ]
  },
  {
   "cell_type": "markdown",
   "metadata": {},
   "source": [
    "If you only enter one set of values into `loc` and `iloc`, they will return the values for every column in your dataset.\n",
    "\n",
    "By using a second integer though, you can choose which rows and columns you specifically want to subset. The first value corresponds to the row, and the second to the columns, or rows x columns. You can also think of this with the moniker *\"Roman Catholic\"*"
   ]
  },
  {
   "cell_type": "code",
   "execution_count": null,
   "metadata": {},
   "outputs": [],
   "source": [
    "# Using loc to get row labels 1, 2 and 3 for Columns A and B\n"
   ]
  },
  {
   "cell_type": "code",
   "execution_count": null,
   "metadata": {},
   "outputs": [],
   "source": [
    "# Using iloc to get rows 0, 1 and 2 for columns 0 and 1.\n"
   ]
  },
  {
   "cell_type": "markdown",
   "metadata": {},
   "source": [
    "The differences between `loc` and `iloc` can seem minor, but they're very important, and which one you should use depends on what your needs are at the time.\n",
    "\n",
    "`iloc` is based on dataframe position, so calling `iloc[:3]` would give you rows 0 through 3. \n",
    "\n",
    "`loc` however is based on the index label, so if you were to call `df.loc[:3]`, it would give you all rows UP TO the row labelled as index 3.\n",
    "\n",
    "While the indexes are in order and all present, this isn't an issue. Consider what happens when the indexes are out of order though, with our dataframe 's'"
   ]
  },
  {
   "cell_type": "code",
   "execution_count": 32,
   "metadata": {},
   "outputs": [
    {
     "data": {
      "text/html": [
       "<div>\n",
       "<style>\n",
       "    .dataframe thead tr:only-child th {\n",
       "        text-align: right;\n",
       "    }\n",
       "\n",
       "    .dataframe thead th {\n",
       "        text-align: left;\n",
       "    }\n",
       "\n",
       "    .dataframe tbody tr th {\n",
       "        vertical-align: top;\n",
       "    }\n",
       "</style>\n",
       "<table border=\"1\" class=\"dataframe\">\n",
       "  <thead>\n",
       "    <tr style=\"text-align: right;\">\n",
       "      <th></th>\n",
       "      <th>A</th>\n",
       "      <th>B</th>\n",
       "      <th>C</th>\n",
       "    </tr>\n",
       "  </thead>\n",
       "  <tbody>\n",
       "    <tr>\n",
       "      <th>47</th>\n",
       "      <td>a</td>\n",
       "      <td>-0.867472</td>\n",
       "      <td>1</td>\n",
       "    </tr>\n",
       "    <tr>\n",
       "      <th>48</th>\n",
       "      <td>b</td>\n",
       "      <td>-0.656514</td>\n",
       "      <td>7</td>\n",
       "    </tr>\n",
       "    <tr>\n",
       "      <th>49</th>\n",
       "      <td>c</td>\n",
       "      <td>-1.316669</td>\n",
       "      <td>20</td>\n",
       "    </tr>\n",
       "    <tr>\n",
       "      <th>1</th>\n",
       "      <td>d</td>\n",
       "      <td>0.137304</td>\n",
       "      <td>59</td>\n",
       "    </tr>\n",
       "    <tr>\n",
       "      <th>2</th>\n",
       "      <td>e</td>\n",
       "      <td>-0.872810</td>\n",
       "      <td>30</td>\n",
       "    </tr>\n",
       "    <tr>\n",
       "      <th>3</th>\n",
       "      <td>f</td>\n",
       "      <td>-0.073563</td>\n",
       "      <td>40</td>\n",
       "    </tr>\n",
       "  </tbody>\n",
       "</table>\n",
       "</div>"
      ],
      "text/plain": [
       "    A         B   C\n",
       "47  a -0.867472   1\n",
       "48  b -0.656514   7\n",
       "49  c -1.316669  20\n",
       "1   d  0.137304  59\n",
       "2   e -0.872810  30\n",
       "3   f -0.073563  40"
      ]
     },
     "execution_count": 32,
     "metadata": {},
     "output_type": "execute_result"
    }
   ],
   "source": [
    "# Can see that this only takes the first 2 rows\n",
    "df.iloc[:6]"
   ]
  },
  {
   "cell_type": "code",
   "execution_count": 33,
   "metadata": {},
   "outputs": [
    {
     "data": {
      "text/html": [
       "<div>\n",
       "<style>\n",
       "    .dataframe thead tr:only-child th {\n",
       "        text-align: right;\n",
       "    }\n",
       "\n",
       "    .dataframe thead th {\n",
       "        text-align: left;\n",
       "    }\n",
       "\n",
       "    .dataframe tbody tr th {\n",
       "        vertical-align: top;\n",
       "    }\n",
       "</style>\n",
       "<table border=\"1\" class=\"dataframe\">\n",
       "  <thead>\n",
       "    <tr style=\"text-align: right;\">\n",
       "      <th></th>\n",
       "      <th>A</th>\n",
       "      <th>B</th>\n",
       "      <th>C</th>\n",
       "    </tr>\n",
       "  </thead>\n",
       "  <tbody>\n",
       "    <tr>\n",
       "      <th>47</th>\n",
       "      <td>a</td>\n",
       "      <td>-0.867472</td>\n",
       "      <td>1</td>\n",
       "    </tr>\n",
       "    <tr>\n",
       "      <th>48</th>\n",
       "      <td>b</td>\n",
       "      <td>-0.656514</td>\n",
       "      <td>7</td>\n",
       "    </tr>\n",
       "    <tr>\n",
       "      <th>49</th>\n",
       "      <td>c</td>\n",
       "      <td>-1.316669</td>\n",
       "      <td>20</td>\n",
       "    </tr>\n",
       "    <tr>\n",
       "      <th>1</th>\n",
       "      <td>d</td>\n",
       "      <td>0.137304</td>\n",
       "      <td>59</td>\n",
       "    </tr>\n",
       "    <tr>\n",
       "      <th>2</th>\n",
       "      <td>e</td>\n",
       "      <td>-0.872810</td>\n",
       "      <td>30</td>\n",
       "    </tr>\n",
       "    <tr>\n",
       "      <th>3</th>\n",
       "      <td>f</td>\n",
       "      <td>-0.073563</td>\n",
       "      <td>40</td>\n",
       "    </tr>\n",
       "  </tbody>\n",
       "</table>\n",
       "</div>"
      ],
      "text/plain": [
       "    A         B   C\n",
       "47  a -0.867472   1\n",
       "48  b -0.656514   7\n",
       "49  c -1.316669  20\n",
       "1   d  0.137304  59\n",
       "2   e -0.872810  30\n",
       "3   f -0.073563  40"
      ]
     },
     "execution_count": 33,
     "metadata": {},
     "output_type": "execute_result"
    }
   ],
   "source": [
    "# Whereas this takes all rows UP TO index label 2\n",
    "df.loc[]"
   ]
  },
  {
   "cell_type": "markdown",
   "metadata": {},
   "source": [
    "Since `loc` is based on labels, if you try to subset a row or column label that doesn't exist, even if it corresponds to a positional row, python will throw you an error\n",
    "\n",
    "Due to this, it's important that you carefully consider which tool is appropriate for your needs"
   ]
  },
  {
   "cell_type": "markdown",
   "metadata": {},
   "source": [
    "#### Challenge 1\n",
    "\n",
    "Consider the following Python dictionary data and Python list labels:\n",
    "\n",
    "```Python \n",
    "data = {'animal': ['cat', 'cat', 'snake', 'dog', 'dog', 'cat', 'snake', 'cat', 'dog', 'dog'],\n",
    "        'age': [2.5, 3, 0.5, np.nan, 5, 2, 4.5, np.nan, 7, 3],\n",
    "        'visits': [1, 3, 2, 3, 2, 3, 1, 1, 2, 1],\n",
    "        'priority': ['yes', 'yes', 'no', 'yes', 'no', 'no', 'no', 'yes', 'no', 'no']}\n",
    "\n",
    "labels = ['a', 'b', 'c', 'd', 'e', 'f', 'g', 'h', 'i', 'j']\n",
    "```\n",
    "\n",
    "**Part 1**\n",
    "\n",
    "Create a DataFrame `vet_info` from this dictionary data which has the index (i.e. row names) `labels`"
   ]
  },
  {
   "cell_type": "code",
   "execution_count": 42,
   "metadata": {},
   "outputs": [],
   "source": [
    "data = {'animal': ['cat', 'cat', 'snake', 'dog', 'dog', 'cat', 'snake', 'cat', 'dog', 'dog'],\n",
    "        'age': [2.5, 3, 0.5, np.nan, 5, 2, 4.5, np.nan, 7, 3],\n",
    "        'visits': [1, 3, 2, 3, 2, 3, 1, 1, 2, 1],\n",
    "        'priority': ['yes', 'yes', 'no', 'yes', 'no', 'no', 'no', 'yes', 'no', 'no']}\n",
    "\n",
    "labels = ['a', 'b', 'c', 'd', 'e', 'f', 'g', 'h', 'i', 'j']"
   ]
  },
  {
   "cell_type": "code",
   "execution_count": 36,
   "metadata": {},
   "outputs": [],
   "source": [
    "vet_info = pd.DataFrame({'animal': ['cat', 'cat', 'snake', 'dog', 'dog', 'cat', 'snake', 'cat', 'dog', 'dog'],\n",
    "        'age': [2.5, 3, 0.5, np.nan, 5, 2, 4.5, np.nan, 7, 3],\n",
    "        'visits': [1, 3, 2, 3, 2, 3, 1, 1, 2, 1],\n",
    "        'priority': ['yes', 'yes', 'no', 'yes', 'no', 'no', 'no', 'yes', 'no', 'no']}\n",
    ",index = )"
   ]
  },
  {
   "cell_type": "code",
   "execution_count": 37,
   "metadata": {},
   "outputs": [
    {
     "data": {
      "text/html": [
       "<div>\n",
       "<style>\n",
       "    .dataframe thead tr:only-child th {\n",
       "        text-align: right;\n",
       "    }\n",
       "\n",
       "    .dataframe thead th {\n",
       "        text-align: left;\n",
       "    }\n",
       "\n",
       "    .dataframe tbody tr th {\n",
       "        vertical-align: top;\n",
       "    }\n",
       "</style>\n",
       "<table border=\"1\" class=\"dataframe\">\n",
       "  <thead>\n",
       "    <tr style=\"text-align: right;\">\n",
       "      <th></th>\n",
       "      <th>age</th>\n",
       "      <th>animal</th>\n",
       "      <th>priority</th>\n",
       "      <th>visits</th>\n",
       "    </tr>\n",
       "  </thead>\n",
       "  <tbody>\n",
       "    <tr>\n",
       "      <th>a</th>\n",
       "      <td>2.5</td>\n",
       "      <td>cat</td>\n",
       "      <td>yes</td>\n",
       "      <td>1</td>\n",
       "    </tr>\n",
       "    <tr>\n",
       "      <th>b</th>\n",
       "      <td>3.0</td>\n",
       "      <td>cat</td>\n",
       "      <td>yes</td>\n",
       "      <td>3</td>\n",
       "    </tr>\n",
       "    <tr>\n",
       "      <th>c</th>\n",
       "      <td>0.5</td>\n",
       "      <td>snake</td>\n",
       "      <td>no</td>\n",
       "      <td>2</td>\n",
       "    </tr>\n",
       "    <tr>\n",
       "      <th>d</th>\n",
       "      <td>NaN</td>\n",
       "      <td>dog</td>\n",
       "      <td>yes</td>\n",
       "      <td>3</td>\n",
       "    </tr>\n",
       "    <tr>\n",
       "      <th>e</th>\n",
       "      <td>5.0</td>\n",
       "      <td>dog</td>\n",
       "      <td>no</td>\n",
       "      <td>2</td>\n",
       "    </tr>\n",
       "    <tr>\n",
       "      <th>f</th>\n",
       "      <td>2.0</td>\n",
       "      <td>cat</td>\n",
       "      <td>no</td>\n",
       "      <td>3</td>\n",
       "    </tr>\n",
       "    <tr>\n",
       "      <th>g</th>\n",
       "      <td>4.5</td>\n",
       "      <td>snake</td>\n",
       "      <td>no</td>\n",
       "      <td>1</td>\n",
       "    </tr>\n",
       "    <tr>\n",
       "      <th>h</th>\n",
       "      <td>NaN</td>\n",
       "      <td>cat</td>\n",
       "      <td>yes</td>\n",
       "      <td>1</td>\n",
       "    </tr>\n",
       "    <tr>\n",
       "      <th>i</th>\n",
       "      <td>7.0</td>\n",
       "      <td>dog</td>\n",
       "      <td>no</td>\n",
       "      <td>2</td>\n",
       "    </tr>\n",
       "    <tr>\n",
       "      <th>j</th>\n",
       "      <td>3.0</td>\n",
       "      <td>dog</td>\n",
       "      <td>no</td>\n",
       "      <td>1</td>\n",
       "    </tr>\n",
       "  </tbody>\n",
       "</table>\n",
       "</div>"
      ],
      "text/plain": [
       "   age animal priority  visits\n",
       "a  2.5    cat      yes       1\n",
       "b  3.0    cat      yes       3\n",
       "c  0.5  snake       no       2\n",
       "d  NaN    dog      yes       3\n",
       "e  5.0    dog       no       2\n",
       "f  2.0    cat       no       3\n",
       "g  4.5  snake       no       1\n",
       "h  NaN    cat      yes       1\n",
       "i  7.0    dog       no       2\n",
       "j  3.0    dog       no       1"
      ]
     },
     "execution_count": 37,
     "metadata": {},
     "output_type": "execute_result"
    }
   ],
   "source": [
    "vet_info"
   ]
  },
  {
   "cell_type": "markdown",
   "metadata": {},
   "source": [
    "**Part 2**\n",
    "\n",
    "Return the first 3 rows of the DataFrame `vet_info`."
   ]
  },
  {
   "cell_type": "code",
   "execution_count": 38,
   "metadata": {},
   "outputs": [
    {
     "data": {
      "text/html": [
       "<div>\n",
       "<style>\n",
       "    .dataframe thead tr:only-child th {\n",
       "        text-align: right;\n",
       "    }\n",
       "\n",
       "    .dataframe thead th {\n",
       "        text-align: left;\n",
       "    }\n",
       "\n",
       "    .dataframe tbody tr th {\n",
       "        vertical-align: top;\n",
       "    }\n",
       "</style>\n",
       "<table border=\"1\" class=\"dataframe\">\n",
       "  <thead>\n",
       "    <tr style=\"text-align: right;\">\n",
       "      <th></th>\n",
       "      <th>age</th>\n",
       "      <th>animal</th>\n",
       "      <th>priority</th>\n",
       "      <th>visits</th>\n",
       "    </tr>\n",
       "  </thead>\n",
       "  <tbody>\n",
       "    <tr>\n",
       "      <th>a</th>\n",
       "      <td>2.5</td>\n",
       "      <td>cat</td>\n",
       "      <td>yes</td>\n",
       "      <td>1</td>\n",
       "    </tr>\n",
       "    <tr>\n",
       "      <th>b</th>\n",
       "      <td>3.0</td>\n",
       "      <td>cat</td>\n",
       "      <td>yes</td>\n",
       "      <td>3</td>\n",
       "    </tr>\n",
       "    <tr>\n",
       "      <th>c</th>\n",
       "      <td>0.5</td>\n",
       "      <td>snake</td>\n",
       "      <td>no</td>\n",
       "      <td>2</td>\n",
       "    </tr>\n",
       "  </tbody>\n",
       "</table>\n",
       "</div>"
      ],
      "text/plain": [
       "   age animal priority  visits\n",
       "a  2.5    cat      yes       1\n",
       "b  3.0    cat      yes       3\n",
       "c  0.5  snake       no       2"
      ]
     },
     "execution_count": 38,
     "metadata": {},
     "output_type": "execute_result"
    }
   ],
   "source": [
    "vet_info.iloc[:3]"
   ]
  },
  {
   "cell_type": "markdown",
   "metadata": {},
   "source": [
    "**Part 3** \n",
    "\n",
    "Select just the 'animal' and 'age' columns from `vet_info`."
   ]
  },
  {
   "cell_type": "code",
   "execution_count": 39,
   "metadata": {},
   "outputs": [
    {
     "data": {
      "text/html": [
       "<div>\n",
       "<style>\n",
       "    .dataframe thead tr:only-child th {\n",
       "        text-align: right;\n",
       "    }\n",
       "\n",
       "    .dataframe thead th {\n",
       "        text-align: left;\n",
       "    }\n",
       "\n",
       "    .dataframe tbody tr th {\n",
       "        vertical-align: top;\n",
       "    }\n",
       "</style>\n",
       "<table border=\"1\" class=\"dataframe\">\n",
       "  <thead>\n",
       "    <tr style=\"text-align: right;\">\n",
       "      <th></th>\n",
       "      <th>animal</th>\n",
       "      <th>age</th>\n",
       "    </tr>\n",
       "  </thead>\n",
       "  <tbody>\n",
       "    <tr>\n",
       "      <th>a</th>\n",
       "      <td>cat</td>\n",
       "      <td>2.5</td>\n",
       "    </tr>\n",
       "    <tr>\n",
       "      <th>b</th>\n",
       "      <td>cat</td>\n",
       "      <td>3.0</td>\n",
       "    </tr>\n",
       "    <tr>\n",
       "      <th>c</th>\n",
       "      <td>snake</td>\n",
       "      <td>0.5</td>\n",
       "    </tr>\n",
       "    <tr>\n",
       "      <th>d</th>\n",
       "      <td>dog</td>\n",
       "      <td>NaN</td>\n",
       "    </tr>\n",
       "    <tr>\n",
       "      <th>e</th>\n",
       "      <td>dog</td>\n",
       "      <td>5.0</td>\n",
       "    </tr>\n",
       "    <tr>\n",
       "      <th>f</th>\n",
       "      <td>cat</td>\n",
       "      <td>2.0</td>\n",
       "    </tr>\n",
       "    <tr>\n",
       "      <th>g</th>\n",
       "      <td>snake</td>\n",
       "      <td>4.5</td>\n",
       "    </tr>\n",
       "    <tr>\n",
       "      <th>h</th>\n",
       "      <td>cat</td>\n",
       "      <td>NaN</td>\n",
       "    </tr>\n",
       "    <tr>\n",
       "      <th>i</th>\n",
       "      <td>dog</td>\n",
       "      <td>7.0</td>\n",
       "    </tr>\n",
       "    <tr>\n",
       "      <th>j</th>\n",
       "      <td>dog</td>\n",
       "      <td>3.0</td>\n",
       "    </tr>\n",
       "  </tbody>\n",
       "</table>\n",
       "</div>"
      ],
      "text/plain": [
       "  animal  age\n",
       "a    cat  2.5\n",
       "b    cat  3.0\n",
       "c  snake  0.5\n",
       "d    dog  NaN\n",
       "e    dog  5.0\n",
       "f    cat  2.0\n",
       "g  snake  4.5\n",
       "h    cat  NaN\n",
       "i    dog  7.0\n",
       "j    dog  3.0"
      ]
     },
     "execution_count": 39,
     "metadata": {},
     "output_type": "execute_result"
    }
   ],
   "source": [
    "vet_info[[\"animal\",\"age\"]]"
   ]
  },
  {
   "cell_type": "markdown",
   "metadata": {},
   "source": [
    "**Part 4** \n",
    "\n",
    "Select the data in rows [3, 4, 8] and in columns ['animal', 'age']."
   ]
  },
  {
   "cell_type": "code",
   "execution_count": 41,
   "metadata": {},
   "outputs": [
    {
     "data": {
      "text/html": [
       "<div>\n",
       "<style>\n",
       "    .dataframe thead tr:only-child th {\n",
       "        text-align: right;\n",
       "    }\n",
       "\n",
       "    .dataframe thead th {\n",
       "        text-align: left;\n",
       "    }\n",
       "\n",
       "    .dataframe tbody tr th {\n",
       "        vertical-align: top;\n",
       "    }\n",
       "</style>\n",
       "<table border=\"1\" class=\"dataframe\">\n",
       "  <thead>\n",
       "    <tr style=\"text-align: right;\">\n",
       "      <th></th>\n",
       "      <th>animal</th>\n",
       "      <th>age</th>\n",
       "    </tr>\n",
       "  </thead>\n",
       "  <tbody>\n",
       "    <tr>\n",
       "      <th>d</th>\n",
       "      <td>dog</td>\n",
       "      <td>NaN</td>\n",
       "    </tr>\n",
       "    <tr>\n",
       "      <th>e</th>\n",
       "      <td>dog</td>\n",
       "      <td>5.0</td>\n",
       "    </tr>\n",
       "    <tr>\n",
       "      <th>i</th>\n",
       "      <td>dog</td>\n",
       "      <td>7.0</td>\n",
       "    </tr>\n",
       "  </tbody>\n",
       "</table>\n",
       "</div>"
      ],
      "text/plain": [
       "  animal  age\n",
       "d    dog  NaN\n",
       "e    dog  5.0\n",
       "i    dog  7.0"
      ]
     },
     "execution_count": 41,
     "metadata": {},
     "output_type": "execute_result"
    }
   ],
   "source": [
    "vet_info.loc[['c','d','h'],[\"animal\",\"age\"]]\n",
    "\n",
    "vet_info[[\"animal\",\"age\"]].iloc[[3, 4, 8]]"
   ]
  },
  {
   "cell_type": "markdown",
   "metadata": {},
   "source": [
    "# Working with Data\n",
    "\n",
    "## Reading in Data\n",
    "\n",
    "The first step to any data exploration and manipulation is to open your data within your program. The **pandas** package can directly read in spread-sheet style data and convert them into *dataframes*.\n",
    "\n",
    "These dataframes work with rows and columns, like a spreadsheet, except that all data within a single column has to be the same data type. \n",
    "\n",
    "For example, imagine you had a spreadsheet containing two columns - \"labels\" and \"numbers\", and that the rows in the \"labels\" column contains either a text or number sequence. Because you cannot turn text into a number, every single row in that \"labels\" column would need to be a string (text) type. Similarly, if some (but not all) of the rows in the \"numbers\" column contained decimals, **all** of the rows within this column would need to be of a decimal (float) data type.\n",
    "\n",
    "To read in a comma-separated file, or \\*.csv, you can use the pandas function `read_csv()`"
   ]
  },
  {
   "cell_type": "code",
   "execution_count": 43,
   "metadata": {},
   "outputs": [],
   "source": [
    "# Reading in a *.csv file\n",
    "pdsn = pd.read_csv(\"pedestriancounts_melbourne.csv\")"
   ]
  },
  {
   "cell_type": "markdown",
   "metadata": {},
   "source": [
    "You can also open a variety of other file types using the \"reader\" functions found in this [IO tools documentation](http://pandas.pydata.org/pandas-docs/version/0.20/io.html \"Pandas IO tools\"). \n",
    "\n",
    "This includes file types such as excel (\\*.xlsx) files, and text (\\*.txt) files. You can use the parameters within these functions to specify file or data attributes such as column separators, whether there's column/row names, and even specifying your own column names."
   ]
  },
  {
   "cell_type": "code",
   "execution_count": 44,
   "metadata": {},
   "outputs": [
    {
     "data": {
      "text/html": [
       "<div>\n",
       "<style>\n",
       "    .dataframe thead tr:only-child th {\n",
       "        text-align: right;\n",
       "    }\n",
       "\n",
       "    .dataframe thead th {\n",
       "        text-align: left;\n",
       "    }\n",
       "\n",
       "    .dataframe tbody tr th {\n",
       "        vertical-align: top;\n",
       "    }\n",
       "</style>\n",
       "<table border=\"1\" class=\"dataframe\">\n",
       "  <thead>\n",
       "    <tr style=\"text-align: right;\">\n",
       "      <th></th>\n",
       "      <th>01-Jan-2012</th>\n",
       "      <th>Sunday</th>\n",
       "      <th>0</th>\n",
       "      <th>4</th>\n",
       "      <th>Town Hall (West)</th>\n",
       "      <th>3363</th>\n",
       "    </tr>\n",
       "  </thead>\n",
       "  <tbody>\n",
       "    <tr>\n",
       "      <th>0</th>\n",
       "      <td>01-Jan-2012</td>\n",
       "      <td>Sunday</td>\n",
       "      <td>0</td>\n",
       "      <td>17.0</td>\n",
       "      <td>Collins Place (South)</td>\n",
       "      <td>549.0</td>\n",
       "    </tr>\n",
       "    <tr>\n",
       "      <th>1</th>\n",
       "      <td>01-Jan-2012</td>\n",
       "      <td>Sunday</td>\n",
       "      <td>0</td>\n",
       "      <td>18.0</td>\n",
       "      <td>Collins Place (North)</td>\n",
       "      <td>382.0</td>\n",
       "    </tr>\n",
       "    <tr>\n",
       "      <th>2</th>\n",
       "      <td>01-Jan-2012</td>\n",
       "      <td>Sunday</td>\n",
       "      <td>0</td>\n",
       "      <td>16.0</td>\n",
       "      <td>Australia on Collins</td>\n",
       "      <td>781.0</td>\n",
       "    </tr>\n",
       "    <tr>\n",
       "      <th>3</th>\n",
       "      <td>01-Jan-2012</td>\n",
       "      <td>Sunday</td>\n",
       "      <td>0</td>\n",
       "      <td>2.0</td>\n",
       "      <td>Bourke Street Mall (South)</td>\n",
       "      <td>1015.0</td>\n",
       "    </tr>\n",
       "    <tr>\n",
       "      <th>4</th>\n",
       "      <td>01-Jan-2012</td>\n",
       "      <td>Sunday</td>\n",
       "      <td>0</td>\n",
       "      <td>1.0</td>\n",
       "      <td>Bourke Street Mall (North)</td>\n",
       "      <td>826.0</td>\n",
       "    </tr>\n",
       "  </tbody>\n",
       "</table>\n",
       "</div>"
      ],
      "text/plain": [
       "   01-Jan-2012  Sunday  0     4            Town Hall (West)    3363\n",
       "0  01-Jan-2012  Sunday  0  17.0       Collins Place (South)   549.0\n",
       "1  01-Jan-2012  Sunday  0  18.0       Collins Place (North)   382.0\n",
       "2  01-Jan-2012  Sunday  0  16.0        Australia on Collins   781.0\n",
       "3  01-Jan-2012  Sunday  0   2.0  Bourke Street Mall (South)  1015.0\n",
       "4  01-Jan-2012  Sunday  0   1.0  Bourke Street Mall (North)   826.0"
      ]
     },
     "execution_count": 44,
     "metadata": {},
     "output_type": "execute_result"
    }
   ],
   "source": [
    "pdsn.head()"
   ]
  },
  {
   "cell_type": "markdown",
   "metadata": {},
   "source": [
    "Oops! It appears that our data doesn't actually have any headers, so our column have been read in with the incorrect names. \n",
    "\n",
    "Fortunately, pandas.read_csv() has a range of keyword arguments we can use while reading in our data.\n",
    "\n",
    "- `sep`: the type of separator between our columns\n",
    "-  `header`: the row number to take as the start of the data. Useful if you have metadata attached at the beginning of your file.\n",
    "- `names`: You can also specify your column names. Takes a list of values. If your file contains no header, also use `header = None`. Otherwise, use `header = 0`.\n",
    "* `parse_dates`: Treat one or more columns like dates.\n",
    "* `dayfirst`: Use DD.MM.YYYY format, not month first.\n",
    "* `infer_datetime_format`: Tell pandas to guess the date format.\n",
    "- `na_values`: Specify values to be treated as empty."
   ]
  },
  {
   "cell_type": "code",
   "execution_count": 46,
   "metadata": {},
   "outputs": [],
   "source": [
    "pdsn = pd.read_csv(\"pedestriancounts_melbourne.csv\",\n",
    "                   header = None, \n",
    "                   names = [\"Date\",\"Day\",\"Hour\",\"SensorID\",\"Location\",\"Counts\"])"
   ]
  },
  {
   "cell_type": "code",
   "execution_count": 96,
   "metadata": {},
   "outputs": [
    {
     "data": {
      "text/html": [
       "<div>\n",
       "<style>\n",
       "    .dataframe thead tr:only-child th {\n",
       "        text-align: right;\n",
       "    }\n",
       "\n",
       "    .dataframe thead th {\n",
       "        text-align: left;\n",
       "    }\n",
       "\n",
       "    .dataframe tbody tr th {\n",
       "        vertical-align: top;\n",
       "    }\n",
       "</style>\n",
       "<table border=\"1\" class=\"dataframe\">\n",
       "  <thead>\n",
       "    <tr style=\"text-align: right;\">\n",
       "      <th></th>\n",
       "      <th>Sensor ID</th>\n",
       "      <th>Sensor Name</th>\n",
       "      <th>Sensor Description</th>\n",
       "      <th>Status</th>\n",
       "      <th>Upload Date</th>\n",
       "      <th>Year Installed</th>\n",
       "      <th>Location Type</th>\n",
       "      <th>Geometry</th>\n",
       "      <th>Latitude</th>\n",
       "      <th>Longitude</th>\n",
       "    </tr>\n",
       "  </thead>\n",
       "  <tbody>\n",
       "    <tr>\n",
       "      <th>0</th>\n",
       "      <td>22</td>\n",
       "      <td>Eli274_T</td>\n",
       "      <td>Flinders St-Elizabeth St (East)</td>\n",
       "      <td>Installed</td>\n",
       "      <td>19/08/2016 12:39:50 PM +0000</td>\n",
       "      <td>2013</td>\n",
       "      <td>Outdoor</td>\n",
       "      <td>(-37.8178644478193, 144.965068228214)</td>\n",
       "      <td>-37.817864</td>\n",
       "      <td>144.965068</td>\n",
       "    </tr>\n",
       "    <tr>\n",
       "      <th>1</th>\n",
       "      <td>34</td>\n",
       "      <td>Fli32_T</td>\n",
       "      <td>Flinders St-Spark La</td>\n",
       "      <td>Installed</td>\n",
       "      <td>19/08/2016 12:39:50 PM +0000</td>\n",
       "      <td>2014</td>\n",
       "      <td>Outdoor</td>\n",
       "      <td>(-37.8153798501116, 144.974150495806)</td>\n",
       "      <td>-37.815380</td>\n",
       "      <td>144.974150</td>\n",
       "    </tr>\n",
       "    <tr>\n",
       "      <th>2</th>\n",
       "      <td>11</td>\n",
       "      <td>WatCit_T</td>\n",
       "      <td>Waterfront City</td>\n",
       "      <td>Installed</td>\n",
       "      <td>19/08/2016 12:39:50 PM +0000</td>\n",
       "      <td>2009</td>\n",
       "      <td>Outdoor</td>\n",
       "      <td>(-37.8154565643471, 144.939579299407)</td>\n",
       "      <td>-37.815457</td>\n",
       "      <td>144.939579</td>\n",
       "    </tr>\n",
       "    <tr>\n",
       "      <th>3</th>\n",
       "      <td>8</td>\n",
       "      <td>WebBN_T</td>\n",
       "      <td>Webb Bridge</td>\n",
       "      <td>Installed</td>\n",
       "      <td>19/08/2016 12:39:50 PM +0000</td>\n",
       "      <td>2009</td>\n",
       "      <td>Outdoor</td>\n",
       "      <td>(-37.8229354263742, 144.947175106953)</td>\n",
       "      <td>-37.822935</td>\n",
       "      <td>144.947175</td>\n",
       "    </tr>\n",
       "    <tr>\n",
       "      <th>4</th>\n",
       "      <td>7</td>\n",
       "      <td>Fed_T</td>\n",
       "      <td>Birrarung Marr</td>\n",
       "      <td>Installed</td>\n",
       "      <td>19/08/2016 12:39:50 PM +0000</td>\n",
       "      <td>2009</td>\n",
       "      <td>Outdoor</td>\n",
       "      <td>(-37.8183237506589, 144.971414820121)</td>\n",
       "      <td>-37.818324</td>\n",
       "      <td>144.971415</td>\n",
       "    </tr>\n",
       "  </tbody>\n",
       "</table>\n",
       "</div>"
      ],
      "text/plain": [
       "   Sensor ID Sensor Name               Sensor Description     Status  \\\n",
       "0         22    Eli274_T  Flinders St-Elizabeth St (East)  Installed   \n",
       "1         34     Fli32_T             Flinders St-Spark La  Installed   \n",
       "2         11    WatCit_T                  Waterfront City  Installed   \n",
       "3          8     WebBN_T                      Webb Bridge  Installed   \n",
       "4          7       Fed_T                   Birrarung Marr  Installed   \n",
       "\n",
       "                    Upload Date  Year Installed Location Type  \\\n",
       "0  19/08/2016 12:39:50 PM +0000            2013       Outdoor   \n",
       "1  19/08/2016 12:39:50 PM +0000            2014       Outdoor   \n",
       "2  19/08/2016 12:39:50 PM +0000            2009       Outdoor   \n",
       "3  19/08/2016 12:39:50 PM +0000            2009       Outdoor   \n",
       "4  19/08/2016 12:39:50 PM +0000            2009       Outdoor   \n",
       "\n",
       "                                Geometry   Latitude   Longitude  \n",
       "0  (-37.8178644478193, 144.965068228214) -37.817864  144.965068  \n",
       "1  (-37.8153798501116, 144.974150495806) -37.815380  144.974150  \n",
       "2  (-37.8154565643471, 144.939579299407) -37.815457  144.939579  \n",
       "3  (-37.8229354263742, 144.947175106953) -37.822935  144.947175  \n",
       "4  (-37.8183237506589, 144.971414820121) -37.818324  144.971415  "
      ]
     },
     "execution_count": 96,
     "metadata": {},
     "output_type": "execute_result"
    }
   ],
   "source": [
    "sensors = pd.read_csv(\"Pedestrian_sensor_locations.csv\")\n",
    "\n",
    "sensors.head()"
   ]
  },
  {
   "cell_type": "code",
   "execution_count": 48,
   "metadata": {},
   "outputs": [
    {
     "data": {
      "text/html": [
       "<div>\n",
       "<style>\n",
       "    .dataframe thead tr:only-child th {\n",
       "        text-align: right;\n",
       "    }\n",
       "\n",
       "    .dataframe thead th {\n",
       "        text-align: left;\n",
       "    }\n",
       "\n",
       "    .dataframe tbody tr th {\n",
       "        vertical-align: top;\n",
       "    }\n",
       "</style>\n",
       "<table border=\"1\" class=\"dataframe\">\n",
       "  <thead>\n",
       "    <tr style=\"text-align: right;\">\n",
       "      <th></th>\n",
       "      <th>Date</th>\n",
       "      <th>Day</th>\n",
       "      <th>Hour</th>\n",
       "      <th>SensorID</th>\n",
       "      <th>Location</th>\n",
       "      <th>Counts</th>\n",
       "    </tr>\n",
       "  </thead>\n",
       "  <tbody>\n",
       "    <tr>\n",
       "      <th>0</th>\n",
       "      <td>01-Jan-2012</td>\n",
       "      <td>Sunday</td>\n",
       "      <td>0</td>\n",
       "      <td>4.0</td>\n",
       "      <td>Town Hall (West)</td>\n",
       "      <td>3363.0</td>\n",
       "    </tr>\n",
       "    <tr>\n",
       "      <th>1</th>\n",
       "      <td>01-Jan-2012</td>\n",
       "      <td>Sunday</td>\n",
       "      <td>0</td>\n",
       "      <td>17.0</td>\n",
       "      <td>Collins Place (South)</td>\n",
       "      <td>549.0</td>\n",
       "    </tr>\n",
       "    <tr>\n",
       "      <th>2</th>\n",
       "      <td>01-Jan-2012</td>\n",
       "      <td>Sunday</td>\n",
       "      <td>0</td>\n",
       "      <td>18.0</td>\n",
       "      <td>Collins Place (North)</td>\n",
       "      <td>382.0</td>\n",
       "    </tr>\n",
       "    <tr>\n",
       "      <th>3</th>\n",
       "      <td>01-Jan-2012</td>\n",
       "      <td>Sunday</td>\n",
       "      <td>0</td>\n",
       "      <td>16.0</td>\n",
       "      <td>Australia on Collins</td>\n",
       "      <td>781.0</td>\n",
       "    </tr>\n",
       "    <tr>\n",
       "      <th>4</th>\n",
       "      <td>01-Jan-2012</td>\n",
       "      <td>Sunday</td>\n",
       "      <td>0</td>\n",
       "      <td>2.0</td>\n",
       "      <td>Bourke Street Mall (South)</td>\n",
       "      <td>1015.0</td>\n",
       "    </tr>\n",
       "  </tbody>\n",
       "</table>\n",
       "</div>"
      ],
      "text/plain": [
       "          Date     Day  Hour  SensorID                    Location  Counts\n",
       "0  01-Jan-2012  Sunday     0       4.0            Town Hall (West)  3363.0\n",
       "1  01-Jan-2012  Sunday     0      17.0       Collins Place (South)   549.0\n",
       "2  01-Jan-2012  Sunday     0      18.0       Collins Place (North)   382.0\n",
       "3  01-Jan-2012  Sunday     0      16.0        Australia on Collins   781.0\n",
       "4  01-Jan-2012  Sunday     0       2.0  Bourke Street Mall (South)  1015.0"
      ]
     },
     "execution_count": 48,
     "metadata": {},
     "output_type": "execute_result"
    }
   ],
   "source": [
    "pdsn.head()"
   ]
  },
  {
   "cell_type": "markdown",
   "metadata": {},
   "source": [
    "## Examining your Data\n",
    "\n",
    "- `head()`, `tail()`\n",
    "- `shape`; `shape[0]` vs. `shape[1]`\n",
    "- `columns`\n",
    "- `dtypes`\n",
    "- `describe()`\n",
    "- Subsetting with conditionals\n",
    "\n",
    "\n",
    "One of the first steps in exploring your data is to see what it looks like, what data types are present, and how many rows/columns there are.\n",
    "\n",
    "For example, `df.head()` and `df.tail()` show you the first/last 5 rows of your dataframe selection"
   ]
  },
  {
   "cell_type": "code",
   "execution_count": 50,
   "metadata": {},
   "outputs": [
    {
     "data": {
      "text/html": [
       "<div>\n",
       "<style>\n",
       "    .dataframe thead tr:only-child th {\n",
       "        text-align: right;\n",
       "    }\n",
       "\n",
       "    .dataframe thead th {\n",
       "        text-align: left;\n",
       "    }\n",
       "\n",
       "    .dataframe tbody tr th {\n",
       "        vertical-align: top;\n",
       "    }\n",
       "</style>\n",
       "<table border=\"1\" class=\"dataframe\">\n",
       "  <thead>\n",
       "    <tr style=\"text-align: right;\">\n",
       "      <th></th>\n",
       "      <th>Date</th>\n",
       "      <th>Day</th>\n",
       "      <th>Hour</th>\n",
       "      <th>SensorID</th>\n",
       "      <th>Location</th>\n",
       "      <th>Counts</th>\n",
       "    </tr>\n",
       "  </thead>\n",
       "  <tbody>\n",
       "    <tr>\n",
       "      <th>656803</th>\n",
       "      <td>14-Feb-2015</td>\n",
       "      <td>Saturday</td>\n",
       "      <td>1</td>\n",
       "      <td>19.0</td>\n",
       "      <td>Chinatown-Swanston St (North)</td>\n",
       "      <td>282.0</td>\n",
       "    </tr>\n",
       "    <tr>\n",
       "      <th>656804</th>\n",
       "      <td>14-Feb-2015</td>\n",
       "      <td>Saturday</td>\n",
       "      <td>1</td>\n",
       "      <td>22.0</td>\n",
       "      <td>Flinders St-Elizabeth St (East)</td>\n",
       "      <td>292.0</td>\n",
       "    </tr>\n",
       "    <tr>\n",
       "      <th>656805</th>\n",
       "      <td>14-Feb-2015</td>\n",
       "      <td>Saturday</td>\n",
       "      <td>1</td>\n",
       "      <td>27.0</td>\n",
       "      <td>QV Market-Peel St</td>\n",
       "      <td>23.0</td>\n",
       "    </tr>\n",
       "    <tr>\n",
       "      <th>656806</th>\n",
       "      <td>14-Feb-2015</td>\n",
       "      <td>Saturday</td>\n",
       "      <td>1</td>\n",
       "      <td>28.0</td>\n",
       "      <td>The Arts Centre</td>\n",
       "      <td>66.0</td>\n",
       "    </tr>\n",
       "    <tr>\n",
       "      <th>656807</th>\n",
       "      <td>14-Feb-2015</td>\n",
       "      <td>Saturday</td>\n",
       "      <td>1</td>\n",
       "      <td>31.0</td>\n",
       "      <td>Lygon St (West)</td>\n",
       "      <td>106.0</td>\n",
       "    </tr>\n",
       "    <tr>\n",
       "      <th>656808</th>\n",
       "      <td>14-Feb-2015</td>\n",
       "      <td>Saturday</td>\n",
       "      <td>1</td>\n",
       "      <td>30.0</td>\n",
       "      <td>Lonsdale St (South)</td>\n",
       "      <td>329.0</td>\n",
       "    </tr>\n",
       "    <tr>\n",
       "      <th>656809</th>\n",
       "      <td>14-Feb-2015</td>\n",
       "      <td>Saturday</td>\n",
       "      <td>1</td>\n",
       "      <td>33.0</td>\n",
       "      <td>Flinders St-Spring St (West)</td>\n",
       "      <td>16.0</td>\n",
       "    </tr>\n",
       "    <tr>\n",
       "      <th>656810</th>\n",
       "      <td>14-Feb-2015</td>\n",
       "      <td>Saturday</td>\n",
       "      <td>1</td>\n",
       "      <td>34.0</td>\n",
       "      <td>Flinders St-Spark La</td>\n",
       "      <td>26.0</td>\n",
       "    </tr>\n",
       "    <tr>\n",
       "      <th>656811</th>\n",
       "      <td>14-Feb-2015</td>\n",
       "      <td>Saturday</td>\n",
       "      <td>1</td>\n",
       "      <td>39.0</td>\n",
       "      <td>Alfred Place</td>\n",
       "      <td>43.0</td>\n",
       "    </tr>\n",
       "    <tr>\n",
       "      <th>656812</th>\n",
       "      <td>14-Feb-2015</td>\n",
       "      <td>Saturday</td>\n",
       "      <td>1</td>\n",
       "      <td>38.0</td>\n",
       "      <td>Flinders St-Swanston St (West)</td>\n",
       "      <td>841.0</td>\n",
       "    </tr>\n",
       "    <tr>\n",
       "      <th>656813</th>\n",
       "      <td>14-Feb-2015</td>\n",
       "      <td>Saturday</td>\n",
       "      <td>1</td>\n",
       "      <td>37.0</td>\n",
       "      <td>Lygon St (East)</td>\n",
       "      <td>33.0</td>\n",
       "    </tr>\n",
       "    <tr>\n",
       "      <th>656814</th>\n",
       "      <td>14-Feb-2015</td>\n",
       "      <td>Saturday</td>\n",
       "      <td>1</td>\n",
       "      <td>40.0</td>\n",
       "      <td>Lonsdale St-Spring St (West)</td>\n",
       "      <td>71.0</td>\n",
       "    </tr>\n",
       "    <tr>\n",
       "      <th>656815</th>\n",
       "      <td>14-Feb-2015</td>\n",
       "      <td>Saturday</td>\n",
       "      <td>1</td>\n",
       "      <td>36.0</td>\n",
       "      <td>Queen St (West)</td>\n",
       "      <td>191.0</td>\n",
       "    </tr>\n",
       "    <tr>\n",
       "      <th>656816</th>\n",
       "      <td>14-Feb-2015</td>\n",
       "      <td>Saturday</td>\n",
       "      <td>1</td>\n",
       "      <td>29.0</td>\n",
       "      <td>St Kilda Rd-Alexandra Gardens</td>\n",
       "      <td>63.0</td>\n",
       "    </tr>\n",
       "    <tr>\n",
       "      <th>656817</th>\n",
       "      <td>14-Feb-2015</td>\n",
       "      <td>Saturday</td>\n",
       "      <td>1</td>\n",
       "      <td>32.0</td>\n",
       "      <td>City Square</td>\n",
       "      <td>303.0</td>\n",
       "    </tr>\n",
       "    <tr>\n",
       "      <th>656818</th>\n",
       "      <td>14-Feb-2015</td>\n",
       "      <td>Saturday</td>\n",
       "      <td>2</td>\n",
       "      <td>4.0</td>\n",
       "      <td>Town Hall (West)</td>\n",
       "      <td>998.0</td>\n",
       "    </tr>\n",
       "    <tr>\n",
       "      <th>656819</th>\n",
       "      <td>14-Feb-2015</td>\n",
       "      <td>Saturday</td>\n",
       "      <td>2</td>\n",
       "      <td>17.0</td>\n",
       "      <td>Collins Place (South)</td>\n",
       "      <td>39.0</td>\n",
       "    </tr>\n",
       "    <tr>\n",
       "      <th>656820</th>\n",
       "      <td>14-Feb-2015</td>\n",
       "      <td>Saturday</td>\n",
       "      <td>2</td>\n",
       "      <td>18.0</td>\n",
       "      <td>Collins Place (North)</td>\n",
       "      <td>17.0</td>\n",
       "    </tr>\n",
       "    <tr>\n",
       "      <th>656821</th>\n",
       "      <td>14-Feb-2015</td>\n",
       "      <td>Saturday</td>\n",
       "      <td>2</td>\n",
       "      <td>2.0</td>\n",
       "      <td>Bourke Street Mall (South)</td>\n",
       "      <td>95.0</td>\n",
       "    </tr>\n",
       "    <tr>\n",
       "      <th>656822</th>\n",
       "      <td>14-Feb-2015</td>\n",
       "      <td>Saturday</td>\n",
       "      <td>2</td>\n",
       "      <td>13.0</td>\n",
       "      <td>Flagstaff Station</td>\n",
       "      <td>19.0</td>\n",
       "    </tr>\n",
       "  </tbody>\n",
       "</table>\n",
       "</div>"
      ],
      "text/plain": [
       "               Date       Day  Hour  SensorID  \\\n",
       "656803  14-Feb-2015  Saturday     1      19.0   \n",
       "656804  14-Feb-2015  Saturday     1      22.0   \n",
       "656805  14-Feb-2015  Saturday     1      27.0   \n",
       "656806  14-Feb-2015  Saturday     1      28.0   \n",
       "656807  14-Feb-2015  Saturday     1      31.0   \n",
       "656808  14-Feb-2015  Saturday     1      30.0   \n",
       "656809  14-Feb-2015  Saturday     1      33.0   \n",
       "656810  14-Feb-2015  Saturday     1      34.0   \n",
       "656811  14-Feb-2015  Saturday     1      39.0   \n",
       "656812  14-Feb-2015  Saturday     1      38.0   \n",
       "656813  14-Feb-2015  Saturday     1      37.0   \n",
       "656814  14-Feb-2015  Saturday     1      40.0   \n",
       "656815  14-Feb-2015  Saturday     1      36.0   \n",
       "656816  14-Feb-2015  Saturday     1      29.0   \n",
       "656817  14-Feb-2015  Saturday     1      32.0   \n",
       "656818  14-Feb-2015  Saturday     2       4.0   \n",
       "656819  14-Feb-2015  Saturday     2      17.0   \n",
       "656820  14-Feb-2015  Saturday     2      18.0   \n",
       "656821  14-Feb-2015  Saturday     2       2.0   \n",
       "656822  14-Feb-2015  Saturday     2      13.0   \n",
       "\n",
       "                               Location  Counts  \n",
       "656803    Chinatown-Swanston St (North)   282.0  \n",
       "656804  Flinders St-Elizabeth St (East)   292.0  \n",
       "656805                QV Market-Peel St    23.0  \n",
       "656806                  The Arts Centre    66.0  \n",
       "656807                  Lygon St (West)   106.0  \n",
       "656808              Lonsdale St (South)   329.0  \n",
       "656809     Flinders St-Spring St (West)    16.0  \n",
       "656810             Flinders St-Spark La    26.0  \n",
       "656811                     Alfred Place    43.0  \n",
       "656812   Flinders St-Swanston St (West)   841.0  \n",
       "656813                  Lygon St (East)    33.0  \n",
       "656814     Lonsdale St-Spring St (West)    71.0  \n",
       "656815                  Queen St (West)   191.0  \n",
       "656816    St Kilda Rd-Alexandra Gardens    63.0  \n",
       "656817                      City Square   303.0  \n",
       "656818                 Town Hall (West)   998.0  \n",
       "656819            Collins Place (South)    39.0  \n",
       "656820            Collins Place (North)    17.0  \n",
       "656821       Bourke Street Mall (South)    95.0  \n",
       "656822                Flagstaff Station    19.0  "
      ]
     },
     "execution_count": 50,
     "metadata": {},
     "output_type": "execute_result"
    }
   ],
   "source": [
    "pdsn.tail(20)"
   ]
  },
  {
   "cell_type": "markdown",
   "metadata": {},
   "source": [
    "You can also specify how many rows you want `head` and `tail` to return"
   ]
  },
  {
   "cell_type": "code",
   "execution_count": null,
   "metadata": {},
   "outputs": [],
   "source": [
    "pdsn.head(20)"
   ]
  },
  {
   "cell_type": "markdown",
   "metadata": {},
   "source": [
    "The `shape` function gives you the dimensions of your data, in the form `(#rows, #columns)`."
   ]
  },
  {
   "cell_type": "code",
   "execution_count": 54,
   "metadata": {},
   "outputs": [
    {
     "data": {
      "text/plain": [
       "(656823, 6)"
      ]
     },
     "execution_count": 54,
     "metadata": {},
     "output_type": "execute_result"
    }
   ],
   "source": [
    "# This returns a tuple (or linked pairs) of the number of rows and columns in your dataframe.\n",
    "pdsn.shape"
   ]
  },
  {
   "cell_type": "markdown",
   "metadata": {},
   "source": [
    "So we can see here that we have 658,823 rows, and 6 columns in our dataframe"
   ]
  },
  {
   "cell_type": "code",
   "execution_count": 55,
   "metadata": {},
   "outputs": [
    {
     "name": "stdout",
     "output_type": "stream",
     "text": [
      "656823\n",
      "6\n"
     ]
    }
   ],
   "source": [
    "# Calling the first or second element of the tuple can give you either the rows or the columns\n",
    "#Gives you the rows (remember, 0 indexing!)\n",
    "print(pdsn.shape[0])\n",
    "\n",
    "#Gives you the columns\n",
    "print(pdsn.shape[1])"
   ]
  },
  {
   "cell_type": "markdown",
   "metadata": {},
   "source": [
    "You can also use `df.columns` to examine the column names."
   ]
  },
  {
   "cell_type": "code",
   "execution_count": 62,
   "metadata": {},
   "outputs": [
    {
     "data": {
      "text/plain": [
       "Index(['Date', 'Day', 'Hour', 'SensorID', 'Location', 'Counts'], dtype='object')"
      ]
     },
     "execution_count": 62,
     "metadata": {},
     "output_type": "execute_result"
    }
   ],
   "source": [
    "# What are the column names in your dataframe?\n",
    "pdsn.columns"
   ]
  },
  {
   "cell_type": "markdown",
   "metadata": {},
   "source": [
    "You can also examine the data types inside your columns using `dtypes`\n",
    "\n",
    "Knowing what type of data is in your dataframe is extremely important, as it limits what functions you can and can't do on that column. It's useless to try and do string manipulations on an integer, or try to find the sum of a column of names.\n",
    "\n",
    "Within pandas, str = \"object\", int = \"int64\", and float = \"float64\""
   ]
  },
  {
   "cell_type": "code",
   "execution_count": 64,
   "metadata": {},
   "outputs": [
    {
     "data": {
      "text/html": [
       "<div>\n",
       "<style>\n",
       "    .dataframe thead tr:only-child th {\n",
       "        text-align: right;\n",
       "    }\n",
       "\n",
       "    .dataframe thead th {\n",
       "        text-align: left;\n",
       "    }\n",
       "\n",
       "    .dataframe tbody tr th {\n",
       "        vertical-align: top;\n",
       "    }\n",
       "</style>\n",
       "<table border=\"1\" class=\"dataframe\">\n",
       "  <thead>\n",
       "    <tr style=\"text-align: right;\">\n",
       "      <th></th>\n",
       "      <th>Date</th>\n",
       "      <th>Day</th>\n",
       "      <th>Hour</th>\n",
       "      <th>SensorID</th>\n",
       "      <th>Location</th>\n",
       "      <th>Counts</th>\n",
       "    </tr>\n",
       "  </thead>\n",
       "  <tbody>\n",
       "    <tr>\n",
       "      <th>0</th>\n",
       "      <td>01-Jan-2012</td>\n",
       "      <td>Sunday</td>\n",
       "      <td>0</td>\n",
       "      <td>4.0</td>\n",
       "      <td>Town Hall (West)</td>\n",
       "      <td>3363.0</td>\n",
       "    </tr>\n",
       "    <tr>\n",
       "      <th>1</th>\n",
       "      <td>01-Jan-2012</td>\n",
       "      <td>Sunday</td>\n",
       "      <td>0</td>\n",
       "      <td>17.0</td>\n",
       "      <td>Collins Place (South)</td>\n",
       "      <td>549.0</td>\n",
       "    </tr>\n",
       "    <tr>\n",
       "      <th>2</th>\n",
       "      <td>01-Jan-2012</td>\n",
       "      <td>Sunday</td>\n",
       "      <td>0</td>\n",
       "      <td>18.0</td>\n",
       "      <td>Collins Place (North)</td>\n",
       "      <td>382.0</td>\n",
       "    </tr>\n",
       "    <tr>\n",
       "      <th>3</th>\n",
       "      <td>01-Jan-2012</td>\n",
       "      <td>Sunday</td>\n",
       "      <td>0</td>\n",
       "      <td>16.0</td>\n",
       "      <td>Australia on Collins</td>\n",
       "      <td>781.0</td>\n",
       "    </tr>\n",
       "    <tr>\n",
       "      <th>4</th>\n",
       "      <td>01-Jan-2012</td>\n",
       "      <td>Sunday</td>\n",
       "      <td>0</td>\n",
       "      <td>2.0</td>\n",
       "      <td>Bourke Street Mall (South)</td>\n",
       "      <td>1015.0</td>\n",
       "    </tr>\n",
       "  </tbody>\n",
       "</table>\n",
       "</div>"
      ],
      "text/plain": [
       "          Date     Day  Hour  SensorID                    Location  Counts\n",
       "0  01-Jan-2012  Sunday     0       4.0            Town Hall (West)  3363.0\n",
       "1  01-Jan-2012  Sunday     0      17.0       Collins Place (South)   549.0\n",
       "2  01-Jan-2012  Sunday     0      18.0       Collins Place (North)   382.0\n",
       "3  01-Jan-2012  Sunday     0      16.0        Australia on Collins   781.0\n",
       "4  01-Jan-2012  Sunday     0       2.0  Bourke Street Mall (South)  1015.0"
      ]
     },
     "execution_count": 64,
     "metadata": {},
     "output_type": "execute_result"
    }
   ],
   "source": [
    "pdsn.head()"
   ]
  },
  {
   "cell_type": "code",
   "execution_count": 63,
   "metadata": {},
   "outputs": [
    {
     "data": {
      "text/plain": [
       "Date         object\n",
       "Day          object\n",
       "Hour          int64\n",
       "SensorID    float64\n",
       "Location     object\n",
       "Counts      float64\n",
       "dtype: object"
      ]
     },
     "execution_count": 63,
     "metadata": {},
     "output_type": "execute_result"
    }
   ],
   "source": [
    "pdsn.dtypes"
   ]
  },
  {
   "cell_type": "markdown",
   "metadata": {},
   "source": [
    "Knowing this, you can now examine a quick summary of your data to see what you're working with using `describe()`"
   ]
  },
  {
   "cell_type": "code",
   "execution_count": 65,
   "metadata": {},
   "outputs": [
    {
     "data": {
      "text/html": [
       "<div>\n",
       "<style>\n",
       "    .dataframe thead tr:only-child th {\n",
       "        text-align: right;\n",
       "    }\n",
       "\n",
       "    .dataframe thead th {\n",
       "        text-align: left;\n",
       "    }\n",
       "\n",
       "    .dataframe tbody tr th {\n",
       "        vertical-align: top;\n",
       "    }\n",
       "</style>\n",
       "<table border=\"1\" class=\"dataframe\">\n",
       "  <thead>\n",
       "    <tr style=\"text-align: right;\">\n",
       "      <th></th>\n",
       "      <th>Hour</th>\n",
       "      <th>SensorID</th>\n",
       "      <th>Counts</th>\n",
       "    </tr>\n",
       "  </thead>\n",
       "  <tbody>\n",
       "    <tr>\n",
       "      <th>count</th>\n",
       "      <td>656823.000000</td>\n",
       "      <td>656821.000000</td>\n",
       "      <td>656809.000000</td>\n",
       "    </tr>\n",
       "    <tr>\n",
       "      <th>mean</th>\n",
       "      <td>11.499887</td>\n",
       "      <td>14.208978</td>\n",
       "      <td>625.776073</td>\n",
       "    </tr>\n",
       "    <tr>\n",
       "      <th>std</th>\n",
       "      <td>6.922519</td>\n",
       "      <td>9.166034</td>\n",
       "      <td>827.166875</td>\n",
       "    </tr>\n",
       "    <tr>\n",
       "      <th>min</th>\n",
       "      <td>0.000000</td>\n",
       "      <td>1.000000</td>\n",
       "      <td>0.000000</td>\n",
       "    </tr>\n",
       "    <tr>\n",
       "      <th>25%</th>\n",
       "      <td>5.000000</td>\n",
       "      <td>7.000000</td>\n",
       "      <td>63.000000</td>\n",
       "    </tr>\n",
       "    <tr>\n",
       "      <th>50%</th>\n",
       "      <td>12.000000</td>\n",
       "      <td>13.000000</td>\n",
       "      <td>262.000000</td>\n",
       "    </tr>\n",
       "    <tr>\n",
       "      <th>75%</th>\n",
       "      <td>18.000000</td>\n",
       "      <td>20.000000</td>\n",
       "      <td>874.000000</td>\n",
       "    </tr>\n",
       "    <tr>\n",
       "      <th>max</th>\n",
       "      <td>23.000000</td>\n",
       "      <td>40.000000</td>\n",
       "      <td>11284.000000</td>\n",
       "    </tr>\n",
       "  </tbody>\n",
       "</table>\n",
       "</div>"
      ],
      "text/plain": [
       "                Hour       SensorID         Counts\n",
       "count  656823.000000  656821.000000  656809.000000\n",
       "mean       11.499887      14.208978     625.776073\n",
       "std         6.922519       9.166034     827.166875\n",
       "min         0.000000       1.000000       0.000000\n",
       "25%         5.000000       7.000000      63.000000\n",
       "50%        12.000000      13.000000     262.000000\n",
       "75%        18.000000      20.000000     874.000000\n",
       "max        23.000000      40.000000   11284.000000"
      ]
     },
     "execution_count": 65,
     "metadata": {},
     "output_type": "execute_result"
    }
   ],
   "source": [
    "pdsn.describe()"
   ]
  },
  {
   "cell_type": "markdown",
   "metadata": {},
   "source": [
    "What you might notice here is that only the *numeric* columns have been returned. To view both your numeric and string/date/other columns, you will need to use the parameter `include`"
   ]
  },
  {
   "cell_type": "code",
   "execution_count": 67,
   "metadata": {},
   "outputs": [
    {
     "name": "stdout",
     "output_type": "stream",
     "text": [
      "Help on method describe in module pandas.core.generic:\n",
      "\n",
      "describe(percentiles=None, include=None, exclude=None) method of pandas.core.frame.DataFrame instance\n",
      "    Generates descriptive statistics that summarize the central tendency,\n",
      "    dispersion and shape of a dataset's distribution, excluding\n",
      "    ``NaN`` values.\n",
      "    \n",
      "    Analyzes both numeric and object series, as well\n",
      "    as ``DataFrame`` column sets of mixed data types. The output\n",
      "    will vary depending on what is provided. Refer to the notes\n",
      "    below for more detail.\n",
      "    \n",
      "    Parameters\n",
      "    ----------\n",
      "    percentiles : list-like of numbers, optional\n",
      "        The percentiles to include in the output. All should\n",
      "        fall between 0 and 1. The default is\n",
      "        ``[.25, .5, .75]``, which returns the 25th, 50th, and\n",
      "        75th percentiles.\n",
      "    include : 'all', list-like of dtypes or None (default), optional\n",
      "        A white list of data types to include in the result. Ignored\n",
      "        for ``Series``. Here are the options:\n",
      "    \n",
      "        - 'all' : All columns of the input will be included in the output.\n",
      "        - A list-like of dtypes : Limits the results to the\n",
      "          provided data types.\n",
      "          To limit the result to numeric types submit\n",
      "          ``numpy.number``. To limit it instead to categorical\n",
      "          objects submit the ``numpy.object`` data type. Strings\n",
      "          can also be used in the style of\n",
      "          ``select_dtypes`` (e.g. ``df.describe(include=['O'])``)\n",
      "        - None (default) : The result will include all numeric columns.\n",
      "    exclude : list-like of dtypes or None (default), optional,\n",
      "        A black list of data types to omit from the result. Ignored\n",
      "        for ``Series``. Here are the options:\n",
      "    \n",
      "        - A list-like of dtypes : Excludes the provided data types\n",
      "          from the result. To select numeric types submit\n",
      "          ``numpy.number``. To select categorical objects submit the data\n",
      "          type ``numpy.object``. Strings can also be used in the style of\n",
      "          ``select_dtypes`` (e.g. ``df.describe(include=['O'])``)\n",
      "        - None (default) : The result will exclude nothing.\n",
      "    \n",
      "    Returns\n",
      "    -------\n",
      "    summary:  Series/DataFrame of summary statistics\n",
      "    \n",
      "    Notes\n",
      "    -----\n",
      "    For numeric data, the result's index will include ``count``,\n",
      "    ``mean``, ``std``, ``min``, ``max`` as well as lower, ``50`` and\n",
      "    upper percentiles. By default the lower percentile is ``25`` and the\n",
      "    upper percentile is ``75``. The ``50`` percentile is the\n",
      "    same as the median.\n",
      "    \n",
      "    For object data (e.g. strings or timestamps), the result's index\n",
      "    will include ``count``, ``unique``, ``top``, and ``freq``. The ``top``\n",
      "    is the most common value. The ``freq`` is the most common value's\n",
      "    frequency. Timestamps also include the ``first`` and ``last`` items.\n",
      "    \n",
      "    If multiple object values have the highest count, then the\n",
      "    ``count`` and ``top`` results will be arbitrarily chosen from\n",
      "    among those with the highest count.\n",
      "    \n",
      "    For mixed data types provided via a ``DataFrame``, the default is to\n",
      "    return only an analysis of numeric columns. If ``include='all'``\n",
      "    is provided as an option, the result will include a union of\n",
      "    attributes of each type.\n",
      "    \n",
      "    The `include` and `exclude` parameters can be used to limit\n",
      "    which columns in a ``DataFrame`` are analyzed for the output.\n",
      "    The parameters are ignored when analyzing a ``Series``.\n",
      "    \n",
      "    Examples\n",
      "    --------\n",
      "    Describing a numeric ``Series``.\n",
      "    \n",
      "    >>> s = pd.Series([1, 2, 3])\n",
      "    >>> s.describe()\n",
      "    count    3.0\n",
      "    mean     2.0\n",
      "    std      1.0\n",
      "    min      1.0\n",
      "    25%      1.5\n",
      "    50%      2.0\n",
      "    75%      2.5\n",
      "    max      3.0\n",
      "    \n",
      "    Describing a categorical ``Series``.\n",
      "    \n",
      "    >>> s = pd.Series(['a', 'a', 'b', 'c'])\n",
      "    >>> s.describe()\n",
      "    count     4\n",
      "    unique    3\n",
      "    top       a\n",
      "    freq      2\n",
      "    dtype: object\n",
      "    \n",
      "    Describing a timestamp ``Series``.\n",
      "    \n",
      "    >>> s = pd.Series([\n",
      "    ...   np.datetime64(\"2000-01-01\"),\n",
      "    ...   np.datetime64(\"2010-01-01\"),\n",
      "    ...   np.datetime64(\"2010-01-01\")\n",
      "    ... ])\n",
      "    >>> s.describe()\n",
      "    count                       3\n",
      "    unique                      2\n",
      "    top       2010-01-01 00:00:00\n",
      "    freq                        2\n",
      "    first     2000-01-01 00:00:00\n",
      "    last      2010-01-01 00:00:00\n",
      "    dtype: object\n",
      "    \n",
      "    Describing a ``DataFrame``. By default only numeric fields\n",
      "    are returned.\n",
      "    \n",
      "    >>> df = pd.DataFrame([[1, 'a'], [2, 'b'], [3, 'c']],\n",
      "    ...                   columns=['numeric', 'object'])\n",
      "    >>> df.describe()\n",
      "           numeric\n",
      "    count      3.0\n",
      "    mean       2.0\n",
      "    std        1.0\n",
      "    min        1.0\n",
      "    25%        1.5\n",
      "    50%        2.0\n",
      "    75%        2.5\n",
      "    max        3.0\n",
      "    \n",
      "    Describing all columns of a ``DataFrame`` regardless of data type.\n",
      "    \n",
      "    >>> df.describe(include='all')\n",
      "            numeric object\n",
      "    count       3.0      3\n",
      "    unique      NaN      3\n",
      "    top         NaN      b\n",
      "    freq        NaN      1\n",
      "    mean        2.0    NaN\n",
      "    std         1.0    NaN\n",
      "    min         1.0    NaN\n",
      "    25%         1.5    NaN\n",
      "    50%         2.0    NaN\n",
      "    75%         2.5    NaN\n",
      "    max         3.0    NaN\n",
      "    \n",
      "    Describing a column from a ``DataFrame`` by accessing it as\n",
      "    an attribute.\n",
      "    \n",
      "    >>> df.numeric.describe()\n",
      "    count    3.0\n",
      "    mean     2.0\n",
      "    std      1.0\n",
      "    min      1.0\n",
      "    25%      1.5\n",
      "    50%      2.0\n",
      "    75%      2.5\n",
      "    max      3.0\n",
      "    Name: numeric, dtype: float64\n",
      "    \n",
      "    Including only numeric columns in a ``DataFrame`` description.\n",
      "    \n",
      "    >>> df.describe(include=[np.number])\n",
      "           numeric\n",
      "    count      3.0\n",
      "    mean       2.0\n",
      "    std        1.0\n",
      "    min        1.0\n",
      "    25%        1.5\n",
      "    50%        2.0\n",
      "    75%        2.5\n",
      "    max        3.0\n",
      "    \n",
      "    Including only string columns in a ``DataFrame`` description.\n",
      "    \n",
      "    >>> df.describe(include=[np.object])\n",
      "           object\n",
      "    count       3\n",
      "    unique      3\n",
      "    top         b\n",
      "    freq        1\n",
      "    \n",
      "    Excluding numeric columns from a ``DataFrame`` description.\n",
      "    \n",
      "    >>> df.describe(exclude=[np.number])\n",
      "           object\n",
      "    count       3\n",
      "    unique      3\n",
      "    top         b\n",
      "    freq        1\n",
      "    \n",
      "    Excluding object columns from a ``DataFrame`` description.\n",
      "    \n",
      "    >>> df.describe(exclude=[np.object])\n",
      "           numeric\n",
      "    count      3.0\n",
      "    mean       2.0\n",
      "    std        1.0\n",
      "    min        1.0\n",
      "    25%        1.5\n",
      "    50%        2.0\n",
      "    75%        2.5\n",
      "    max        3.0\n",
      "    \n",
      "    See Also\n",
      "    --------\n",
      "    DataFrame.count\n",
      "    DataFrame.max\n",
      "    DataFrame.min\n",
      "    DataFrame.mean\n",
      "    DataFrame.std\n",
      "    DataFrame.select_dtypes\n",
      "\n"
     ]
    }
   ],
   "source": [
    "help(df.describe)"
   ]
  },
  {
   "cell_type": "code",
   "execution_count": 66,
   "metadata": {
    "scrolled": true
   },
   "outputs": [
    {
     "data": {
      "text/html": [
       "<div>\n",
       "<style>\n",
       "    .dataframe thead tr:only-child th {\n",
       "        text-align: right;\n",
       "    }\n",
       "\n",
       "    .dataframe thead th {\n",
       "        text-align: left;\n",
       "    }\n",
       "\n",
       "    .dataframe tbody tr th {\n",
       "        vertical-align: top;\n",
       "    }\n",
       "</style>\n",
       "<table border=\"1\" class=\"dataframe\">\n",
       "  <thead>\n",
       "    <tr style=\"text-align: right;\">\n",
       "      <th></th>\n",
       "      <th>Date</th>\n",
       "      <th>Day</th>\n",
       "      <th>Hour</th>\n",
       "      <th>SensorID</th>\n",
       "      <th>Location</th>\n",
       "      <th>Counts</th>\n",
       "    </tr>\n",
       "  </thead>\n",
       "  <tbody>\n",
       "    <tr>\n",
       "      <th>count</th>\n",
       "      <td>656823</td>\n",
       "      <td>656823</td>\n",
       "      <td>656823.000000</td>\n",
       "      <td>656821.000000</td>\n",
       "      <td>656823</td>\n",
       "      <td>656809.000000</td>\n",
       "    </tr>\n",
       "    <tr>\n",
       "      <th>unique</th>\n",
       "      <td>1142</td>\n",
       "      <td>7</td>\n",
       "      <td>NaN</td>\n",
       "      <td>NaN</td>\n",
       "      <td>40</td>\n",
       "      <td>NaN</td>\n",
       "    </tr>\n",
       "    <tr>\n",
       "      <th>top</th>\n",
       "      <td>07-Feb-2015</td>\n",
       "      <td>Friday</td>\n",
       "      <td>NaN</td>\n",
       "      <td>NaN</td>\n",
       "      <td>Bourke Street Mall (South)</td>\n",
       "      <td>NaN</td>\n",
       "    </tr>\n",
       "    <tr>\n",
       "      <th>freq</th>\n",
       "      <td>864</td>\n",
       "      <td>94025</td>\n",
       "      <td>NaN</td>\n",
       "      <td>NaN</td>\n",
       "      <td>27361</td>\n",
       "      <td>NaN</td>\n",
       "    </tr>\n",
       "    <tr>\n",
       "      <th>mean</th>\n",
       "      <td>NaN</td>\n",
       "      <td>NaN</td>\n",
       "      <td>11.499887</td>\n",
       "      <td>14.208978</td>\n",
       "      <td>NaN</td>\n",
       "      <td>625.776073</td>\n",
       "    </tr>\n",
       "    <tr>\n",
       "      <th>std</th>\n",
       "      <td>NaN</td>\n",
       "      <td>NaN</td>\n",
       "      <td>6.922519</td>\n",
       "      <td>9.166034</td>\n",
       "      <td>NaN</td>\n",
       "      <td>827.166875</td>\n",
       "    </tr>\n",
       "    <tr>\n",
       "      <th>min</th>\n",
       "      <td>NaN</td>\n",
       "      <td>NaN</td>\n",
       "      <td>0.000000</td>\n",
       "      <td>1.000000</td>\n",
       "      <td>NaN</td>\n",
       "      <td>0.000000</td>\n",
       "    </tr>\n",
       "    <tr>\n",
       "      <th>25%</th>\n",
       "      <td>NaN</td>\n",
       "      <td>NaN</td>\n",
       "      <td>5.000000</td>\n",
       "      <td>7.000000</td>\n",
       "      <td>NaN</td>\n",
       "      <td>63.000000</td>\n",
       "    </tr>\n",
       "    <tr>\n",
       "      <th>50%</th>\n",
       "      <td>NaN</td>\n",
       "      <td>NaN</td>\n",
       "      <td>12.000000</td>\n",
       "      <td>13.000000</td>\n",
       "      <td>NaN</td>\n",
       "      <td>262.000000</td>\n",
       "    </tr>\n",
       "    <tr>\n",
       "      <th>75%</th>\n",
       "      <td>NaN</td>\n",
       "      <td>NaN</td>\n",
       "      <td>18.000000</td>\n",
       "      <td>20.000000</td>\n",
       "      <td>NaN</td>\n",
       "      <td>874.000000</td>\n",
       "    </tr>\n",
       "    <tr>\n",
       "      <th>max</th>\n",
       "      <td>NaN</td>\n",
       "      <td>NaN</td>\n",
       "      <td>23.000000</td>\n",
       "      <td>40.000000</td>\n",
       "      <td>NaN</td>\n",
       "      <td>11284.000000</td>\n",
       "    </tr>\n",
       "  </tbody>\n",
       "</table>\n",
       "</div>"
      ],
      "text/plain": [
       "               Date     Day           Hour       SensorID  \\\n",
       "count        656823  656823  656823.000000  656821.000000   \n",
       "unique         1142       7            NaN            NaN   \n",
       "top     07-Feb-2015  Friday            NaN            NaN   \n",
       "freq            864   94025            NaN            NaN   \n",
       "mean            NaN     NaN      11.499887      14.208978   \n",
       "std             NaN     NaN       6.922519       9.166034   \n",
       "min             NaN     NaN       0.000000       1.000000   \n",
       "25%             NaN     NaN       5.000000       7.000000   \n",
       "50%             NaN     NaN      12.000000      13.000000   \n",
       "75%             NaN     NaN      18.000000      20.000000   \n",
       "max             NaN     NaN      23.000000      40.000000   \n",
       "\n",
       "                          Location         Counts  \n",
       "count                       656823  656809.000000  \n",
       "unique                          40            NaN  \n",
       "top     Bourke Street Mall (South)            NaN  \n",
       "freq                         27361            NaN  \n",
       "mean                           NaN     625.776073  \n",
       "std                            NaN     827.166875  \n",
       "min                            NaN       0.000000  \n",
       "25%                            NaN      63.000000  \n",
       "50%                            NaN     262.000000  \n",
       "75%                            NaN     874.000000  \n",
       "max                            NaN   11284.000000  "
      ]
     },
     "execution_count": 66,
     "metadata": {},
     "output_type": "execute_result"
    }
   ],
   "source": [
    "pdsn.describe(include = \"all\")"
   ]
  },
  {
   "cell_type": "markdown",
   "metadata": {},
   "source": [
    "As all of this data is output in the same table, the rows which aren't applicable to that data type are filled that NaN's"
   ]
  },
  {
   "cell_type": "markdown",
   "metadata": {},
   "source": [
    "### Summary Statistics\n",
    "\n",
    "We can also find specific statistics for each of these columns by using `max()`, `min()`, `count()`, `std()`, and `sum()`. \n",
    "\n",
    "Just remember though that many of these functions rely on numeric data types, and will cause errors if used on a str type. Calling `sum()` on a string however will concatentate those strings."
   ]
  },
  {
   "cell_type": "code",
   "execution_count": 69,
   "metadata": {},
   "outputs": [
    {
     "data": {
      "text/plain": [
       "23"
      ]
     },
     "execution_count": 69,
     "metadata": {},
     "output_type": "execute_result"
    }
   ],
   "source": [
    "#Try finding the maximum of the Location (a string) column\n",
    "pdsn.Hour.max()"
   ]
  },
  {
   "cell_type": "code",
   "execution_count": 70,
   "metadata": {},
   "outputs": [
    {
     "data": {
      "text/plain": [
       "827.1668745224656"
      ]
     },
     "execution_count": 70,
     "metadata": {},
     "output_type": "execute_result"
    }
   ],
   "source": [
    "# what about the Standard Deviation (std) of Counts (numeric)?\n",
    "pdsn.Counts.std()"
   ]
  },
  {
   "cell_type": "markdown",
   "metadata": {},
   "source": [
    "Other useful functions include `mean()` and `unique()`.\n",
    "\n",
    "Where `mean()` takes the average of numeric data, `unique()` works on both numeric and string data, and gives you a list of all of the unique values within a particular column.\n"
   ]
  },
  {
   "cell_type": "code",
   "execution_count": 74,
   "metadata": {},
   "outputs": [
    {
     "data": {
      "text/plain": [
       "array(['Sunday', 'Monday', 'Tuesday', 'Wednesday', 'Thursday', 'Friday',\n",
       "       'Saturday'], dtype=object)"
      ]
     },
     "execution_count": 74,
     "metadata": {},
     "output_type": "execute_result"
    }
   ],
   "source": [
    "# Unique works on numeric data\n",
    "pdsn.Day.unique()"
   ]
  },
  {
   "cell_type": "code",
   "execution_count": 76,
   "metadata": {},
   "outputs": [
    {
     "data": {
      "text/plain": [
       "array(['Sunday', 'Monday', 'Tuesday', 'Wednesday', 'Thursday', 'Friday',\n",
       "       'Saturday'], dtype=object)"
      ]
     },
     "execution_count": 76,
     "metadata": {},
     "output_type": "execute_result"
    }
   ],
   "source": [
    "# As well as on str data\n",
    "pdsn.Day.unique()"
   ]
  },
  {
   "cell_type": "markdown",
   "metadata": {},
   "source": [
    "As this returns a numpy array though, rather than a pandas dataframe or series object, you can use either `len()` or `array.size` to find the number of unique values for that column"
   ]
  },
  {
   "cell_type": "code",
   "execution_count": 77,
   "metadata": {},
   "outputs": [
    {
     "data": {
      "text/plain": [
       "7"
      ]
     },
     "execution_count": 77,
     "metadata": {},
     "output_type": "execute_result"
    }
   ],
   "source": [
    "# Using the numpy \"size\" function\n",
    "# pdsn.Day.unique().size\n",
    "\n",
    "# Using the len() function\n",
    "len(pdsn.Day.unique())"
   ]
  },
  {
   "cell_type": "markdown",
   "metadata": {},
   "source": [
    "### Subsetting with conditionals\n",
    "You can also subset using conditional statements, such as:  \n",
    "* `==` or `!=`\n",
    "* `>` or `<`\n",
    "etc.\n",
    "\n",
    "For example, if I want to find all of the rows in our toy dataframe, `df` where `C > 30`, I would type:"
   ]
  },
  {
   "cell_type": "code",
   "execution_count": 79,
   "metadata": {},
   "outputs": [
    {
     "data": {
      "text/html": [
       "<div>\n",
       "<style>\n",
       "    .dataframe thead tr:only-child th {\n",
       "        text-align: right;\n",
       "    }\n",
       "\n",
       "    .dataframe thead th {\n",
       "        text-align: left;\n",
       "    }\n",
       "\n",
       "    .dataframe tbody tr th {\n",
       "        vertical-align: top;\n",
       "    }\n",
       "</style>\n",
       "<table border=\"1\" class=\"dataframe\">\n",
       "  <thead>\n",
       "    <tr style=\"text-align: right;\">\n",
       "      <th></th>\n",
       "      <th>A</th>\n",
       "      <th>B</th>\n",
       "      <th>C</th>\n",
       "    </tr>\n",
       "  </thead>\n",
       "  <tbody>\n",
       "    <tr>\n",
       "      <th>1</th>\n",
       "      <td>d</td>\n",
       "      <td>0.137304</td>\n",
       "      <td>59</td>\n",
       "    </tr>\n",
       "    <tr>\n",
       "      <th>3</th>\n",
       "      <td>f</td>\n",
       "      <td>-0.073563</td>\n",
       "      <td>40</td>\n",
       "    </tr>\n",
       "  </tbody>\n",
       "</table>\n",
       "</div>"
      ],
      "text/plain": [
       "   A         B   C\n",
       "1  d  0.137304  59\n",
       "3  f -0.073563  40"
      ]
     },
     "execution_count": 79,
     "metadata": {},
     "output_type": "execute_result"
    }
   ],
   "source": [
    "df[df[\"C\"]>30]"
   ]
  },
  {
   "cell_type": "markdown",
   "metadata": {},
   "source": [
    "Just as with lists and for loops, etc, you can also combine these conditionals using & {and} , or | {or}"
   ]
  },
  {
   "cell_type": "code",
   "execution_count": 84,
   "metadata": {},
   "outputs": [
    {
     "data": {
      "text/html": [
       "<div>\n",
       "<style>\n",
       "    .dataframe thead tr:only-child th {\n",
       "        text-align: right;\n",
       "    }\n",
       "\n",
       "    .dataframe thead th {\n",
       "        text-align: left;\n",
       "    }\n",
       "\n",
       "    .dataframe tbody tr th {\n",
       "        vertical-align: top;\n",
       "    }\n",
       "</style>\n",
       "<table border=\"1\" class=\"dataframe\">\n",
       "  <thead>\n",
       "    <tr style=\"text-align: right;\">\n",
       "      <th></th>\n",
       "      <th>A</th>\n",
       "      <th>B</th>\n",
       "      <th>C</th>\n",
       "    </tr>\n",
       "  </thead>\n",
       "  <tbody>\n",
       "    <tr>\n",
       "      <th>47</th>\n",
       "      <td>a</td>\n",
       "      <td>-0.867472</td>\n",
       "      <td>1</td>\n",
       "    </tr>\n",
       "    <tr>\n",
       "      <th>48</th>\n",
       "      <td>b</td>\n",
       "      <td>-0.656514</td>\n",
       "      <td>7</td>\n",
       "    </tr>\n",
       "    <tr>\n",
       "      <th>49</th>\n",
       "      <td>c</td>\n",
       "      <td>-1.316669</td>\n",
       "      <td>20</td>\n",
       "    </tr>\n",
       "    <tr>\n",
       "      <th>1</th>\n",
       "      <td>d</td>\n",
       "      <td>0.137304</td>\n",
       "      <td>59</td>\n",
       "    </tr>\n",
       "    <tr>\n",
       "      <th>2</th>\n",
       "      <td>e</td>\n",
       "      <td>-0.872810</td>\n",
       "      <td>30</td>\n",
       "    </tr>\n",
       "    <tr>\n",
       "      <th>3</th>\n",
       "      <td>f</td>\n",
       "      <td>-0.073563</td>\n",
       "      <td>40</td>\n",
       "    </tr>\n",
       "  </tbody>\n",
       "</table>\n",
       "</div>"
      ],
      "text/plain": [
       "    A         B   C\n",
       "47  a -0.867472   1\n",
       "48  b -0.656514   7\n",
       "49  c -1.316669  20\n",
       "1   d  0.137304  59\n",
       "2   e -0.872810  30\n",
       "3   f -0.073563  40"
      ]
     },
     "execution_count": 84,
     "metadata": {},
     "output_type": "execute_result"
    }
   ],
   "source": [
    "df"
   ]
  },
  {
   "cell_type": "code",
   "execution_count": 81,
   "metadata": {
    "scrolled": true
   },
   "outputs": [
    {
     "data": {
      "text/html": [
       "<div>\n",
       "<style>\n",
       "    .dataframe thead tr:only-child th {\n",
       "        text-align: right;\n",
       "    }\n",
       "\n",
       "    .dataframe thead th {\n",
       "        text-align: left;\n",
       "    }\n",
       "\n",
       "    .dataframe tbody tr th {\n",
       "        vertical-align: top;\n",
       "    }\n",
       "</style>\n",
       "<table border=\"1\" class=\"dataframe\">\n",
       "  <thead>\n",
       "    <tr style=\"text-align: right;\">\n",
       "      <th></th>\n",
       "      <th>A</th>\n",
       "      <th>B</th>\n",
       "      <th>C</th>\n",
       "    </tr>\n",
       "  </thead>\n",
       "  <tbody>\n",
       "    <tr>\n",
       "      <th>1</th>\n",
       "      <td>d</td>\n",
       "      <td>0.137304</td>\n",
       "      <td>59</td>\n",
       "    </tr>\n",
       "    <tr>\n",
       "      <th>3</th>\n",
       "      <td>f</td>\n",
       "      <td>-0.073563</td>\n",
       "      <td>40</td>\n",
       "    </tr>\n",
       "  </tbody>\n",
       "</table>\n",
       "</div>"
      ],
      "text/plain": [
       "   A         B   C\n",
       "1  d  0.137304  59\n",
       "3  f -0.073563  40"
      ]
     },
     "execution_count": 81,
     "metadata": {},
     "output_type": "execute_result"
    }
   ],
   "source": [
    "#Find the rows where B < 0.5 AND C > 30\n",
    "df[(df[\"C\"]>30) & (df[\"B\"]< 0.5)]"
   ]
  },
  {
   "cell_type": "code",
   "execution_count": 83,
   "metadata": {},
   "outputs": [
    {
     "data": {
      "text/plain": [
       "[1, 3]"
      ]
     },
     "execution_count": 83,
     "metadata": {},
     "output_type": "execute_result"
    }
   ],
   "source": [
    "#You can also get a list of the row indexes for your subset\n",
    "list(df[(df[\"C\"]>30) & (df[\"B\"]< 0.5)].index)"
   ]
  },
  {
   "cell_type": "markdown",
   "metadata": {},
   "source": [
    "Similarly, you can subset using a list of boolean values"
   ]
  },
  {
   "cell_type": "code",
   "execution_count": 85,
   "metadata": {},
   "outputs": [
    {
     "data": {
      "text/html": [
       "<div>\n",
       "<style>\n",
       "    .dataframe thead tr:only-child th {\n",
       "        text-align: right;\n",
       "    }\n",
       "\n",
       "    .dataframe thead th {\n",
       "        text-align: left;\n",
       "    }\n",
       "\n",
       "    .dataframe tbody tr th {\n",
       "        vertical-align: top;\n",
       "    }\n",
       "</style>\n",
       "<table border=\"1\" class=\"dataframe\">\n",
       "  <thead>\n",
       "    <tr style=\"text-align: right;\">\n",
       "      <th></th>\n",
       "      <th>A</th>\n",
       "      <th>B</th>\n",
       "      <th>C</th>\n",
       "    </tr>\n",
       "  </thead>\n",
       "  <tbody>\n",
       "    <tr>\n",
       "      <th>47</th>\n",
       "      <td>a</td>\n",
       "      <td>-0.867472</td>\n",
       "      <td>1</td>\n",
       "    </tr>\n",
       "    <tr>\n",
       "      <th>49</th>\n",
       "      <td>c</td>\n",
       "      <td>-1.316669</td>\n",
       "      <td>20</td>\n",
       "    </tr>\n",
       "    <tr>\n",
       "      <th>2</th>\n",
       "      <td>e</td>\n",
       "      <td>-0.872810</td>\n",
       "      <td>30</td>\n",
       "    </tr>\n",
       "  </tbody>\n",
       "</table>\n",
       "</div>"
      ],
      "text/plain": [
       "    A         B   C\n",
       "47  a -0.867472   1\n",
       "49  c -1.316669  20\n",
       "2   e -0.872810  30"
      ]
     },
     "execution_count": 85,
     "metadata": {},
     "output_type": "execute_result"
    }
   ],
   "source": [
    "# a boolean list. The 1st, 3rd and 5th values are True.\n",
    "na = [True,False,True,False,True,False]\n",
    "\n",
    "df[na] #subsets the 1st, 3rd and 5th rows"
   ]
  },
  {
   "cell_type": "markdown",
   "metadata": {},
   "source": [
    "#### Challenge 2\n",
    "\n",
    "**Part 1**\n",
    "\n",
    "Find how many rows belong to the sensor at Lygon St (West) between the hours of 12am and 2am?\n",
    "\n",
    "*Hint 1: an entry of \"3\" in the Hour column means that the pedestrian counts have been monitored from 3am to 4am*\n",
    "\n",
    "*Hint 2: remember that you find the length of a list, or you can use `array.size`*"
   ]
  },
  {
   "cell_type": "code",
   "execution_count": 86,
   "metadata": {},
   "outputs": [
    {
     "data": {
      "text/plain": [
       "988"
      ]
     },
     "execution_count": 86,
     "metadata": {},
     "output_type": "execute_result"
    }
   ],
   "source": [
    "pdsn[(pdsn[\"Location\"] == \"Lygon St (West)\") & (pdsn.Hour >=0) & (pdsn.Hour < 2)].shape"
   ]
  },
  {
   "cell_type": "markdown",
   "metadata": {},
   "source": [
    "**Part 2**\n",
    "\n",
    "Calculate the sum of all  (the total number of Counts)"
   ]
  },
  {
   "cell_type": "code",
   "execution_count": 88,
   "metadata": {},
   "outputs": [
    {
     "data": {
      "text/plain": [
       "411015357.0"
      ]
     },
     "execution_count": 88,
     "metadata": {},
     "output_type": "execute_result"
    }
   ],
   "source": [
    "# Subset\n",
    "pdsn[(pdsn[\"Location\"] == \"Lygon St (West)\") & (pdsn.Hour >=0) & (pdsn.Hour < 2)].Counts.sum()\n",
    "#Total\n",
    "pdsn.Counts.sum()"
   ]
  },
  {
   "cell_type": "code",
   "execution_count": null,
   "metadata": {},
   "outputs": [],
   "source": []
  },
  {
   "cell_type": "markdown",
   "metadata": {},
   "source": [
    "**Part 3**\n",
    "\n",
    "Calculate the mean pedestrian count seen between (each of):\n",
    "* 12am and 1am\n",
    "* 1pm and 2pm\n",
    "* 10pm and 11pm\n",
    "\n",
    "At the Melbourne Central crossing"
   ]
  },
  {
   "cell_type": "code",
   "execution_count": 94,
   "metadata": {},
   "outputs": [
    {
     "data": {
      "text/plain": [
       "1403.4700380005847"
      ]
     },
     "execution_count": 94,
     "metadata": {},
     "output_type": "execute_result"
    }
   ],
   "source": [
    "pdsn[(pdsn.Location == \"Melbourne Central\") & (pdsn.Hour.isin([0,13,22]))].Counts.mean()"
   ]
  },
  {
   "cell_type": "markdown",
   "metadata": {},
   "source": [
    "##### Optional Extra\n",
    "\n",
    "Suppose you have DataFrame with 10 columns of real numbers, for example\n",
    "\n",
    "`df2 = pd.DataFrame(np.random.random(size=(5, 10)), columns=list('abcdefghij'))`\n",
    "\n",
    "Which column of numbers has the smallest sum? Find that column's label.\n",
    "\n",
    "*Hint: https://pandas.pydata.org/pandas-docs/stable/generated/pandas.DataFrame.idxmin.html*"
   ]
  },
  {
   "cell_type": "code",
   "execution_count": null,
   "metadata": {},
   "outputs": [],
   "source": []
  },
  {
   "cell_type": "code",
   "execution_count": null,
   "metadata": {},
   "outputs": [],
   "source": []
  },
  {
   "cell_type": "markdown",
   "metadata": {},
   "source": [
    "# Manipulating Your Dataframe\n",
    "\n",
    "- Changing data: `set_value()`\n",
    "- Finding NaNs: \n",
    "    - `count()` \n",
    "    - Using booleans: `isnull()`\n",
    "    - Chaining: `isnull().any()`, `isnull().sum()`\n",
    "    - Subsetting: `df[df['Column'].isnull()]`\n",
    "- Data type conversion\n",
    "- Using the \"timestamp\" data type\n",
    "- Adding and deleting columns/rows\n",
    "- `groupby()`"
   ]
  },
  {
   "cell_type": "markdown",
   "metadata": {},
   "source": [
    "## Changing data inside your dataframe\n",
    "\n",
    "Occasionally, you might notice a particular value inside your data frame that you need to change - it could be a singular error, a spelling mistake, etc.\n",
    "\n",
    "This can be done using the `set_value(index,\"column\", value)` function. For the index parameter, you can pass it either a single index, or a list, [], of indexes to be replaced. \n",
    "\n",
    "`set_value()` works with column/row labels, similar to `loc`, rather than the indexes."
   ]
  },
  {
   "cell_type": "code",
   "execution_count": 99,
   "metadata": {},
   "outputs": [
    {
     "data": {
      "text/html": [
       "<div>\n",
       "<style>\n",
       "    .dataframe thead tr:only-child th {\n",
       "        text-align: right;\n",
       "    }\n",
       "\n",
       "    .dataframe thead th {\n",
       "        text-align: left;\n",
       "    }\n",
       "\n",
       "    .dataframe tbody tr th {\n",
       "        vertical-align: top;\n",
       "    }\n",
       "</style>\n",
       "<table border=\"1\" class=\"dataframe\">\n",
       "  <thead>\n",
       "    <tr style=\"text-align: right;\">\n",
       "      <th></th>\n",
       "      <th>A</th>\n",
       "      <th>B</th>\n",
       "      <th>C</th>\n",
       "    </tr>\n",
       "  </thead>\n",
       "  <tbody>\n",
       "    <tr>\n",
       "      <th>47</th>\n",
       "      <td>a</td>\n",
       "      <td>-0.542128</td>\n",
       "      <td>NaN</td>\n",
       "    </tr>\n",
       "    <tr>\n",
       "      <th>48</th>\n",
       "      <td>b</td>\n",
       "      <td>1.785010</td>\n",
       "      <td>7.0</td>\n",
       "    </tr>\n",
       "    <tr>\n",
       "      <th>49</th>\n",
       "      <td>c</td>\n",
       "      <td>1.259161</td>\n",
       "      <td>NaN</td>\n",
       "    </tr>\n",
       "    <tr>\n",
       "      <th>1</th>\n",
       "      <td>NaN</td>\n",
       "      <td>-1.252323</td>\n",
       "      <td>59.0</td>\n",
       "    </tr>\n",
       "    <tr>\n",
       "      <th>2</th>\n",
       "      <td>e</td>\n",
       "      <td>0.588372</td>\n",
       "      <td>NaN</td>\n",
       "    </tr>\n",
       "    <tr>\n",
       "      <th>3</th>\n",
       "      <td>f</td>\n",
       "      <td>-0.850163</td>\n",
       "      <td>40.0</td>\n",
       "    </tr>\n",
       "  </tbody>\n",
       "</table>\n",
       "</div>"
      ],
      "text/plain": [
       "      A         B     C\n",
       "47    a -0.542128   NaN\n",
       "48    b  1.785010   7.0\n",
       "49    c  1.259161   NaN\n",
       "1   NaN -1.252323  59.0\n",
       "2     e  0.588372   NaN\n",
       "3     f -0.850163  40.0"
      ]
     },
     "execution_count": 99,
     "metadata": {},
     "output_type": "execute_result"
    }
   ],
   "source": [
    "\n",
    "df = pd.DataFrame({\"A\":['a','b','c',np.nan,'e','f'],\n",
    "                   \"B\":np.random.randn(6),\n",
    "                   \"C\": [np.nan,7,np.nan,59,np.nan,40]},\n",
    "                  index = [47,48,49,1,2,3]\n",
    "    )\n",
    "df"
   ]
  },
  {
   "cell_type": "code",
   "execution_count": 111,
   "metadata": {},
   "outputs": [
    {
     "data": {
      "text/html": [
       "<div>\n",
       "<style>\n",
       "    .dataframe thead tr:only-child th {\n",
       "        text-align: right;\n",
       "    }\n",
       "\n",
       "    .dataframe thead th {\n",
       "        text-align: left;\n",
       "    }\n",
       "\n",
       "    .dataframe tbody tr th {\n",
       "        vertical-align: top;\n",
       "    }\n",
       "</style>\n",
       "<table border=\"1\" class=\"dataframe\">\n",
       "  <thead>\n",
       "    <tr style=\"text-align: right;\">\n",
       "      <th></th>\n",
       "      <th>A</th>\n",
       "      <th>B</th>\n",
       "      <th>C</th>\n",
       "    </tr>\n",
       "  </thead>\n",
       "  <tbody>\n",
       "    <tr>\n",
       "      <th>47</th>\n",
       "      <td>A</td>\n",
       "      <td>0.000000</td>\n",
       "      <td>NaN</td>\n",
       "    </tr>\n",
       "    <tr>\n",
       "      <th>48</th>\n",
       "      <td>B</td>\n",
       "      <td>1.785010</td>\n",
       "      <td>7.0</td>\n",
       "    </tr>\n",
       "    <tr>\n",
       "      <th>49</th>\n",
       "      <td>C</td>\n",
       "      <td>1.259161</td>\n",
       "      <td>NaN</td>\n",
       "    </tr>\n",
       "    <tr>\n",
       "      <th>1</th>\n",
       "      <td>D</td>\n",
       "      <td>0.000000</td>\n",
       "      <td>59.0</td>\n",
       "    </tr>\n",
       "    <tr>\n",
       "      <th>2</th>\n",
       "      <td>E</td>\n",
       "      <td>0.588372</td>\n",
       "      <td>NaN</td>\n",
       "    </tr>\n",
       "    <tr>\n",
       "      <th>3</th>\n",
       "      <td>F</td>\n",
       "      <td>0.000000</td>\n",
       "      <td>40.0</td>\n",
       "    </tr>\n",
       "  </tbody>\n",
       "</table>\n",
       "</div>"
      ],
      "text/plain": [
       "    A         B     C\n",
       "47  A  0.000000   NaN\n",
       "48  B  1.785010   7.0\n",
       "49  C  1.259161   NaN\n",
       "1   D  0.000000  59.0\n",
       "2   E  0.588372   NaN\n",
       "3   F  0.000000  40.0"
      ]
     },
     "execution_count": 111,
     "metadata": {},
     "output_type": "execute_result"
    }
   ],
   "source": [
    "# Changing index 48 in column  with a d\n",
    "df.set_value(48,'A','B')"
   ]
  },
  {
   "cell_type": "code",
   "execution_count": 105,
   "metadata": {},
   "outputs": [
    {
     "data": {
      "text/html": [
       "<div>\n",
       "<style>\n",
       "    .dataframe thead tr:only-child th {\n",
       "        text-align: right;\n",
       "    }\n",
       "\n",
       "    .dataframe thead th {\n",
       "        text-align: left;\n",
       "    }\n",
       "\n",
       "    .dataframe tbody tr th {\n",
       "        vertical-align: top;\n",
       "    }\n",
       "</style>\n",
       "<table border=\"1\" class=\"dataframe\">\n",
       "  <thead>\n",
       "    <tr style=\"text-align: right;\">\n",
       "      <th></th>\n",
       "      <th>B</th>\n",
       "      <th>C</th>\n",
       "    </tr>\n",
       "  </thead>\n",
       "  <tbody>\n",
       "    <tr>\n",
       "      <th>count</th>\n",
       "      <td>6.000000</td>\n",
       "      <td>3.000000</td>\n",
       "    </tr>\n",
       "    <tr>\n",
       "      <th>mean</th>\n",
       "      <td>0.164655</td>\n",
       "      <td>35.333333</td>\n",
       "    </tr>\n",
       "    <tr>\n",
       "      <th>std</th>\n",
       "      <td>1.228027</td>\n",
       "      <td>26.312228</td>\n",
       "    </tr>\n",
       "    <tr>\n",
       "      <th>min</th>\n",
       "      <td>-1.252323</td>\n",
       "      <td>7.000000</td>\n",
       "    </tr>\n",
       "    <tr>\n",
       "      <th>25%</th>\n",
       "      <td>-0.773154</td>\n",
       "      <td>23.500000</td>\n",
       "    </tr>\n",
       "    <tr>\n",
       "      <th>50%</th>\n",
       "      <td>0.023122</td>\n",
       "      <td>40.000000</td>\n",
       "    </tr>\n",
       "    <tr>\n",
       "      <th>75%</th>\n",
       "      <td>1.091464</td>\n",
       "      <td>49.500000</td>\n",
       "    </tr>\n",
       "    <tr>\n",
       "      <th>max</th>\n",
       "      <td>1.785010</td>\n",
       "      <td>59.000000</td>\n",
       "    </tr>\n",
       "  </tbody>\n",
       "</table>\n",
       "</div>"
      ],
      "text/plain": [
       "              B          C\n",
       "count  6.000000   3.000000\n",
       "mean   0.164655  35.333333\n",
       "std    1.228027  26.312228\n",
       "min   -1.252323   7.000000\n",
       "25%   -0.773154  23.500000\n",
       "50%    0.023122  40.000000\n",
       "75%    1.091464  49.500000\n",
       "max    1.785010  59.000000"
      ]
     },
     "execution_count": 105,
     "metadata": {},
     "output_type": "execute_result"
    }
   ],
   "source": []
  },
  {
   "cell_type": "markdown",
   "metadata": {},
   "source": [
    "Say that you noticed a repeated spelling error in some of the labels, and wanted to fix them, or change something for more clarity. \n",
    "\n",
    "In this instance, let's replace all numbers in column B that are less than 70 with 0's instead."
   ]
  },
  {
   "cell_type": "code",
   "execution_count": 107,
   "metadata": {
    "scrolled": true
   },
   "outputs": [
    {
     "data": {
      "text/html": [
       "<div>\n",
       "<style>\n",
       "    .dataframe thead tr:only-child th {\n",
       "        text-align: right;\n",
       "    }\n",
       "\n",
       "    .dataframe thead th {\n",
       "        text-align: left;\n",
       "    }\n",
       "\n",
       "    .dataframe tbody tr th {\n",
       "        vertical-align: top;\n",
       "    }\n",
       "</style>\n",
       "<table border=\"1\" class=\"dataframe\">\n",
       "  <thead>\n",
       "    <tr style=\"text-align: right;\">\n",
       "      <th></th>\n",
       "      <th>A</th>\n",
       "      <th>B</th>\n",
       "      <th>C</th>\n",
       "    </tr>\n",
       "  </thead>\n",
       "  <tbody>\n",
       "    <tr>\n",
       "      <th>47</th>\n",
       "      <td>a</td>\n",
       "      <td>0.000000</td>\n",
       "      <td>NaN</td>\n",
       "    </tr>\n",
       "    <tr>\n",
       "      <th>48</th>\n",
       "      <td>NaN</td>\n",
       "      <td>1.785010</td>\n",
       "      <td>7.0</td>\n",
       "    </tr>\n",
       "    <tr>\n",
       "      <th>49</th>\n",
       "      <td>c</td>\n",
       "      <td>1.259161</td>\n",
       "      <td>NaN</td>\n",
       "    </tr>\n",
       "    <tr>\n",
       "      <th>1</th>\n",
       "      <td>d</td>\n",
       "      <td>0.000000</td>\n",
       "      <td>59.0</td>\n",
       "    </tr>\n",
       "    <tr>\n",
       "      <th>2</th>\n",
       "      <td>e</td>\n",
       "      <td>0.588372</td>\n",
       "      <td>NaN</td>\n",
       "    </tr>\n",
       "    <tr>\n",
       "      <th>3</th>\n",
       "      <td>f</td>\n",
       "      <td>0.000000</td>\n",
       "      <td>40.0</td>\n",
       "    </tr>\n",
       "  </tbody>\n",
       "</table>\n",
       "</div>"
      ],
      "text/plain": [
       "      A         B     C\n",
       "47    a  0.000000   NaN\n",
       "48  NaN  1.785010   7.0\n",
       "49    c  1.259161   NaN\n",
       "1     d  0.000000  59.0\n",
       "2     e  0.588372   NaN\n",
       "3     f  0.000000  40.0"
      ]
     },
     "execution_count": 107,
     "metadata": {},
     "output_type": "execute_result"
    }
   ],
   "source": [
    "df.set_value(df[df.B < 0.5].index,\"B\", 0)"
   ]
  },
  {
   "cell_type": "markdown",
   "metadata": {},
   "source": [
    "Alternatively, if you want to apply a function to an entire column, you can just reassign it directly (as you could when replacing the value in a dictionary)"
   ]
  },
  {
   "cell_type": "code",
   "execution_count": 109,
   "metadata": {},
   "outputs": [
    {
     "data": {
      "text/html": [
       "<div>\n",
       "<style>\n",
       "    .dataframe thead tr:only-child th {\n",
       "        text-align: right;\n",
       "    }\n",
       "\n",
       "    .dataframe thead th {\n",
       "        text-align: left;\n",
       "    }\n",
       "\n",
       "    .dataframe tbody tr th {\n",
       "        vertical-align: top;\n",
       "    }\n",
       "</style>\n",
       "<table border=\"1\" class=\"dataframe\">\n",
       "  <thead>\n",
       "    <tr style=\"text-align: right;\">\n",
       "      <th></th>\n",
       "      <th>A</th>\n",
       "      <th>B</th>\n",
       "      <th>C</th>\n",
       "    </tr>\n",
       "  </thead>\n",
       "  <tbody>\n",
       "    <tr>\n",
       "      <th>47</th>\n",
       "      <td>A</td>\n",
       "      <td>0.000000</td>\n",
       "      <td>NaN</td>\n",
       "    </tr>\n",
       "    <tr>\n",
       "      <th>48</th>\n",
       "      <td>NaN</td>\n",
       "      <td>1.785010</td>\n",
       "      <td>7.0</td>\n",
       "    </tr>\n",
       "    <tr>\n",
       "      <th>49</th>\n",
       "      <td>C</td>\n",
       "      <td>1.259161</td>\n",
       "      <td>NaN</td>\n",
       "    </tr>\n",
       "    <tr>\n",
       "      <th>1</th>\n",
       "      <td>D</td>\n",
       "      <td>0.000000</td>\n",
       "      <td>59.0</td>\n",
       "    </tr>\n",
       "    <tr>\n",
       "      <th>2</th>\n",
       "      <td>E</td>\n",
       "      <td>0.588372</td>\n",
       "      <td>NaN</td>\n",
       "    </tr>\n",
       "    <tr>\n",
       "      <th>3</th>\n",
       "      <td>F</td>\n",
       "      <td>0.000000</td>\n",
       "      <td>40.0</td>\n",
       "    </tr>\n",
       "  </tbody>\n",
       "</table>\n",
       "</div>"
      ],
      "text/plain": [
       "      A         B     C\n",
       "47    A  0.000000   NaN\n",
       "48  NaN  1.785010   7.0\n",
       "49    C  1.259161   NaN\n",
       "1     D  0.000000  59.0\n",
       "2     E  0.588372   NaN\n",
       "3     F  0.000000  40.0"
      ]
     },
     "execution_count": 109,
     "metadata": {},
     "output_type": "execute_result"
    }
   ],
   "source": [
    "df['A'] = df['A'].str.capitalize()\n",
    "\n",
    "df"
   ]
  },
  {
   "cell_type": "markdown",
   "metadata": {},
   "source": [
    "## Using `apply`, `applymap` or `map` to change your data\n",
    "\n",
    "- **apply** iterates over columns and computes the aggregated result value of the function applied to all vals in a column. Creates an aggregate value for the column/s, and returns a Series object.\n",
    "- **applymap** iterates over the columns of a dataframe and computes a result for each value of the column. Applies your function element by element over your dataframe. Returns a Dataframe.\n",
    "- **map** similar to applymap, but operates on Series objects only (rather than whole dataframes). Perfect for single column operations. Returns a Series object.\n",
    "\n",
    "\n"
   ]
  },
  {
   "cell_type": "code",
   "execution_count": 112,
   "metadata": {},
   "outputs": [
    {
     "data": {
      "text/plain": [
       "B      3.632544\n",
       "C    106.000000\n",
       "dtype: float64"
      ]
     },
     "execution_count": 112,
     "metadata": {},
     "output_type": "execute_result"
    }
   ],
   "source": [
    "# Apply\n",
    "\n",
    "# Gives back a series object\n",
    "df_sum = df[['B','C']].apply(sum)\n",
    "\n",
    "#total sum\n",
    "df_sum"
   ]
  },
  {
   "cell_type": "code",
   "execution_count": null,
   "metadata": {},
   "outputs": [],
   "source": [
    "type(df_sum)"
   ]
  },
  {
   "cell_type": "code",
   "execution_count": 113,
   "metadata": {
    "scrolled": true
   },
   "outputs": [
    {
     "data": {
      "text/html": [
       "<div>\n",
       "<style>\n",
       "    .dataframe thead tr:only-child th {\n",
       "        text-align: right;\n",
       "    }\n",
       "\n",
       "    .dataframe thead th {\n",
       "        text-align: left;\n",
       "    }\n",
       "\n",
       "    .dataframe tbody tr th {\n",
       "        vertical-align: top;\n",
       "    }\n",
       "</style>\n",
       "<table border=\"1\" class=\"dataframe\">\n",
       "  <thead>\n",
       "    <tr style=\"text-align: right;\">\n",
       "      <th></th>\n",
       "      <th>A</th>\n",
       "      <th>B</th>\n",
       "      <th>C</th>\n",
       "    </tr>\n",
       "  </thead>\n",
       "  <tbody>\n",
       "    <tr>\n",
       "      <th>47</th>\n",
       "      <td>A</td>\n",
       "      <td>0.000000</td>\n",
       "      <td>NaN</td>\n",
       "    </tr>\n",
       "    <tr>\n",
       "      <th>48</th>\n",
       "      <td>B</td>\n",
       "      <td>1.785010</td>\n",
       "      <td>7.0</td>\n",
       "    </tr>\n",
       "    <tr>\n",
       "      <th>49</th>\n",
       "      <td>C</td>\n",
       "      <td>1.259161</td>\n",
       "      <td>NaN</td>\n",
       "    </tr>\n",
       "    <tr>\n",
       "      <th>1</th>\n",
       "      <td>D</td>\n",
       "      <td>0.000000</td>\n",
       "      <td>59.0</td>\n",
       "    </tr>\n",
       "    <tr>\n",
       "      <th>2</th>\n",
       "      <td>E</td>\n",
       "      <td>0.588372</td>\n",
       "      <td>NaN</td>\n",
       "    </tr>\n",
       "    <tr>\n",
       "      <th>3</th>\n",
       "      <td>F</td>\n",
       "      <td>0.000000</td>\n",
       "      <td>40.0</td>\n",
       "    </tr>\n",
       "  </tbody>\n",
       "</table>\n",
       "</div>"
      ],
      "text/plain": [
       "    A         B     C\n",
       "47  A  0.000000   NaN\n",
       "48  B  1.785010   7.0\n",
       "49  C  1.259161   NaN\n",
       "1   D  0.000000  59.0\n",
       "2   E  0.588372   NaN\n",
       "3   F  0.000000  40.0"
      ]
     },
     "execution_count": 113,
     "metadata": {},
     "output_type": "execute_result"
    }
   ],
   "source": [
    "# Applymap\n",
    "df"
   ]
  },
  {
   "cell_type": "code",
   "execution_count": 114,
   "metadata": {},
   "outputs": [
    {
     "data": {
      "text/html": [
       "<div>\n",
       "<style>\n",
       "    .dataframe thead tr:only-child th {\n",
       "        text-align: right;\n",
       "    }\n",
       "\n",
       "    .dataframe thead th {\n",
       "        text-align: left;\n",
       "    }\n",
       "\n",
       "    .dataframe tbody tr th {\n",
       "        vertical-align: top;\n",
       "    }\n",
       "</style>\n",
       "<table border=\"1\" class=\"dataframe\">\n",
       "  <thead>\n",
       "    <tr style=\"text-align: right;\">\n",
       "      <th></th>\n",
       "      <th>B</th>\n",
       "      <th>C</th>\n",
       "    </tr>\n",
       "  </thead>\n",
       "  <tbody>\n",
       "    <tr>\n",
       "      <th>47</th>\n",
       "      <td>100.000000</td>\n",
       "      <td>NaN</td>\n",
       "    </tr>\n",
       "    <tr>\n",
       "      <th>48</th>\n",
       "      <td>101.785010</td>\n",
       "      <td>107.0</td>\n",
       "    </tr>\n",
       "    <tr>\n",
       "      <th>49</th>\n",
       "      <td>101.259161</td>\n",
       "      <td>NaN</td>\n",
       "    </tr>\n",
       "    <tr>\n",
       "      <th>1</th>\n",
       "      <td>100.000000</td>\n",
       "      <td>159.0</td>\n",
       "    </tr>\n",
       "    <tr>\n",
       "      <th>2</th>\n",
       "      <td>100.588372</td>\n",
       "      <td>NaN</td>\n",
       "    </tr>\n",
       "    <tr>\n",
       "      <th>3</th>\n",
       "      <td>100.000000</td>\n",
       "      <td>140.0</td>\n",
       "    </tr>\n",
       "  </tbody>\n",
       "</table>\n",
       "</div>"
      ],
      "text/plain": [
       "             B      C\n",
       "47  100.000000    NaN\n",
       "48  101.785010  107.0\n",
       "49  101.259161    NaN\n",
       "1   100.000000  159.0\n",
       "2   100.588372    NaN\n",
       "3   100.000000  140.0"
      ]
     },
     "execution_count": 114,
     "metadata": {},
     "output_type": "execute_result"
    }
   ],
   "source": [
    "df2 = df[[\"B\", \"C\"]].applymap(lambda x: x + 100)\n",
    "df2"
   ]
  },
  {
   "cell_type": "markdown",
   "metadata": {},
   "source": [
    "Now say we wanted to replace all of the extended day names (e.g. Saturday) with the shortened versions instead (e.g. Sat).\n",
    "We could do this with map"
   ]
  },
  {
   "cell_type": "code",
   "execution_count": 115,
   "metadata": {
    "scrolled": true
   },
   "outputs": [],
   "source": [
    "# First create a dictionary of the values we want\n",
    "days = {'Monday': 'Mon',\n",
    "        \"Tuesday\": \"Tues\",\n",
    "       \"Wednesday\":\"Wed\",\n",
    "       \"Thursday\":\"Thurs\",\n",
    "       \"Friday\":\"Fri\",\n",
    "       \"Saturday\":\"Sat\",\n",
    "       \"Sunday\":\"Sun\"}\n"
   ]
  },
  {
   "cell_type": "code",
   "execution_count": 120,
   "metadata": {},
   "outputs": [],
   "source": [
    "# Replace our Day column with our new Day column values\n",
    "# `get` accesses values safely from dictionary\n",
    "pdsn[\"Day\"] = pdsn[\"Day\"].map(days.get)"
   ]
  },
  {
   "cell_type": "code",
   "execution_count": 121,
   "metadata": {},
   "outputs": [
    {
     "data": {
      "text/plain": [
       "array(['Sun', 'Mon', 'Tues', 'Wed', 'Thurs', 'Fri', 'Sat'], dtype=object)"
      ]
     },
     "execution_count": 121,
     "metadata": {},
     "output_type": "execute_result"
    }
   ],
   "source": [
    "#Checking it's worked\n",
    "pdsn.Day.unique()"
   ]
  },
  {
   "cell_type": "markdown",
   "metadata": {},
   "source": [
    "## Finding Null Data\n",
    "\n",
    "Earlier, we explored the use of `shape` to determine the dimensions of our dataframe. Another way to do this is with `count`."
   ]
  },
  {
   "cell_type": "code",
   "execution_count": 122,
   "metadata": {},
   "outputs": [
    {
     "data": {
      "text/plain": [
       "Date        656823\n",
       "Day         656823\n",
       "Hour        656823\n",
       "SensorID    656821\n",
       "Location    656823\n",
       "Counts      656809\n",
       "dtype: int64"
      ]
     },
     "execution_count": 122,
     "metadata": {},
     "output_type": "execute_result"
    }
   ],
   "source": [
    "pdsn.count()"
   ]
  },
  {
   "cell_type": "markdown",
   "metadata": {},
   "source": [
    "But you can see that not all of the columns have the same length. This is because count sums the number of rows within that column that contain values - so missing data, or NaNs, will cause the count to be smaller.\n",
    "\n",
    "You can check which columns inside our test dataframe, df, contains null values by using `isnull()`.\n"
   ]
  },
  {
   "cell_type": "code",
   "execution_count": 123,
   "metadata": {},
   "outputs": [
    {
     "data": {
      "text/html": [
       "<div>\n",
       "<style>\n",
       "    .dataframe thead tr:only-child th {\n",
       "        text-align: right;\n",
       "    }\n",
       "\n",
       "    .dataframe thead th {\n",
       "        text-align: left;\n",
       "    }\n",
       "\n",
       "    .dataframe tbody tr th {\n",
       "        vertical-align: top;\n",
       "    }\n",
       "</style>\n",
       "<table border=\"1\" class=\"dataframe\">\n",
       "  <thead>\n",
       "    <tr style=\"text-align: right;\">\n",
       "      <th></th>\n",
       "      <th>A</th>\n",
       "      <th>B</th>\n",
       "      <th>C</th>\n",
       "    </tr>\n",
       "  </thead>\n",
       "  <tbody>\n",
       "    <tr>\n",
       "      <th>47</th>\n",
       "      <td>A</td>\n",
       "      <td>0.000000</td>\n",
       "      <td>NaN</td>\n",
       "    </tr>\n",
       "    <tr>\n",
       "      <th>48</th>\n",
       "      <td>B</td>\n",
       "      <td>1.785010</td>\n",
       "      <td>7.0</td>\n",
       "    </tr>\n",
       "    <tr>\n",
       "      <th>49</th>\n",
       "      <td>C</td>\n",
       "      <td>1.259161</td>\n",
       "      <td>NaN</td>\n",
       "    </tr>\n",
       "    <tr>\n",
       "      <th>1</th>\n",
       "      <td>D</td>\n",
       "      <td>0.000000</td>\n",
       "      <td>59.0</td>\n",
       "    </tr>\n",
       "    <tr>\n",
       "      <th>2</th>\n",
       "      <td>E</td>\n",
       "      <td>0.588372</td>\n",
       "      <td>NaN</td>\n",
       "    </tr>\n",
       "    <tr>\n",
       "      <th>3</th>\n",
       "      <td>F</td>\n",
       "      <td>0.000000</td>\n",
       "      <td>40.0</td>\n",
       "    </tr>\n",
       "  </tbody>\n",
       "</table>\n",
       "</div>"
      ],
      "text/plain": [
       "    A         B     C\n",
       "47  A  0.000000   NaN\n",
       "48  B  1.785010   7.0\n",
       "49  C  1.259161   NaN\n",
       "1   D  0.000000  59.0\n",
       "2   E  0.588372   NaN\n",
       "3   F  0.000000  40.0"
      ]
     },
     "execution_count": 123,
     "metadata": {},
     "output_type": "execute_result"
    }
   ],
   "source": [
    "df"
   ]
  },
  {
   "cell_type": "code",
   "execution_count": 124,
   "metadata": {},
   "outputs": [
    {
     "data": {
      "text/html": [
       "<div>\n",
       "<style>\n",
       "    .dataframe thead tr:only-child th {\n",
       "        text-align: right;\n",
       "    }\n",
       "\n",
       "    .dataframe thead th {\n",
       "        text-align: left;\n",
       "    }\n",
       "\n",
       "    .dataframe tbody tr th {\n",
       "        vertical-align: top;\n",
       "    }\n",
       "</style>\n",
       "<table border=\"1\" class=\"dataframe\">\n",
       "  <thead>\n",
       "    <tr style=\"text-align: right;\">\n",
       "      <th></th>\n",
       "      <th>A</th>\n",
       "      <th>B</th>\n",
       "      <th>C</th>\n",
       "    </tr>\n",
       "  </thead>\n",
       "  <tbody>\n",
       "    <tr>\n",
       "      <th>47</th>\n",
       "      <td>False</td>\n",
       "      <td>False</td>\n",
       "      <td>True</td>\n",
       "    </tr>\n",
       "    <tr>\n",
       "      <th>48</th>\n",
       "      <td>False</td>\n",
       "      <td>False</td>\n",
       "      <td>False</td>\n",
       "    </tr>\n",
       "    <tr>\n",
       "      <th>49</th>\n",
       "      <td>False</td>\n",
       "      <td>False</td>\n",
       "      <td>True</td>\n",
       "    </tr>\n",
       "    <tr>\n",
       "      <th>1</th>\n",
       "      <td>False</td>\n",
       "      <td>False</td>\n",
       "      <td>False</td>\n",
       "    </tr>\n",
       "    <tr>\n",
       "      <th>2</th>\n",
       "      <td>False</td>\n",
       "      <td>False</td>\n",
       "      <td>True</td>\n",
       "    </tr>\n",
       "    <tr>\n",
       "      <th>3</th>\n",
       "      <td>False</td>\n",
       "      <td>False</td>\n",
       "      <td>False</td>\n",
       "    </tr>\n",
       "  </tbody>\n",
       "</table>\n",
       "</div>"
      ],
      "text/plain": [
       "        A      B      C\n",
       "47  False  False   True\n",
       "48  False  False  False\n",
       "49  False  False   True\n",
       "1   False  False  False\n",
       "2   False  False   True\n",
       "3   False  False  False"
      ]
     },
     "execution_count": 124,
     "metadata": {},
     "output_type": "execute_result"
    }
   ],
   "source": [
    "df.isnull()"
   ]
  },
  {
   "cell_type": "markdown",
   "metadata": {},
   "source": [
    "As you can see, this returns a `True` or `False` boolean value at each point in our dataframe. This is alright for something like this, but what about when we have 12 columns? 1000 rows? \n",
    "\n",
    "To get a more informative information, we can also pair `isnull()` with the `any()` function. `any()` will check whether there are any `True` values in the columns of your Dataframe object"
   ]
  },
  {
   "cell_type": "code",
   "execution_count": 129,
   "metadata": {},
   "outputs": [
    {
     "data": {
      "text/plain": [
       "Date        False\n",
       "Day         False\n",
       "Hour        False\n",
       "SensorID     True\n",
       "Location    False\n",
       "Counts       True\n",
       "dtype: bool"
      ]
     },
     "execution_count": 129,
     "metadata": {},
     "output_type": "execute_result"
    }
   ],
   "source": [
    "#Check for nulls in each column\n",
    "pdsn.isnull().any(axis = 0)"
   ]
  },
  {
   "cell_type": "markdown",
   "metadata": {},
   "source": [
    "We can also combine `isnull()` and `sum()` to find an exact count of how many NaNs are in each column as well, like `df.isnull().sum()`"
   ]
  },
  {
   "cell_type": "code",
   "execution_count": 126,
   "metadata": {},
   "outputs": [
    {
     "data": {
      "text/plain": [
       "Date         0\n",
       "Day          0\n",
       "Hour         0\n",
       "SensorID     2\n",
       "Location     0\n",
       "Counts      14\n",
       "dtype: int64"
      ]
     },
     "execution_count": 126,
     "metadata": {},
     "output_type": "execute_result"
    }
   ],
   "source": [
    "pdsn.isnull().sum()"
   ]
  },
  {
   "cell_type": "markdown",
   "metadata": {},
   "source": [
    "## Resolving Null Data\n",
    "\n",
    "There are 2 ways to resolve Null data - replace it with new data, or delete them.\n",
    "\n",
    "For the purposes of this training, I'm only going to show you how to delete them (though another section below this will teach you to replace it, for the purposes of your own data investigations)."
   ]
  },
  {
   "cell_type": "markdown",
   "metadata": {},
   "source": [
    "### Deleting Null Data\n",
    "\n",
    "Firstly, let's view the columns where SensorID, Location and Counts have null values.\n",
    "\n",
    "We can do this using the `isnull()` function. As mentioned before, we can subset with a boolean list, which is what `isnull()` returns. Where the test evaluates to 'True', the row is output from the dataframe."
   ]
  },
  {
   "cell_type": "code",
   "execution_count": 131,
   "metadata": {},
   "outputs": [
    {
     "data": {
      "text/html": [
       "<div>\n",
       "<style>\n",
       "    .dataframe thead tr:only-child th {\n",
       "        text-align: right;\n",
       "    }\n",
       "\n",
       "    .dataframe thead th {\n",
       "        text-align: left;\n",
       "    }\n",
       "\n",
       "    .dataframe tbody tr th {\n",
       "        vertical-align: top;\n",
       "    }\n",
       "</style>\n",
       "<table border=\"1\" class=\"dataframe\">\n",
       "  <thead>\n",
       "    <tr style=\"text-align: right;\">\n",
       "      <th></th>\n",
       "      <th>Date</th>\n",
       "      <th>Day</th>\n",
       "      <th>Hour</th>\n",
       "      <th>SensorID</th>\n",
       "      <th>Location</th>\n",
       "      <th>Counts</th>\n",
       "    </tr>\n",
       "  </thead>\n",
       "  <tbody>\n",
       "    <tr>\n",
       "      <th>312</th>\n",
       "      <td>01-Jan-2012</td>\n",
       "      <td>Sun</td>\n",
       "      <td>17</td>\n",
       "      <td>NaN</td>\n",
       "      <td>Flagstaff Station</td>\n",
       "      <td>35.0</td>\n",
       "    </tr>\n",
       "    <tr>\n",
       "      <th>495503</th>\n",
       "      <td>22-Jul-2014</td>\n",
       "      <td>Tues</td>\n",
       "      <td>4</td>\n",
       "      <td>NaN</td>\n",
       "      <td>Lygon St (West)</td>\n",
       "      <td>10.0</td>\n",
       "    </tr>\n",
       "  </tbody>\n",
       "</table>\n",
       "</div>"
      ],
      "text/plain": [
       "               Date   Day  Hour  SensorID           Location  Counts\n",
       "312     01-Jan-2012   Sun    17       NaN  Flagstaff Station    35.0\n",
       "495503  22-Jul-2014  Tues     4       NaN    Lygon St (West)    10.0"
      ]
     },
     "execution_count": 131,
     "metadata": {},
     "output_type": "execute_result"
    }
   ],
   "source": [
    "#Show the rows where SensorID has null values\n",
    "pdsn[pdsn.SensorID.isnull()]"
   ]
  },
  {
   "cell_type": "code",
   "execution_count": 132,
   "metadata": {},
   "outputs": [
    {
     "data": {
      "text/html": [
       "<div>\n",
       "<style>\n",
       "    .dataframe thead tr:only-child th {\n",
       "        text-align: right;\n",
       "    }\n",
       "\n",
       "    .dataframe thead th {\n",
       "        text-align: left;\n",
       "    }\n",
       "\n",
       "    .dataframe tbody tr th {\n",
       "        vertical-align: top;\n",
       "    }\n",
       "</style>\n",
       "<table border=\"1\" class=\"dataframe\">\n",
       "  <thead>\n",
       "    <tr style=\"text-align: right;\">\n",
       "      <th></th>\n",
       "      <th>Date</th>\n",
       "      <th>Day</th>\n",
       "      <th>Hour</th>\n",
       "      <th>SensorID</th>\n",
       "      <th>Location</th>\n",
       "      <th>Counts</th>\n",
       "    </tr>\n",
       "  </thead>\n",
       "  <tbody>\n",
       "    <tr>\n",
       "      <th>10</th>\n",
       "      <td>01-Jan-2012</td>\n",
       "      <td>Sun</td>\n",
       "      <td>0</td>\n",
       "      <td>10.0</td>\n",
       "      <td>Victoria Point</td>\n",
       "      <td>NaN</td>\n",
       "    </tr>\n",
       "    <tr>\n",
       "      <th>55</th>\n",
       "      <td>01-Jan-2012</td>\n",
       "      <td>Sun</td>\n",
       "      <td>3</td>\n",
       "      <td>17.0</td>\n",
       "      <td>Collins Place (South)</td>\n",
       "      <td>NaN</td>\n",
       "    </tr>\n",
       "    <tr>\n",
       "      <th>62</th>\n",
       "      <td>01-Jan-2012</td>\n",
       "      <td>Sun</td>\n",
       "      <td>3</td>\n",
       "      <td>15.0</td>\n",
       "      <td>State Library</td>\n",
       "      <td>NaN</td>\n",
       "    </tr>\n",
       "    <tr>\n",
       "      <th>116</th>\n",
       "      <td>01-Jan-2012</td>\n",
       "      <td>Sun</td>\n",
       "      <td>6</td>\n",
       "      <td>15.0</td>\n",
       "      <td>State Library</td>\n",
       "      <td>NaN</td>\n",
       "    </tr>\n",
       "    <tr>\n",
       "      <th>120</th>\n",
       "      <td>01-Jan-2012</td>\n",
       "      <td>Sun</td>\n",
       "      <td>6</td>\n",
       "      <td>11.0</td>\n",
       "      <td>Waterfront City</td>\n",
       "      <td>NaN</td>\n",
       "    </tr>\n",
       "    <tr>\n",
       "      <th>576</th>\n",
       "      <td>02-Jan-2012</td>\n",
       "      <td>Mon</td>\n",
       "      <td>8</td>\n",
       "      <td>4.0</td>\n",
       "      <td>Town Hall (West)</td>\n",
       "      <td>NaN</td>\n",
       "    </tr>\n",
       "    <tr>\n",
       "      <th>495376</th>\n",
       "      <td>22-Jul-2014</td>\n",
       "      <td>Tues</td>\n",
       "      <td>0</td>\n",
       "      <td>27.0</td>\n",
       "      <td>QV Market-Peel St</td>\n",
       "      <td>NaN</td>\n",
       "    </tr>\n",
       "    <tr>\n",
       "      <th>495646</th>\n",
       "      <td>22-Jul-2014</td>\n",
       "      <td>Tues</td>\n",
       "      <td>9</td>\n",
       "      <td>14.0</td>\n",
       "      <td>Sandridge Bridge</td>\n",
       "      <td>NaN</td>\n",
       "    </tr>\n",
       "    <tr>\n",
       "      <th>495762</th>\n",
       "      <td>22-Jul-2014</td>\n",
       "      <td>Tues</td>\n",
       "      <td>13</td>\n",
       "      <td>15.0</td>\n",
       "      <td>State Library</td>\n",
       "      <td>NaN</td>\n",
       "    </tr>\n",
       "    <tr>\n",
       "      <th>496016</th>\n",
       "      <td>22-Jul-2014</td>\n",
       "      <td>Tues</td>\n",
       "      <td>21</td>\n",
       "      <td>5.0</td>\n",
       "      <td>Princes Bridge</td>\n",
       "      <td>NaN</td>\n",
       "    </tr>\n",
       "    <tr>\n",
       "      <th>496537</th>\n",
       "      <td>23-Jul-2014</td>\n",
       "      <td>Wed</td>\n",
       "      <td>14</td>\n",
       "      <td>15.0</td>\n",
       "      <td>State Library</td>\n",
       "      <td>NaN</td>\n",
       "    </tr>\n",
       "    <tr>\n",
       "      <th>496803</th>\n",
       "      <td>23-Jul-2014</td>\n",
       "      <td>Wed</td>\n",
       "      <td>22</td>\n",
       "      <td>28.0</td>\n",
       "      <td>The Arts Centre</td>\n",
       "      <td>NaN</td>\n",
       "    </tr>\n",
       "    <tr>\n",
       "      <th>497018</th>\n",
       "      <td>24-Jul-2014</td>\n",
       "      <td>Thurs</td>\n",
       "      <td>5</td>\n",
       "      <td>34.0</td>\n",
       "      <td>Flinders St-Spark La</td>\n",
       "      <td>NaN</td>\n",
       "    </tr>\n",
       "    <tr>\n",
       "      <th>497463</th>\n",
       "      <td>24-Jul-2014</td>\n",
       "      <td>Thurs</td>\n",
       "      <td>20</td>\n",
       "      <td>27.0</td>\n",
       "      <td>QV Market-Peel St</td>\n",
       "      <td>NaN</td>\n",
       "    </tr>\n",
       "  </tbody>\n",
       "</table>\n",
       "</div>"
      ],
      "text/plain": [
       "               Date    Day  Hour  SensorID               Location  Counts\n",
       "10      01-Jan-2012    Sun     0      10.0         Victoria Point     NaN\n",
       "55      01-Jan-2012    Sun     3      17.0  Collins Place (South)     NaN\n",
       "62      01-Jan-2012    Sun     3      15.0          State Library     NaN\n",
       "116     01-Jan-2012    Sun     6      15.0          State Library     NaN\n",
       "120     01-Jan-2012    Sun     6      11.0        Waterfront City     NaN\n",
       "576     02-Jan-2012    Mon     8       4.0       Town Hall (West)     NaN\n",
       "495376  22-Jul-2014   Tues     0      27.0      QV Market-Peel St     NaN\n",
       "495646  22-Jul-2014   Tues     9      14.0       Sandridge Bridge     NaN\n",
       "495762  22-Jul-2014   Tues    13      15.0          State Library     NaN\n",
       "496016  22-Jul-2014   Tues    21       5.0         Princes Bridge     NaN\n",
       "496537  23-Jul-2014    Wed    14      15.0          State Library     NaN\n",
       "496803  23-Jul-2014    Wed    22      28.0        The Arts Centre     NaN\n",
       "497018  24-Jul-2014  Thurs     5      34.0   Flinders St-Spark La     NaN\n",
       "497463  24-Jul-2014  Thurs    20      27.0      QV Market-Peel St     NaN"
      ]
     },
     "execution_count": 132,
     "metadata": {},
     "output_type": "execute_result"
    }
   ],
   "source": [
    "#Show the rows where Counts has null values\n",
    "pdsn[pdsn.Counts.isnull()]"
   ]
  },
  {
   "cell_type": "markdown",
   "metadata": {},
   "source": [
    "You can also show *every* row with null values at once using `isnull().any()`. `any()` contains the optional parameter \"axis\", which allows you to choose whether it operates on the rows or the columns. By default `axis = 0`, which gives you columns, but setting `axis = 1` checks over the rows instead"
   ]
  },
  {
   "cell_type": "code",
   "execution_count": null,
   "metadata": {},
   "outputs": [],
   "source": [
    "pdsn.isnull().any(axis = 0)"
   ]
  },
  {
   "cell_type": "code",
   "execution_count": null,
   "metadata": {},
   "outputs": [],
   "source": [
    "pdsn.isnull().any(axis = 1)"
   ]
  },
  {
   "cell_type": "code",
   "execution_count": 133,
   "metadata": {},
   "outputs": [
    {
     "data": {
      "text/html": [
       "<div>\n",
       "<style>\n",
       "    .dataframe thead tr:only-child th {\n",
       "        text-align: right;\n",
       "    }\n",
       "\n",
       "    .dataframe thead th {\n",
       "        text-align: left;\n",
       "    }\n",
       "\n",
       "    .dataframe tbody tr th {\n",
       "        vertical-align: top;\n",
       "    }\n",
       "</style>\n",
       "<table border=\"1\" class=\"dataframe\">\n",
       "  <thead>\n",
       "    <tr style=\"text-align: right;\">\n",
       "      <th></th>\n",
       "      <th>Date</th>\n",
       "      <th>Day</th>\n",
       "      <th>Hour</th>\n",
       "      <th>SensorID</th>\n",
       "      <th>Location</th>\n",
       "      <th>Counts</th>\n",
       "    </tr>\n",
       "  </thead>\n",
       "  <tbody>\n",
       "    <tr>\n",
       "      <th>10</th>\n",
       "      <td>01-Jan-2012</td>\n",
       "      <td>Sun</td>\n",
       "      <td>0</td>\n",
       "      <td>10.0</td>\n",
       "      <td>Victoria Point</td>\n",
       "      <td>NaN</td>\n",
       "    </tr>\n",
       "    <tr>\n",
       "      <th>55</th>\n",
       "      <td>01-Jan-2012</td>\n",
       "      <td>Sun</td>\n",
       "      <td>3</td>\n",
       "      <td>17.0</td>\n",
       "      <td>Collins Place (South)</td>\n",
       "      <td>NaN</td>\n",
       "    </tr>\n",
       "    <tr>\n",
       "      <th>62</th>\n",
       "      <td>01-Jan-2012</td>\n",
       "      <td>Sun</td>\n",
       "      <td>3</td>\n",
       "      <td>15.0</td>\n",
       "      <td>State Library</td>\n",
       "      <td>NaN</td>\n",
       "    </tr>\n",
       "    <tr>\n",
       "      <th>116</th>\n",
       "      <td>01-Jan-2012</td>\n",
       "      <td>Sun</td>\n",
       "      <td>6</td>\n",
       "      <td>15.0</td>\n",
       "      <td>State Library</td>\n",
       "      <td>NaN</td>\n",
       "    </tr>\n",
       "    <tr>\n",
       "      <th>120</th>\n",
       "      <td>01-Jan-2012</td>\n",
       "      <td>Sun</td>\n",
       "      <td>6</td>\n",
       "      <td>11.0</td>\n",
       "      <td>Waterfront City</td>\n",
       "      <td>NaN</td>\n",
       "    </tr>\n",
       "    <tr>\n",
       "      <th>312</th>\n",
       "      <td>01-Jan-2012</td>\n",
       "      <td>Sun</td>\n",
       "      <td>17</td>\n",
       "      <td>NaN</td>\n",
       "      <td>Flagstaff Station</td>\n",
       "      <td>35.0</td>\n",
       "    </tr>\n",
       "    <tr>\n",
       "      <th>576</th>\n",
       "      <td>02-Jan-2012</td>\n",
       "      <td>Mon</td>\n",
       "      <td>8</td>\n",
       "      <td>4.0</td>\n",
       "      <td>Town Hall (West)</td>\n",
       "      <td>NaN</td>\n",
       "    </tr>\n",
       "    <tr>\n",
       "      <th>495376</th>\n",
       "      <td>22-Jul-2014</td>\n",
       "      <td>Tues</td>\n",
       "      <td>0</td>\n",
       "      <td>27.0</td>\n",
       "      <td>QV Market-Peel St</td>\n",
       "      <td>NaN</td>\n",
       "    </tr>\n",
       "    <tr>\n",
       "      <th>495503</th>\n",
       "      <td>22-Jul-2014</td>\n",
       "      <td>Tues</td>\n",
       "      <td>4</td>\n",
       "      <td>NaN</td>\n",
       "      <td>Lygon St (West)</td>\n",
       "      <td>10.0</td>\n",
       "    </tr>\n",
       "    <tr>\n",
       "      <th>495646</th>\n",
       "      <td>22-Jul-2014</td>\n",
       "      <td>Tues</td>\n",
       "      <td>9</td>\n",
       "      <td>14.0</td>\n",
       "      <td>Sandridge Bridge</td>\n",
       "      <td>NaN</td>\n",
       "    </tr>\n",
       "    <tr>\n",
       "      <th>495762</th>\n",
       "      <td>22-Jul-2014</td>\n",
       "      <td>Tues</td>\n",
       "      <td>13</td>\n",
       "      <td>15.0</td>\n",
       "      <td>State Library</td>\n",
       "      <td>NaN</td>\n",
       "    </tr>\n",
       "    <tr>\n",
       "      <th>496016</th>\n",
       "      <td>22-Jul-2014</td>\n",
       "      <td>Tues</td>\n",
       "      <td>21</td>\n",
       "      <td>5.0</td>\n",
       "      <td>Princes Bridge</td>\n",
       "      <td>NaN</td>\n",
       "    </tr>\n",
       "    <tr>\n",
       "      <th>496537</th>\n",
       "      <td>23-Jul-2014</td>\n",
       "      <td>Wed</td>\n",
       "      <td>14</td>\n",
       "      <td>15.0</td>\n",
       "      <td>State Library</td>\n",
       "      <td>NaN</td>\n",
       "    </tr>\n",
       "    <tr>\n",
       "      <th>496803</th>\n",
       "      <td>23-Jul-2014</td>\n",
       "      <td>Wed</td>\n",
       "      <td>22</td>\n",
       "      <td>28.0</td>\n",
       "      <td>The Arts Centre</td>\n",
       "      <td>NaN</td>\n",
       "    </tr>\n",
       "    <tr>\n",
       "      <th>497018</th>\n",
       "      <td>24-Jul-2014</td>\n",
       "      <td>Thurs</td>\n",
       "      <td>5</td>\n",
       "      <td>34.0</td>\n",
       "      <td>Flinders St-Spark La</td>\n",
       "      <td>NaN</td>\n",
       "    </tr>\n",
       "    <tr>\n",
       "      <th>497463</th>\n",
       "      <td>24-Jul-2014</td>\n",
       "      <td>Thurs</td>\n",
       "      <td>20</td>\n",
       "      <td>27.0</td>\n",
       "      <td>QV Market-Peel St</td>\n",
       "      <td>NaN</td>\n",
       "    </tr>\n",
       "  </tbody>\n",
       "</table>\n",
       "</div>"
      ],
      "text/plain": [
       "               Date    Day  Hour  SensorID               Location  Counts\n",
       "10      01-Jan-2012    Sun     0      10.0         Victoria Point     NaN\n",
       "55      01-Jan-2012    Sun     3      17.0  Collins Place (South)     NaN\n",
       "62      01-Jan-2012    Sun     3      15.0          State Library     NaN\n",
       "116     01-Jan-2012    Sun     6      15.0          State Library     NaN\n",
       "120     01-Jan-2012    Sun     6      11.0        Waterfront City     NaN\n",
       "312     01-Jan-2012    Sun    17       NaN      Flagstaff Station    35.0\n",
       "576     02-Jan-2012    Mon     8       4.0       Town Hall (West)     NaN\n",
       "495376  22-Jul-2014   Tues     0      27.0      QV Market-Peel St     NaN\n",
       "495503  22-Jul-2014   Tues     4       NaN        Lygon St (West)    10.0\n",
       "495646  22-Jul-2014   Tues     9      14.0       Sandridge Bridge     NaN\n",
       "495762  22-Jul-2014   Tues    13      15.0          State Library     NaN\n",
       "496016  22-Jul-2014   Tues    21       5.0         Princes Bridge     NaN\n",
       "496537  23-Jul-2014    Wed    14      15.0          State Library     NaN\n",
       "496803  23-Jul-2014    Wed    22      28.0        The Arts Centre     NaN\n",
       "497018  24-Jul-2014  Thurs     5      34.0   Flinders St-Spark La     NaN\n",
       "497463  24-Jul-2014  Thurs    20      27.0      QV Market-Peel St     NaN"
      ]
     },
     "execution_count": 133,
     "metadata": {},
     "output_type": "execute_result"
    }
   ],
   "source": [
    "# And remember, we can subset using boolean lists\n",
    "pdsn[pdsn.isnull().any(axis = 1)]"
   ]
  },
  {
   "cell_type": "markdown",
   "metadata": {},
   "source": [
    "From here, there are a few ways that we can remove our null data.\n",
    "\n",
    "The first option is to simply subset for every row except the null values. This can be done by replacing `isnull()` with the `notnull()` command"
   ]
  },
  {
   "cell_type": "code",
   "execution_count": 135,
   "metadata": {},
   "outputs": [
    {
     "data": {
      "text/html": [
       "<div>\n",
       "<style>\n",
       "    .dataframe thead tr:only-child th {\n",
       "        text-align: right;\n",
       "    }\n",
       "\n",
       "    .dataframe thead th {\n",
       "        text-align: left;\n",
       "    }\n",
       "\n",
       "    .dataframe tbody tr th {\n",
       "        vertical-align: top;\n",
       "    }\n",
       "</style>\n",
       "<table border=\"1\" class=\"dataframe\">\n",
       "  <thead>\n",
       "    <tr style=\"text-align: right;\">\n",
       "      <th></th>\n",
       "      <th>A</th>\n",
       "      <th>B</th>\n",
       "      <th>C</th>\n",
       "    </tr>\n",
       "  </thead>\n",
       "  <tbody>\n",
       "    <tr>\n",
       "      <th>48</th>\n",
       "      <td>B</td>\n",
       "      <td>1.78501</td>\n",
       "      <td>7.0</td>\n",
       "    </tr>\n",
       "    <tr>\n",
       "      <th>1</th>\n",
       "      <td>D</td>\n",
       "      <td>0.00000</td>\n",
       "      <td>59.0</td>\n",
       "    </tr>\n",
       "    <tr>\n",
       "      <th>3</th>\n",
       "      <td>F</td>\n",
       "      <td>0.00000</td>\n",
       "      <td>40.0</td>\n",
       "    </tr>\n",
       "  </tbody>\n",
       "</table>\n",
       "</div>"
      ],
      "text/plain": [
       "    A        B     C\n",
       "48  B  1.78501   7.0\n",
       "1   D  0.00000  59.0\n",
       "3   F  0.00000  40.0"
      ]
     },
     "execution_count": 135,
     "metadata": {},
     "output_type": "execute_result"
    }
   ],
   "source": [
    "df[df.C.notnull()]"
   ]
  },
  {
   "cell_type": "code",
   "execution_count": 137,
   "metadata": {},
   "outputs": [
    {
     "data": {
      "text/plain": [
       "0         False\n",
       "1         False\n",
       "2         False\n",
       "3         False\n",
       "4         False\n",
       "5         False\n",
       "6         False\n",
       "7         False\n",
       "8         False\n",
       "9         False\n",
       "10         True\n",
       "11        False\n",
       "12        False\n",
       "13        False\n",
       "14        False\n",
       "15        False\n",
       "16        False\n",
       "17        False\n",
       "18        False\n",
       "19        False\n",
       "20        False\n",
       "21        False\n",
       "22        False\n",
       "23        False\n",
       "24        False\n",
       "25        False\n",
       "26        False\n",
       "27        False\n",
       "28        False\n",
       "29        False\n",
       "          ...  \n",
       "656793    False\n",
       "656794    False\n",
       "656795    False\n",
       "656796    False\n",
       "656797    False\n",
       "656798    False\n",
       "656799    False\n",
       "656800    False\n",
       "656801    False\n",
       "656802    False\n",
       "656803    False\n",
       "656804    False\n",
       "656805    False\n",
       "656806    False\n",
       "656807    False\n",
       "656808    False\n",
       "656809    False\n",
       "656810    False\n",
       "656811    False\n",
       "656812    False\n",
       "656813    False\n",
       "656814    False\n",
       "656815    False\n",
       "656816    False\n",
       "656817    False\n",
       "656818    False\n",
       "656819    False\n",
       "656820    False\n",
       "656821    False\n",
       "656822    False\n",
       "Length: 656823, dtype: bool"
      ]
     },
     "execution_count": 137,
     "metadata": {},
     "output_type": "execute_result"
    }
   ],
   "source": [
    "pdsn.isnull().any(axis = 1)"
   ]
  },
  {
   "cell_type": "code",
   "execution_count": null,
   "metadata": {},
   "outputs": [],
   "source": [
    "# Unfortunately notnull() will only work on individual columns at a time, not the whole dataframe\n",
    "no_nans = pdsn[pdsn.SensorID.notnull() & pdsn.Counts.notnull()]\n",
    "\n",
    "#Compare to make sure they've worked\n",
    "print(pdsn.shape)\n",
    "print(no_nans.shape)"
   ]
  },
  {
   "cell_type": "markdown",
   "metadata": {},
   "source": [
    "Another way is to take the `isnull().any()` boolean list that we've created, and then subset for all values *except* those.\n",
    "\n",
    "A handy python trick is that you can quickly invert the values in a True/False list with a `~` symbol"
   ]
  },
  {
   "cell_type": "code",
   "execution_count": 138,
   "metadata": {},
   "outputs": [
    {
     "data": {
      "text/plain": [
       "(656807, 6)"
      ]
     },
     "execution_count": 138,
     "metadata": {},
     "output_type": "execute_result"
    }
   ],
   "source": [
    "pdsn[~pdsn.isnull().any(axis = 1)].shape"
   ]
  },
  {
   "cell_type": "markdown",
   "metadata": {},
   "source": [
    "Conversely, there's also a dedicated `dropna()` function\n",
    "\n",
    "`dropna()` can work on either the rows or the columns, and allows you to specify whether you want to remove rows/column where either 'any' or 'all' of the data are nulls. Alternatively, you can set a threshold value, where rows/columns are discarded if they don't contain at least a certain number of non-null values"
   ]
  },
  {
   "cell_type": "code",
   "execution_count": 139,
   "metadata": {},
   "outputs": [
    {
     "data": {
      "text/plain": [
       "(656807, 6)"
      ]
     },
     "execution_count": 139,
     "metadata": {},
     "output_type": "execute_result"
    }
   ],
   "source": [
    "no_nans = pdsn.dropna(axis = 0, how = 'any')\n",
    "\n",
    "no_nans.shape"
   ]
  },
  {
   "cell_type": "markdown",
   "metadata": {},
   "source": [
    "If we examine the `tail()` of the altered dataframe though you can see that the row indexes are still the same from before the deletions though. We can fix this using `reset_index()`.\n",
    "\n",
    "Remember that while the indexes aren't that important if you're using `iloc`, but if you're using `loc` it's important that these index labels are correct.\n"
   ]
  },
  {
   "cell_type": "code",
   "execution_count": 140,
   "metadata": {},
   "outputs": [
    {
     "data": {
      "text/html": [
       "<div>\n",
       "<style>\n",
       "    .dataframe thead tr:only-child th {\n",
       "        text-align: right;\n",
       "    }\n",
       "\n",
       "    .dataframe thead th {\n",
       "        text-align: left;\n",
       "    }\n",
       "\n",
       "    .dataframe tbody tr th {\n",
       "        vertical-align: top;\n",
       "    }\n",
       "</style>\n",
       "<table border=\"1\" class=\"dataframe\">\n",
       "  <thead>\n",
       "    <tr style=\"text-align: right;\">\n",
       "      <th></th>\n",
       "      <th>Date</th>\n",
       "      <th>Day</th>\n",
       "      <th>Hour</th>\n",
       "      <th>SensorID</th>\n",
       "      <th>Location</th>\n",
       "      <th>Counts</th>\n",
       "    </tr>\n",
       "  </thead>\n",
       "  <tbody>\n",
       "    <tr>\n",
       "      <th>656818</th>\n",
       "      <td>14-Feb-2015</td>\n",
       "      <td>Sat</td>\n",
       "      <td>2</td>\n",
       "      <td>4.0</td>\n",
       "      <td>Town Hall (West)</td>\n",
       "      <td>998.0</td>\n",
       "    </tr>\n",
       "    <tr>\n",
       "      <th>656819</th>\n",
       "      <td>14-Feb-2015</td>\n",
       "      <td>Sat</td>\n",
       "      <td>2</td>\n",
       "      <td>17.0</td>\n",
       "      <td>Collins Place (South)</td>\n",
       "      <td>39.0</td>\n",
       "    </tr>\n",
       "    <tr>\n",
       "      <th>656820</th>\n",
       "      <td>14-Feb-2015</td>\n",
       "      <td>Sat</td>\n",
       "      <td>2</td>\n",
       "      <td>18.0</td>\n",
       "      <td>Collins Place (North)</td>\n",
       "      <td>17.0</td>\n",
       "    </tr>\n",
       "    <tr>\n",
       "      <th>656821</th>\n",
       "      <td>14-Feb-2015</td>\n",
       "      <td>Sat</td>\n",
       "      <td>2</td>\n",
       "      <td>2.0</td>\n",
       "      <td>Bourke Street Mall (South)</td>\n",
       "      <td>95.0</td>\n",
       "    </tr>\n",
       "    <tr>\n",
       "      <th>656822</th>\n",
       "      <td>14-Feb-2015</td>\n",
       "      <td>Sat</td>\n",
       "      <td>2</td>\n",
       "      <td>13.0</td>\n",
       "      <td>Flagstaff Station</td>\n",
       "      <td>19.0</td>\n",
       "    </tr>\n",
       "  </tbody>\n",
       "</table>\n",
       "</div>"
      ],
      "text/plain": [
       "               Date  Day  Hour  SensorID                    Location  Counts\n",
       "656818  14-Feb-2015  Sat     2       4.0            Town Hall (West)   998.0\n",
       "656819  14-Feb-2015  Sat     2      17.0       Collins Place (South)    39.0\n",
       "656820  14-Feb-2015  Sat     2      18.0       Collins Place (North)    17.0\n",
       "656821  14-Feb-2015  Sat     2       2.0  Bourke Street Mall (South)    95.0\n",
       "656822  14-Feb-2015  Sat     2      13.0           Flagstaff Station    19.0"
      ]
     },
     "execution_count": 140,
     "metadata": {},
     "output_type": "execute_result"
    }
   ],
   "source": [
    "no_nans.tail()"
   ]
  },
  {
   "cell_type": "code",
   "execution_count": 141,
   "metadata": {},
   "outputs": [],
   "source": [
    "no_nans = no_nans.reset_index()"
   ]
  },
  {
   "cell_type": "code",
   "execution_count": 142,
   "metadata": {},
   "outputs": [
    {
     "data": {
      "text/html": [
       "<div>\n",
       "<style>\n",
       "    .dataframe thead tr:only-child th {\n",
       "        text-align: right;\n",
       "    }\n",
       "\n",
       "    .dataframe thead th {\n",
       "        text-align: left;\n",
       "    }\n",
       "\n",
       "    .dataframe tbody tr th {\n",
       "        vertical-align: top;\n",
       "    }\n",
       "</style>\n",
       "<table border=\"1\" class=\"dataframe\">\n",
       "  <thead>\n",
       "    <tr style=\"text-align: right;\">\n",
       "      <th></th>\n",
       "      <th>index</th>\n",
       "      <th>Date</th>\n",
       "      <th>Day</th>\n",
       "      <th>Hour</th>\n",
       "      <th>SensorID</th>\n",
       "      <th>Location</th>\n",
       "      <th>Counts</th>\n",
       "    </tr>\n",
       "  </thead>\n",
       "  <tbody>\n",
       "    <tr>\n",
       "      <th>656802</th>\n",
       "      <td>656818</td>\n",
       "      <td>14-Feb-2015</td>\n",
       "      <td>Sat</td>\n",
       "      <td>2</td>\n",
       "      <td>4.0</td>\n",
       "      <td>Town Hall (West)</td>\n",
       "      <td>998.0</td>\n",
       "    </tr>\n",
       "    <tr>\n",
       "      <th>656803</th>\n",
       "      <td>656819</td>\n",
       "      <td>14-Feb-2015</td>\n",
       "      <td>Sat</td>\n",
       "      <td>2</td>\n",
       "      <td>17.0</td>\n",
       "      <td>Collins Place (South)</td>\n",
       "      <td>39.0</td>\n",
       "    </tr>\n",
       "    <tr>\n",
       "      <th>656804</th>\n",
       "      <td>656820</td>\n",
       "      <td>14-Feb-2015</td>\n",
       "      <td>Sat</td>\n",
       "      <td>2</td>\n",
       "      <td>18.0</td>\n",
       "      <td>Collins Place (North)</td>\n",
       "      <td>17.0</td>\n",
       "    </tr>\n",
       "    <tr>\n",
       "      <th>656805</th>\n",
       "      <td>656821</td>\n",
       "      <td>14-Feb-2015</td>\n",
       "      <td>Sat</td>\n",
       "      <td>2</td>\n",
       "      <td>2.0</td>\n",
       "      <td>Bourke Street Mall (South)</td>\n",
       "      <td>95.0</td>\n",
       "    </tr>\n",
       "    <tr>\n",
       "      <th>656806</th>\n",
       "      <td>656822</td>\n",
       "      <td>14-Feb-2015</td>\n",
       "      <td>Sat</td>\n",
       "      <td>2</td>\n",
       "      <td>13.0</td>\n",
       "      <td>Flagstaff Station</td>\n",
       "      <td>19.0</td>\n",
       "    </tr>\n",
       "  </tbody>\n",
       "</table>\n",
       "</div>"
      ],
      "text/plain": [
       "         index         Date  Day  Hour  SensorID                    Location  \\\n",
       "656802  656818  14-Feb-2015  Sat     2       4.0            Town Hall (West)   \n",
       "656803  656819  14-Feb-2015  Sat     2      17.0       Collins Place (South)   \n",
       "656804  656820  14-Feb-2015  Sat     2      18.0       Collins Place (North)   \n",
       "656805  656821  14-Feb-2015  Sat     2       2.0  Bourke Street Mall (South)   \n",
       "656806  656822  14-Feb-2015  Sat     2      13.0           Flagstaff Station   \n",
       "\n",
       "        Counts  \n",
       "656802   998.0  \n",
       "656803    39.0  \n",
       "656804    17.0  \n",
       "656805    95.0  \n",
       "656806    19.0  "
      ]
     },
     "execution_count": 142,
     "metadata": {},
     "output_type": "execute_result"
    }
   ],
   "source": [
    "no_nans.tail()"
   ]
  },
  {
   "cell_type": "markdown",
   "metadata": {},
   "source": [
    "We can see however, that this method has added in another column, Index, with the original index values. This can be pretty easily resolved by deleting the column (if you don't want to keep that data). But we'll get to that later."
   ]
  },
  {
   "cell_type": "markdown",
   "metadata": {},
   "source": [
    "#### Challenge 3\n",
    "\n",
    "Take this dataframe of malformed flight data.\n",
    "```Python\n",
    "flightData = pd.DataFrame({'From': ['LoNDon', 'MAdrid', 'londON','Budapest', 'Brussels'],\n",
    "                   'To':['paris','miLAN',\"Stockholm\",\"PaRiS\",\"LondoN\"],\n",
    "              'FlightNumber': [10045, np.nan, 10065, np.nan, 10085],\n",
    "              'RecentDelays': [[23, 47], [], [24, 43, 87], [13], [67, 32]],\n",
    "                   'Airline': ['KLM(!)', '<Air France>', '(British Airways. )', \n",
    "                               '<Air France>', '\"Swiss Air\"']})\n",
    "```\n",
    "\n",
    "\n",
    "\n",
    "**Part 1**\n",
    "\n",
    "Some values in the the FlightNumber column are missing. These numbers are meant to increase by 10 with each row so 10055 and 10075 need to be put in place. Fill in these missing numbers."
   ]
  },
  {
   "cell_type": "code",
   "execution_count": 143,
   "metadata": {},
   "outputs": [],
   "source": [
    "flightData = pd.DataFrame({'From': ['LoNDon', 'MAdrid', 'londON','Budapest', 'Brussels'],\n",
    "                   'To':['paris','miLAN',\"Stockholm\",\"PaRiS\",\"LondoN\"],\n",
    "              'FlightNumber': [10045, np.nan, 10065, np.nan, 10085],\n",
    "              'RecentDelays': [[23, 47], [], [24, 43, 87], [13], [67, 32]],\n",
    "                   'Airline': ['KLM(!)', '<Air France>', '(British Airways. )', \n",
    "                               '<Air France>', '\"Swiss Air\"']})"
   ]
  },
  {
   "cell_type": "code",
   "execution_count": 147,
   "metadata": {},
   "outputs": [
    {
     "data": {
      "text/html": [
       "<div>\n",
       "<style>\n",
       "    .dataframe thead tr:only-child th {\n",
       "        text-align: right;\n",
       "    }\n",
       "\n",
       "    .dataframe thead th {\n",
       "        text-align: left;\n",
       "    }\n",
       "\n",
       "    .dataframe tbody tr th {\n",
       "        vertical-align: top;\n",
       "    }\n",
       "</style>\n",
       "<table border=\"1\" class=\"dataframe\">\n",
       "  <thead>\n",
       "    <tr style=\"text-align: right;\">\n",
       "      <th></th>\n",
       "      <th>Airline</th>\n",
       "      <th>FlightNumber</th>\n",
       "      <th>From</th>\n",
       "      <th>RecentDelays</th>\n",
       "      <th>To</th>\n",
       "      <th>l</th>\n",
       "    </tr>\n",
       "  </thead>\n",
       "  <tbody>\n",
       "    <tr>\n",
       "      <th>0</th>\n",
       "      <td>KLM(!)</td>\n",
       "      <td>10045.0</td>\n",
       "      <td>LoNDon</td>\n",
       "      <td>[23, 47]</td>\n",
       "      <td>paris</td>\n",
       "      <td>10055</td>\n",
       "    </tr>\n",
       "    <tr>\n",
       "      <th>1</th>\n",
       "      <td>&lt;Air France&gt;</td>\n",
       "      <td>10055.0</td>\n",
       "      <td>MAdrid</td>\n",
       "      <td>[]</td>\n",
       "      <td>miLAN</td>\n",
       "      <td>10055</td>\n",
       "    </tr>\n",
       "    <tr>\n",
       "      <th>2</th>\n",
       "      <td>(British Airways. )</td>\n",
       "      <td>10065.0</td>\n",
       "      <td>londON</td>\n",
       "      <td>[24, 43, 87]</td>\n",
       "      <td>Stockholm</td>\n",
       "      <td>10055</td>\n",
       "    </tr>\n",
       "    <tr>\n",
       "      <th>3</th>\n",
       "      <td>&lt;Air France&gt;</td>\n",
       "      <td>NaN</td>\n",
       "      <td>Budapest</td>\n",
       "      <td>[13]</td>\n",
       "      <td>PaRiS</td>\n",
       "      <td>10055</td>\n",
       "    </tr>\n",
       "    <tr>\n",
       "      <th>4</th>\n",
       "      <td>\"Swiss Air\"</td>\n",
       "      <td>10085.0</td>\n",
       "      <td>Brussels</td>\n",
       "      <td>[67, 32]</td>\n",
       "      <td>LondoN</td>\n",
       "      <td>10055</td>\n",
       "    </tr>\n",
       "  </tbody>\n",
       "</table>\n",
       "</div>"
      ],
      "text/plain": [
       "               Airline  FlightNumber      From  RecentDelays         To      l\n",
       "0               KLM(!)       10045.0    LoNDon      [23, 47]      paris  10055\n",
       "1         <Air France>       10055.0    MAdrid            []      miLAN  10055\n",
       "2  (British Airways. )       10065.0    londON  [24, 43, 87]  Stockholm  10055\n",
       "3         <Air France>           NaN  Budapest          [13]      PaRiS  10055\n",
       "4          \"Swiss Air\"       10085.0  Brussels      [67, 32]     LondoN  10055"
      ]
     },
     "execution_count": 147,
     "metadata": {},
     "output_type": "execute_result"
    }
   ],
   "source": [
    "flightData.set_value(1,\"FlightNumber\",10055)"
   ]
  },
  {
   "cell_type": "markdown",
   "metadata": {},
   "source": [
    "**Part 2**\n",
    "\n",
    "Notice how the capitalisation of the city names is all mixed up in this temporary DataFrame. Standardise the strings so that only the first letter is uppercase (e.g. \"londON\" should become \"London\".)"
   ]
  },
  {
   "cell_type": "code",
   "execution_count": 148,
   "metadata": {},
   "outputs": [],
   "source": [
    "flightData[\"From\"] = flightData[\"From\"].str.capitalize()\n",
    "flightData[\"To\"] = flightData[\"To\"].str.capitalize()"
   ]
  },
  {
   "cell_type": "code",
   "execution_count": 149,
   "metadata": {
    "scrolled": true
   },
   "outputs": [
    {
     "data": {
      "text/html": [
       "<div>\n",
       "<style>\n",
       "    .dataframe thead tr:only-child th {\n",
       "        text-align: right;\n",
       "    }\n",
       "\n",
       "    .dataframe thead th {\n",
       "        text-align: left;\n",
       "    }\n",
       "\n",
       "    .dataframe tbody tr th {\n",
       "        vertical-align: top;\n",
       "    }\n",
       "</style>\n",
       "<table border=\"1\" class=\"dataframe\">\n",
       "  <thead>\n",
       "    <tr style=\"text-align: right;\">\n",
       "      <th></th>\n",
       "      <th>Airline</th>\n",
       "      <th>FlightNumber</th>\n",
       "      <th>From</th>\n",
       "      <th>RecentDelays</th>\n",
       "      <th>To</th>\n",
       "      <th>l</th>\n",
       "    </tr>\n",
       "  </thead>\n",
       "  <tbody>\n",
       "    <tr>\n",
       "      <th>0</th>\n",
       "      <td>KLM(!)</td>\n",
       "      <td>10045.0</td>\n",
       "      <td>London</td>\n",
       "      <td>[23, 47]</td>\n",
       "      <td>Paris</td>\n",
       "      <td>10055</td>\n",
       "    </tr>\n",
       "    <tr>\n",
       "      <th>1</th>\n",
       "      <td>&lt;Air France&gt;</td>\n",
       "      <td>10055.0</td>\n",
       "      <td>Madrid</td>\n",
       "      <td>[]</td>\n",
       "      <td>Milan</td>\n",
       "      <td>10055</td>\n",
       "    </tr>\n",
       "    <tr>\n",
       "      <th>2</th>\n",
       "      <td>(British Airways. )</td>\n",
       "      <td>10065.0</td>\n",
       "      <td>London</td>\n",
       "      <td>[24, 43, 87]</td>\n",
       "      <td>Stockholm</td>\n",
       "      <td>10055</td>\n",
       "    </tr>\n",
       "    <tr>\n",
       "      <th>3</th>\n",
       "      <td>&lt;Air France&gt;</td>\n",
       "      <td>NaN</td>\n",
       "      <td>Budapest</td>\n",
       "      <td>[13]</td>\n",
       "      <td>Paris</td>\n",
       "      <td>10055</td>\n",
       "    </tr>\n",
       "    <tr>\n",
       "      <th>4</th>\n",
       "      <td>\"Swiss Air\"</td>\n",
       "      <td>10085.0</td>\n",
       "      <td>Brussels</td>\n",
       "      <td>[67, 32]</td>\n",
       "      <td>London</td>\n",
       "      <td>10055</td>\n",
       "    </tr>\n",
       "  </tbody>\n",
       "</table>\n",
       "</div>"
      ],
      "text/plain": [
       "               Airline  FlightNumber      From  RecentDelays         To      l\n",
       "0               KLM(!)       10045.0    London      [23, 47]      Paris  10055\n",
       "1         <Air France>       10055.0    Madrid            []      Milan  10055\n",
       "2  (British Airways. )       10065.0    London  [24, 43, 87]  Stockholm  10055\n",
       "3         <Air France>           NaN  Budapest          [13]      Paris  10055\n",
       "4          \"Swiss Air\"       10085.0  Brussels      [67, 32]     London  10055"
      ]
     },
     "execution_count": 149,
     "metadata": {},
     "output_type": "execute_result"
    }
   ],
   "source": [
    "flightData"
   ]
  },
  {
   "cell_type": "markdown",
   "metadata": {},
   "source": [
    "**Part 3**\n",
    "\n",
    "In the Airline column, you can see some extra puctuation and symbols have appeared around the airline names. Pull out just the airline name. E.g. '(British Airways. )' should become 'British Airways'\n",
    "\n",
    "*Hint: strings have a `strip()` function*"
   ]
  },
  {
   "cell_type": "code",
   "execution_count": 154,
   "metadata": {},
   "outputs": [],
   "source": [
    "flightData[\"Airline\"] = flightData[\"Airline\"].str.strip('\"<>(. !)')"
   ]
  },
  {
   "cell_type": "code",
   "execution_count": 155,
   "metadata": {},
   "outputs": [
    {
     "data": {
      "text/html": [
       "<div>\n",
       "<style>\n",
       "    .dataframe thead tr:only-child th {\n",
       "        text-align: right;\n",
       "    }\n",
       "\n",
       "    .dataframe thead th {\n",
       "        text-align: left;\n",
       "    }\n",
       "\n",
       "    .dataframe tbody tr th {\n",
       "        vertical-align: top;\n",
       "    }\n",
       "</style>\n",
       "<table border=\"1\" class=\"dataframe\">\n",
       "  <thead>\n",
       "    <tr style=\"text-align: right;\">\n",
       "      <th></th>\n",
       "      <th>Airline</th>\n",
       "      <th>FlightNumber</th>\n",
       "      <th>From</th>\n",
       "      <th>RecentDelays</th>\n",
       "      <th>To</th>\n",
       "      <th>l</th>\n",
       "    </tr>\n",
       "  </thead>\n",
       "  <tbody>\n",
       "    <tr>\n",
       "      <th>0</th>\n",
       "      <td>KLM</td>\n",
       "      <td>10045.0</td>\n",
       "      <td>London</td>\n",
       "      <td>[23, 47]</td>\n",
       "      <td>Paris</td>\n",
       "      <td>10055</td>\n",
       "    </tr>\n",
       "    <tr>\n",
       "      <th>1</th>\n",
       "      <td>Air France</td>\n",
       "      <td>10055.0</td>\n",
       "      <td>Madrid</td>\n",
       "      <td>[]</td>\n",
       "      <td>Milan</td>\n",
       "      <td>10055</td>\n",
       "    </tr>\n",
       "    <tr>\n",
       "      <th>2</th>\n",
       "      <td>British Airways</td>\n",
       "      <td>10065.0</td>\n",
       "      <td>London</td>\n",
       "      <td>[24, 43, 87]</td>\n",
       "      <td>Stockholm</td>\n",
       "      <td>10055</td>\n",
       "    </tr>\n",
       "    <tr>\n",
       "      <th>3</th>\n",
       "      <td>Air France</td>\n",
       "      <td>NaN</td>\n",
       "      <td>Budapest</td>\n",
       "      <td>[13]</td>\n",
       "      <td>Paris</td>\n",
       "      <td>10055</td>\n",
       "    </tr>\n",
       "    <tr>\n",
       "      <th>4</th>\n",
       "      <td>Swiss Air</td>\n",
       "      <td>10085.0</td>\n",
       "      <td>Brussels</td>\n",
       "      <td>[67, 32]</td>\n",
       "      <td>London</td>\n",
       "      <td>10055</td>\n",
       "    </tr>\n",
       "  </tbody>\n",
       "</table>\n",
       "</div>"
      ],
      "text/plain": [
       "           Airline  FlightNumber      From  RecentDelays         To      l\n",
       "0              KLM       10045.0    London      [23, 47]      Paris  10055\n",
       "1       Air France       10055.0    Madrid            []      Milan  10055\n",
       "2  British Airways       10065.0    London  [24, 43, 87]  Stockholm  10055\n",
       "3       Air France           NaN  Budapest          [13]      Paris  10055\n",
       "4        Swiss Air       10085.0  Brussels      [67, 32]     London  10055"
      ]
     },
     "execution_count": 155,
     "metadata": {},
     "output_type": "execute_result"
    }
   ],
   "source": [
    "flightData"
   ]
  },
  {
   "cell_type": "code",
   "execution_count": null,
   "metadata": {},
   "outputs": [],
   "source": []
  },
  {
   "cell_type": "markdown",
   "metadata": {},
   "source": [
    "That ends the \"deleting nulls\" section of data manipulation. To continue with the exercises, now go to \"Converting Data Types, Dataframe Manipulation\". \n",
    "\n",
    "This next text section will show instead how you might replace your null values with useable data.\n",
    "\n",
    "### Replacing Nulls - Personal reading section\n",
    "\n",
    "#### Replacing all null values with a single value\n",
    "In the Counts column for example, you can see that there are 14 missing values. You might choose to just replace all of these with 0. You can do this using the `fillna()` function, and specifying the value you want to replace it with.\n"
   ]
  },
  {
   "cell_type": "code",
   "execution_count": null,
   "metadata": {
    "scrolled": true
   },
   "outputs": [],
   "source": [
    "df = pd.DataFrame({\"A\": ['a','b','c','d',np.nan],\n",
    "                 \"B\": [1,5,np.nan,7,9],\n",
    "                 \"C\": np.random.randn(5)})\n",
    "df"
   ]
  },
  {
   "cell_type": "code",
   "execution_count": null,
   "metadata": {
    "scrolled": true
   },
   "outputs": [],
   "source": [
    "df['B'] = df['B'].fillna(value=0)\n",
    "\n",
    "df"
   ]
  },
  {
   "cell_type": "markdown",
   "metadata": {},
   "source": [
    "`fillna` also allows you to forward (`ffill`) or backfill (`bfill`) your dataframe with the \"methods\" argument.\n",
    "\n",
    "Find out more about the options available here:  \n",
    "http://pandas.pydata.org/pandas-docs/stable/generated/pandas.DataFrame.fillna.html"
   ]
  },
  {
   "cell_type": "code",
   "execution_count": null,
   "metadata": {},
   "outputs": [],
   "source": [
    "df[\"A\"] = df[\"A\"].fillna(method = 'ffill')\n",
    "df"
   ]
  },
  {
   "cell_type": "markdown",
   "metadata": {},
   "source": [
    "##### Interpolating (Predicting) Missing Data\n",
    "\n",
    "One option is to use the function `Series.interpolate` to predict and fill in the missing values based on the index\n",
    "\n",
    "If we examine the function more closely, we can see that it can take multiple arguments, including the prediction method (default = linear), and the direction in which it can replace your data.\n",
    "\n",
    "Be very careful about using this method though, as it is literally predicting what data *might* have been there, rather than what actually *was* there. This naturally carries some degree of statistical uncertainty, which can be introduced into your data and calculations. If in doubt about which prediction method is appropriate, or the accuracy of your predictions, maintain an unaltered copy of your data (always recommended regardless) and consult a statistician."
   ]
  },
  {
   "cell_type": "code",
   "execution_count": null,
   "metadata": {},
   "outputs": [],
   "source": [
    "help(df.interpolate)"
   ]
  },
  {
   "cell_type": "markdown",
   "metadata": {},
   "source": [
    "## Converting Data Types, Dataframe Manipulation\n",
    "\n",
    "While we currently have a \"Date\" column, if you go into dtypes you can see that pandas has read this in as string, rather than as a datetime type. If we left it as a string, to get the Month, Day or Year we would need to perform a series of string manipulations every time we wanted to access these values - a costly, redundant and time consuming exercise if trying to use the whole dataframe. \n",
    "\n",
    "Instead, we can convert this column to a datetime data type, using the `to_datetime()` function.\n",
    "\n",
    "Tip: this will take a while, so if you're working on the server try to stagger the run times"
   ]
  },
  {
   "cell_type": "code",
   "execution_count": 156,
   "metadata": {},
   "outputs": [],
   "source": [
    "no_nans['Date'] = pd.to_datetime(no_nans['Date'])"
   ]
  },
  {
   "cell_type": "code",
   "execution_count": 157,
   "metadata": {},
   "outputs": [
    {
     "data": {
      "text/plain": [
       "0   2012-01-01\n",
       "1   2012-01-01\n",
       "2   2012-01-01\n",
       "3   2012-01-01\n",
       "4   2012-01-01\n",
       "Name: Date, dtype: datetime64[ns]"
      ]
     },
     "execution_count": 157,
     "metadata": {},
     "output_type": "execute_result"
    }
   ],
   "source": [
    "no_nans.Date.head()"
   ]
  },
  {
   "cell_type": "code",
   "execution_count": 158,
   "metadata": {},
   "outputs": [
    {
     "data": {
      "text/plain": [
       "Index(['index', 'Date', 'Day', 'Hour', 'SensorID', 'Location', 'Counts'], dtype='object')"
      ]
     },
     "execution_count": 158,
     "metadata": {},
     "output_type": "execute_result"
    }
   ],
   "source": [
    "no_nans.columns"
   ]
  },
  {
   "cell_type": "markdown",
   "metadata": {},
   "source": [
    "### Adding and Deleting Columns\n",
    "\n",
    "Adding a column is a pretty simple exercise - just as we would with a dictionary, you create a new key (column) and assign it some data.\n",
    "\n",
    "Here, let's split our date column so that we can examine statistics for the different months, years, etc, later on."
   ]
  },
  {
   "cell_type": "code",
   "execution_count": 159,
   "metadata": {},
   "outputs": [],
   "source": [
    "# Adding a Column with the Day\n",
    "no_nans['Date2'] = pd.DatetimeIndex(no_nans['Date']).day"
   ]
  },
  {
   "cell_type": "code",
   "execution_count": 160,
   "metadata": {},
   "outputs": [],
   "source": [
    "# Adding a Column with the Month (from 1-12)\n",
    "no_nans[\"Month\"] = pd.DatetimeIndex(no_nans['Date']).month\n",
    "\n",
    "# Adding a Column with the Year\n",
    "no_nans[\"Year\"] = pd.DatetimeIndex(no_nans['Date']).year"
   ]
  },
  {
   "cell_type": "code",
   "execution_count": 161,
   "metadata": {},
   "outputs": [
    {
     "data": {
      "text/html": [
       "<div>\n",
       "<style>\n",
       "    .dataframe thead tr:only-child th {\n",
       "        text-align: right;\n",
       "    }\n",
       "\n",
       "    .dataframe thead th {\n",
       "        text-align: left;\n",
       "    }\n",
       "\n",
       "    .dataframe tbody tr th {\n",
       "        vertical-align: top;\n",
       "    }\n",
       "</style>\n",
       "<table border=\"1\" class=\"dataframe\">\n",
       "  <thead>\n",
       "    <tr style=\"text-align: right;\">\n",
       "      <th></th>\n",
       "      <th>index</th>\n",
       "      <th>Date</th>\n",
       "      <th>Day</th>\n",
       "      <th>Hour</th>\n",
       "      <th>SensorID</th>\n",
       "      <th>Location</th>\n",
       "      <th>Counts</th>\n",
       "      <th>Date2</th>\n",
       "      <th>Month</th>\n",
       "      <th>Year</th>\n",
       "    </tr>\n",
       "  </thead>\n",
       "  <tbody>\n",
       "    <tr>\n",
       "      <th>0</th>\n",
       "      <td>0</td>\n",
       "      <td>2012-01-01</td>\n",
       "      <td>Sun</td>\n",
       "      <td>0</td>\n",
       "      <td>4.0</td>\n",
       "      <td>Town Hall (West)</td>\n",
       "      <td>3363.0</td>\n",
       "      <td>1</td>\n",
       "      <td>1</td>\n",
       "      <td>2012</td>\n",
       "    </tr>\n",
       "    <tr>\n",
       "      <th>1</th>\n",
       "      <td>1</td>\n",
       "      <td>2012-01-01</td>\n",
       "      <td>Sun</td>\n",
       "      <td>0</td>\n",
       "      <td>17.0</td>\n",
       "      <td>Collins Place (South)</td>\n",
       "      <td>549.0</td>\n",
       "      <td>1</td>\n",
       "      <td>1</td>\n",
       "      <td>2012</td>\n",
       "    </tr>\n",
       "    <tr>\n",
       "      <th>2</th>\n",
       "      <td>2</td>\n",
       "      <td>2012-01-01</td>\n",
       "      <td>Sun</td>\n",
       "      <td>0</td>\n",
       "      <td>18.0</td>\n",
       "      <td>Collins Place (North)</td>\n",
       "      <td>382.0</td>\n",
       "      <td>1</td>\n",
       "      <td>1</td>\n",
       "      <td>2012</td>\n",
       "    </tr>\n",
       "    <tr>\n",
       "      <th>3</th>\n",
       "      <td>3</td>\n",
       "      <td>2012-01-01</td>\n",
       "      <td>Sun</td>\n",
       "      <td>0</td>\n",
       "      <td>16.0</td>\n",
       "      <td>Australia on Collins</td>\n",
       "      <td>781.0</td>\n",
       "      <td>1</td>\n",
       "      <td>1</td>\n",
       "      <td>2012</td>\n",
       "    </tr>\n",
       "    <tr>\n",
       "      <th>4</th>\n",
       "      <td>4</td>\n",
       "      <td>2012-01-01</td>\n",
       "      <td>Sun</td>\n",
       "      <td>0</td>\n",
       "      <td>2.0</td>\n",
       "      <td>Bourke Street Mall (South)</td>\n",
       "      <td>1015.0</td>\n",
       "      <td>1</td>\n",
       "      <td>1</td>\n",
       "      <td>2012</td>\n",
       "    </tr>\n",
       "  </tbody>\n",
       "</table>\n",
       "</div>"
      ],
      "text/plain": [
       "   index       Date  Day  Hour  SensorID                    Location  Counts  \\\n",
       "0      0 2012-01-01  Sun     0       4.0            Town Hall (West)  3363.0   \n",
       "1      1 2012-01-01  Sun     0      17.0       Collins Place (South)   549.0   \n",
       "2      2 2012-01-01  Sun     0      18.0       Collins Place (North)   382.0   \n",
       "3      3 2012-01-01  Sun     0      16.0        Australia on Collins   781.0   \n",
       "4      4 2012-01-01  Sun     0       2.0  Bourke Street Mall (South)  1015.0   \n",
       "\n",
       "   Date2  Month  Year  \n",
       "0      1      1  2012  \n",
       "1      1      1  2012  \n",
       "2      1      1  2012  \n",
       "3      1      1  2012  \n",
       "4      1      1  2012  "
      ]
     },
     "execution_count": 161,
     "metadata": {},
     "output_type": "execute_result"
    }
   ],
   "source": [
    "no_nans.head()"
   ]
  },
  {
   "cell_type": "markdown",
   "metadata": {},
   "source": [
    "To delete a column, we can simply use the `del` command"
   ]
  },
  {
   "cell_type": "code",
   "execution_count": 162,
   "metadata": {},
   "outputs": [],
   "source": [
    "del no_nans[\"index\"]"
   ]
  },
  {
   "cell_type": "code",
   "execution_count": 163,
   "metadata": {
    "scrolled": true
   },
   "outputs": [
    {
     "data": {
      "text/html": [
       "<div>\n",
       "<style>\n",
       "    .dataframe thead tr:only-child th {\n",
       "        text-align: right;\n",
       "    }\n",
       "\n",
       "    .dataframe thead th {\n",
       "        text-align: left;\n",
       "    }\n",
       "\n",
       "    .dataframe tbody tr th {\n",
       "        vertical-align: top;\n",
       "    }\n",
       "</style>\n",
       "<table border=\"1\" class=\"dataframe\">\n",
       "  <thead>\n",
       "    <tr style=\"text-align: right;\">\n",
       "      <th></th>\n",
       "      <th>Date</th>\n",
       "      <th>Day</th>\n",
       "      <th>Hour</th>\n",
       "      <th>SensorID</th>\n",
       "      <th>Location</th>\n",
       "      <th>Counts</th>\n",
       "      <th>Date2</th>\n",
       "      <th>Month</th>\n",
       "      <th>Year</th>\n",
       "    </tr>\n",
       "  </thead>\n",
       "  <tbody>\n",
       "    <tr>\n",
       "      <th>0</th>\n",
       "      <td>2012-01-01</td>\n",
       "      <td>Sun</td>\n",
       "      <td>0</td>\n",
       "      <td>4.0</td>\n",
       "      <td>Town Hall (West)</td>\n",
       "      <td>3363.0</td>\n",
       "      <td>1</td>\n",
       "      <td>1</td>\n",
       "      <td>2012</td>\n",
       "    </tr>\n",
       "    <tr>\n",
       "      <th>1</th>\n",
       "      <td>2012-01-01</td>\n",
       "      <td>Sun</td>\n",
       "      <td>0</td>\n",
       "      <td>17.0</td>\n",
       "      <td>Collins Place (South)</td>\n",
       "      <td>549.0</td>\n",
       "      <td>1</td>\n",
       "      <td>1</td>\n",
       "      <td>2012</td>\n",
       "    </tr>\n",
       "    <tr>\n",
       "      <th>2</th>\n",
       "      <td>2012-01-01</td>\n",
       "      <td>Sun</td>\n",
       "      <td>0</td>\n",
       "      <td>18.0</td>\n",
       "      <td>Collins Place (North)</td>\n",
       "      <td>382.0</td>\n",
       "      <td>1</td>\n",
       "      <td>1</td>\n",
       "      <td>2012</td>\n",
       "    </tr>\n",
       "    <tr>\n",
       "      <th>3</th>\n",
       "      <td>2012-01-01</td>\n",
       "      <td>Sun</td>\n",
       "      <td>0</td>\n",
       "      <td>16.0</td>\n",
       "      <td>Australia on Collins</td>\n",
       "      <td>781.0</td>\n",
       "      <td>1</td>\n",
       "      <td>1</td>\n",
       "      <td>2012</td>\n",
       "    </tr>\n",
       "    <tr>\n",
       "      <th>4</th>\n",
       "      <td>2012-01-01</td>\n",
       "      <td>Sun</td>\n",
       "      <td>0</td>\n",
       "      <td>2.0</td>\n",
       "      <td>Bourke Street Mall (South)</td>\n",
       "      <td>1015.0</td>\n",
       "      <td>1</td>\n",
       "      <td>1</td>\n",
       "      <td>2012</td>\n",
       "    </tr>\n",
       "  </tbody>\n",
       "</table>\n",
       "</div>"
      ],
      "text/plain": [
       "        Date  Day  Hour  SensorID                    Location  Counts  Date2  \\\n",
       "0 2012-01-01  Sun     0       4.0            Town Hall (West)  3363.0      1   \n",
       "1 2012-01-01  Sun     0      17.0       Collins Place (South)   549.0      1   \n",
       "2 2012-01-01  Sun     0      18.0       Collins Place (North)   382.0      1   \n",
       "3 2012-01-01  Sun     0      16.0        Australia on Collins   781.0      1   \n",
       "4 2012-01-01  Sun     0       2.0  Bourke Street Mall (South)  1015.0      1   \n",
       "\n",
       "   Month  Year  \n",
       "0      1  2012  \n",
       "1      1  2012  \n",
       "2      1  2012  \n",
       "3      1  2012  \n",
       "4      1  2012  "
      ]
     },
     "execution_count": 163,
     "metadata": {},
     "output_type": "execute_result"
    }
   ],
   "source": [
    "no_nans.head()"
   ]
  },
  {
   "cell_type": "markdown",
   "metadata": {},
   "source": [
    "Because of the way our columns are named, we don't currently have anything sensible to call our second date column. We can change these columns names pretty easily to something more sensible"
   ]
  },
  {
   "cell_type": "code",
   "execution_count": 166,
   "metadata": {},
   "outputs": [
    {
     "data": {
      "text/plain": [
       "Index(['Timestamp', 'Day', 'Hour', 'SensorID', 'Location', 'Counts', 'Date',\n",
       "       'Month', 'Year'],\n",
       "      dtype='object')"
      ]
     },
     "execution_count": 166,
     "metadata": {},
     "output_type": "execute_result"
    }
   ],
   "source": [
    "no_nans.columns = ['Timestamp', 'Day', 'Hour', 'SensorID', 'Location', 'Counts', 'Date',\n",
    "       'Month', 'Year']"
   ]
  },
  {
   "cell_type": "code",
   "execution_count": 167,
   "metadata": {},
   "outputs": [
    {
     "data": {
      "text/html": [
       "<div>\n",
       "<style>\n",
       "    .dataframe thead tr:only-child th {\n",
       "        text-align: right;\n",
       "    }\n",
       "\n",
       "    .dataframe thead th {\n",
       "        text-align: left;\n",
       "    }\n",
       "\n",
       "    .dataframe tbody tr th {\n",
       "        vertical-align: top;\n",
       "    }\n",
       "</style>\n",
       "<table border=\"1\" class=\"dataframe\">\n",
       "  <thead>\n",
       "    <tr style=\"text-align: right;\">\n",
       "      <th></th>\n",
       "      <th>Timestamp</th>\n",
       "      <th>Day</th>\n",
       "      <th>Hour</th>\n",
       "      <th>SensorID</th>\n",
       "      <th>Location</th>\n",
       "      <th>Counts</th>\n",
       "      <th>Date</th>\n",
       "      <th>Month</th>\n",
       "      <th>Year</th>\n",
       "    </tr>\n",
       "  </thead>\n",
       "  <tbody>\n",
       "    <tr>\n",
       "      <th>0</th>\n",
       "      <td>2012-01-01</td>\n",
       "      <td>Sun</td>\n",
       "      <td>0</td>\n",
       "      <td>4.0</td>\n",
       "      <td>Town Hall (West)</td>\n",
       "      <td>3363.0</td>\n",
       "      <td>1</td>\n",
       "      <td>1</td>\n",
       "      <td>2012</td>\n",
       "    </tr>\n",
       "    <tr>\n",
       "      <th>1</th>\n",
       "      <td>2012-01-01</td>\n",
       "      <td>Sun</td>\n",
       "      <td>0</td>\n",
       "      <td>17.0</td>\n",
       "      <td>Collins Place (South)</td>\n",
       "      <td>549.0</td>\n",
       "      <td>1</td>\n",
       "      <td>1</td>\n",
       "      <td>2012</td>\n",
       "    </tr>\n",
       "    <tr>\n",
       "      <th>2</th>\n",
       "      <td>2012-01-01</td>\n",
       "      <td>Sun</td>\n",
       "      <td>0</td>\n",
       "      <td>18.0</td>\n",
       "      <td>Collins Place (North)</td>\n",
       "      <td>382.0</td>\n",
       "      <td>1</td>\n",
       "      <td>1</td>\n",
       "      <td>2012</td>\n",
       "    </tr>\n",
       "    <tr>\n",
       "      <th>3</th>\n",
       "      <td>2012-01-01</td>\n",
       "      <td>Sun</td>\n",
       "      <td>0</td>\n",
       "      <td>16.0</td>\n",
       "      <td>Australia on Collins</td>\n",
       "      <td>781.0</td>\n",
       "      <td>1</td>\n",
       "      <td>1</td>\n",
       "      <td>2012</td>\n",
       "    </tr>\n",
       "    <tr>\n",
       "      <th>4</th>\n",
       "      <td>2012-01-01</td>\n",
       "      <td>Sun</td>\n",
       "      <td>0</td>\n",
       "      <td>2.0</td>\n",
       "      <td>Bourke Street Mall (South)</td>\n",
       "      <td>1015.0</td>\n",
       "      <td>1</td>\n",
       "      <td>1</td>\n",
       "      <td>2012</td>\n",
       "    </tr>\n",
       "  </tbody>\n",
       "</table>\n",
       "</div>"
      ],
      "text/plain": [
       "   Timestamp  Day  Hour  SensorID                    Location  Counts  Date  \\\n",
       "0 2012-01-01  Sun     0       4.0            Town Hall (West)  3363.0     1   \n",
       "1 2012-01-01  Sun     0      17.0       Collins Place (South)   549.0     1   \n",
       "2 2012-01-01  Sun     0      18.0       Collins Place (North)   382.0     1   \n",
       "3 2012-01-01  Sun     0      16.0        Australia on Collins   781.0     1   \n",
       "4 2012-01-01  Sun     0       2.0  Bourke Street Mall (South)  1015.0     1   \n",
       "\n",
       "   Month  Year  \n",
       "0      1  2012  \n",
       "1      1  2012  \n",
       "2      1  2012  \n",
       "3      1  2012  \n",
       "4      1  2012  "
      ]
     },
     "execution_count": 167,
     "metadata": {},
     "output_type": "execute_result"
    }
   ],
   "source": [
    "no_nans.head()"
   ]
  },
  {
   "cell_type": "markdown",
   "metadata": {},
   "source": [
    "Lets also add another column, Seasons, that tells us which season the traffic is occurring"
   ]
  },
  {
   "cell_type": "code",
   "execution_count": 168,
   "metadata": {},
   "outputs": [
    {
     "data": {
      "text/plain": [
       "array(['Summer', 'Autumn', 'Winter', 'Spring'], dtype=object)"
      ]
     },
     "execution_count": 168,
     "metadata": {},
     "output_type": "execute_result"
    }
   ],
   "source": [
    "season_dict = {1: \"Summer\", 2:\"Summer\", 3:\"Autumn\",4:\"Autumn\",5:\"Autumn\",\n",
    "               6:\"Winter\",7:\"Winter\",8:\"Winter\",9:\"Spring\",10:\"Spring\",\n",
    "              11:\"Spring\",12:\"Summer\"}\n",
    "\n",
    "\n",
    "no_nans[\"Season\"] = no_nans[\"Month\"].apply(season_dict.get)\n",
    "\n",
    "# Check it's been added in\n",
    "no_nans.Season.unique()"
   ]
  },
  {
   "cell_type": "code",
   "execution_count": 171,
   "metadata": {},
   "outputs": [
    {
     "data": {
      "text/html": [
       "<div>\n",
       "<style>\n",
       "    .dataframe thead tr:only-child th {\n",
       "        text-align: right;\n",
       "    }\n",
       "\n",
       "    .dataframe thead th {\n",
       "        text-align: left;\n",
       "    }\n",
       "\n",
       "    .dataframe tbody tr th {\n",
       "        vertical-align: top;\n",
       "    }\n",
       "</style>\n",
       "<table border=\"1\" class=\"dataframe\">\n",
       "  <thead>\n",
       "    <tr style=\"text-align: right;\">\n",
       "      <th></th>\n",
       "      <th>Timestamp</th>\n",
       "      <th>Day</th>\n",
       "      <th>Hour</th>\n",
       "      <th>SensorID</th>\n",
       "      <th>Location</th>\n",
       "      <th>Counts</th>\n",
       "      <th>Date</th>\n",
       "      <th>Month</th>\n",
       "      <th>Year</th>\n",
       "      <th>Season</th>\n",
       "    </tr>\n",
       "  </thead>\n",
       "  <tbody>\n",
       "    <tr>\n",
       "      <th>0</th>\n",
       "      <td>2012-01-01</td>\n",
       "      <td>Sun</td>\n",
       "      <td>0</td>\n",
       "      <td>4.0</td>\n",
       "      <td>Town Hall (West)</td>\n",
       "      <td>3363.0</td>\n",
       "      <td>1</td>\n",
       "      <td>1</td>\n",
       "      <td>2012</td>\n",
       "      <td>Summer</td>\n",
       "    </tr>\n",
       "    <tr>\n",
       "      <th>1</th>\n",
       "      <td>2012-01-01</td>\n",
       "      <td>Sun</td>\n",
       "      <td>0</td>\n",
       "      <td>17.0</td>\n",
       "      <td>Collins Place (South)</td>\n",
       "      <td>549.0</td>\n",
       "      <td>1</td>\n",
       "      <td>1</td>\n",
       "      <td>2012</td>\n",
       "      <td>Summer</td>\n",
       "    </tr>\n",
       "    <tr>\n",
       "      <th>2</th>\n",
       "      <td>2012-01-01</td>\n",
       "      <td>Sun</td>\n",
       "      <td>0</td>\n",
       "      <td>18.0</td>\n",
       "      <td>Collins Place (North)</td>\n",
       "      <td>382.0</td>\n",
       "      <td>1</td>\n",
       "      <td>1</td>\n",
       "      <td>2012</td>\n",
       "      <td>Summer</td>\n",
       "    </tr>\n",
       "    <tr>\n",
       "      <th>3</th>\n",
       "      <td>2012-01-01</td>\n",
       "      <td>Sun</td>\n",
       "      <td>0</td>\n",
       "      <td>16.0</td>\n",
       "      <td>Australia on Collins</td>\n",
       "      <td>781.0</td>\n",
       "      <td>1</td>\n",
       "      <td>1</td>\n",
       "      <td>2012</td>\n",
       "      <td>Summer</td>\n",
       "    </tr>\n",
       "    <tr>\n",
       "      <th>4</th>\n",
       "      <td>2012-01-01</td>\n",
       "      <td>Sun</td>\n",
       "      <td>0</td>\n",
       "      <td>2.0</td>\n",
       "      <td>Bourke Street Mall (South)</td>\n",
       "      <td>1015.0</td>\n",
       "      <td>1</td>\n",
       "      <td>1</td>\n",
       "      <td>2012</td>\n",
       "      <td>Summer</td>\n",
       "    </tr>\n",
       "  </tbody>\n",
       "</table>\n",
       "</div>"
      ],
      "text/plain": [
       "   Timestamp  Day  Hour  SensorID                    Location  Counts  Date  \\\n",
       "0 2012-01-01  Sun     0       4.0            Town Hall (West)  3363.0     1   \n",
       "1 2012-01-01  Sun     0      17.0       Collins Place (South)   549.0     1   \n",
       "2 2012-01-01  Sun     0      18.0       Collins Place (North)   382.0     1   \n",
       "3 2012-01-01  Sun     0      16.0        Australia on Collins   781.0     1   \n",
       "4 2012-01-01  Sun     0       2.0  Bourke Street Mall (South)  1015.0     1   \n",
       "\n",
       "   Month  Year  Season  \n",
       "0      1  2012  Summer  \n",
       "1      1  2012  Summer  \n",
       "2      1  2012  Summer  \n",
       "3      1  2012  Summer  \n",
       "4      1  2012  Summer  "
      ]
     },
     "execution_count": 171,
     "metadata": {},
     "output_type": "execute_result"
    }
   ],
   "source": [
    "no_nans.head()"
   ]
  },
  {
   "cell_type": "code",
   "execution_count": 172,
   "metadata": {
    "scrolled": false
   },
   "outputs": [
    {
     "data": {
      "text/html": [
       "<div>\n",
       "<style>\n",
       "    .dataframe thead tr:only-child th {\n",
       "        text-align: right;\n",
       "    }\n",
       "\n",
       "    .dataframe thead th {\n",
       "        text-align: left;\n",
       "    }\n",
       "\n",
       "    .dataframe tbody tr th {\n",
       "        vertical-align: top;\n",
       "    }\n",
       "</style>\n",
       "<table border=\"1\" class=\"dataframe\">\n",
       "  <thead>\n",
       "    <tr style=\"text-align: right;\">\n",
       "      <th></th>\n",
       "      <th>Timestamp</th>\n",
       "      <th>Day</th>\n",
       "      <th>Hour</th>\n",
       "      <th>SensorID</th>\n",
       "      <th>Location</th>\n",
       "      <th>Counts</th>\n",
       "      <th>Date</th>\n",
       "      <th>Month</th>\n",
       "      <th>Year</th>\n",
       "      <th>Season</th>\n",
       "    </tr>\n",
       "  </thead>\n",
       "  <tbody>\n",
       "    <tr>\n",
       "      <th>656802</th>\n",
       "      <td>2015-02-14</td>\n",
       "      <td>Sat</td>\n",
       "      <td>2</td>\n",
       "      <td>4.0</td>\n",
       "      <td>Town Hall (West)</td>\n",
       "      <td>998.0</td>\n",
       "      <td>14</td>\n",
       "      <td>2</td>\n",
       "      <td>2015</td>\n",
       "      <td>Summer</td>\n",
       "    </tr>\n",
       "    <tr>\n",
       "      <th>656803</th>\n",
       "      <td>2015-02-14</td>\n",
       "      <td>Sat</td>\n",
       "      <td>2</td>\n",
       "      <td>17.0</td>\n",
       "      <td>Collins Place (South)</td>\n",
       "      <td>39.0</td>\n",
       "      <td>14</td>\n",
       "      <td>2</td>\n",
       "      <td>2015</td>\n",
       "      <td>Summer</td>\n",
       "    </tr>\n",
       "    <tr>\n",
       "      <th>656804</th>\n",
       "      <td>2015-02-14</td>\n",
       "      <td>Sat</td>\n",
       "      <td>2</td>\n",
       "      <td>18.0</td>\n",
       "      <td>Collins Place (North)</td>\n",
       "      <td>17.0</td>\n",
       "      <td>14</td>\n",
       "      <td>2</td>\n",
       "      <td>2015</td>\n",
       "      <td>Summer</td>\n",
       "    </tr>\n",
       "    <tr>\n",
       "      <th>656805</th>\n",
       "      <td>2015-02-14</td>\n",
       "      <td>Sat</td>\n",
       "      <td>2</td>\n",
       "      <td>2.0</td>\n",
       "      <td>Bourke Street Mall (South)</td>\n",
       "      <td>95.0</td>\n",
       "      <td>14</td>\n",
       "      <td>2</td>\n",
       "      <td>2015</td>\n",
       "      <td>Summer</td>\n",
       "    </tr>\n",
       "    <tr>\n",
       "      <th>656806</th>\n",
       "      <td>2015-02-14</td>\n",
       "      <td>Sat</td>\n",
       "      <td>2</td>\n",
       "      <td>13.0</td>\n",
       "      <td>Flagstaff Station</td>\n",
       "      <td>19.0</td>\n",
       "      <td>14</td>\n",
       "      <td>2</td>\n",
       "      <td>2015</td>\n",
       "      <td>Summer</td>\n",
       "    </tr>\n",
       "  </tbody>\n",
       "</table>\n",
       "</div>"
      ],
      "text/plain": [
       "        Timestamp  Day  Hour  SensorID                    Location  Counts  \\\n",
       "656802 2015-02-14  Sat     2       4.0            Town Hall (West)   998.0   \n",
       "656803 2015-02-14  Sat     2      17.0       Collins Place (South)    39.0   \n",
       "656804 2015-02-14  Sat     2      18.0       Collins Place (North)    17.0   \n",
       "656805 2015-02-14  Sat     2       2.0  Bourke Street Mall (South)    95.0   \n",
       "656806 2015-02-14  Sat     2      13.0           Flagstaff Station    19.0   \n",
       "\n",
       "        Date  Month  Year  Season  \n",
       "656802    14      2  2015  Summer  \n",
       "656803    14      2  2015  Summer  \n",
       "656804    14      2  2015  Summer  \n",
       "656805    14      2  2015  Summer  \n",
       "656806    14      2  2015  Summer  "
      ]
     },
     "execution_count": 172,
     "metadata": {},
     "output_type": "execute_result"
    }
   ],
   "source": [
    "no_nans[no_nans['Month'].isin([1,2,12])].tail()"
   ]
  },
  {
   "cell_type": "markdown",
   "metadata": {},
   "source": [
    "### Changing Your Data Types\n",
    "\n",
    "You can also convert other columns by using the `df[column].astype(<datatype>)` function. This includes 'str', 'int64' and 'float64' data types, amongst others.\n",
    "\n",
    "You must be careful **not to use `astype()` on a column with null values**. `astype()` does not preserve the null values, and makes resolving them later more difficult.\n",
    "\n",
    "Let's create a dataframe, df, in an example of converting types"
   ]
  },
  {
   "cell_type": "code",
   "execution_count": 173,
   "metadata": {},
   "outputs": [
    {
     "data": {
      "text/html": [
       "<div>\n",
       "<style>\n",
       "    .dataframe thead tr:only-child th {\n",
       "        text-align: right;\n",
       "    }\n",
       "\n",
       "    .dataframe thead th {\n",
       "        text-align: left;\n",
       "    }\n",
       "\n",
       "    .dataframe tbody tr th {\n",
       "        vertical-align: top;\n",
       "    }\n",
       "</style>\n",
       "<table border=\"1\" class=\"dataframe\">\n",
       "  <thead>\n",
       "    <tr style=\"text-align: right;\">\n",
       "      <th></th>\n",
       "      <th>A</th>\n",
       "      <th>B</th>\n",
       "      <th>C</th>\n",
       "    </tr>\n",
       "  </thead>\n",
       "  <tbody>\n",
       "    <tr>\n",
       "      <th>0</th>\n",
       "      <td>a</td>\n",
       "      <td>0.129331</td>\n",
       "      <td>2.6</td>\n",
       "    </tr>\n",
       "    <tr>\n",
       "      <th>1</th>\n",
       "      <td>b</td>\n",
       "      <td>-0.937829</td>\n",
       "      <td>NaN</td>\n",
       "    </tr>\n",
       "    <tr>\n",
       "      <th>2</th>\n",
       "      <td>c</td>\n",
       "      <td>0.494253</td>\n",
       "      <td>8.0</td>\n",
       "    </tr>\n",
       "    <tr>\n",
       "      <th>3</th>\n",
       "      <td>NaN</td>\n",
       "      <td>1.099571</td>\n",
       "      <td>9.4</td>\n",
       "    </tr>\n",
       "    <tr>\n",
       "      <th>4</th>\n",
       "      <td>d</td>\n",
       "      <td>1.110515</td>\n",
       "      <td>3.3</td>\n",
       "    </tr>\n",
       "    <tr>\n",
       "      <th>5</th>\n",
       "      <td>e</td>\n",
       "      <td>-1.501369</td>\n",
       "      <td>NaN</td>\n",
       "    </tr>\n",
       "  </tbody>\n",
       "</table>\n",
       "</div>"
      ],
      "text/plain": [
       "     A         B    C\n",
       "0    a  0.129331  2.6\n",
       "1    b -0.937829  NaN\n",
       "2    c  0.494253  8.0\n",
       "3  NaN  1.099571  9.4\n",
       "4    d  1.110515  3.3\n",
       "5    e -1.501369  NaN"
      ]
     },
     "execution_count": 173,
     "metadata": {},
     "output_type": "execute_result"
    }
   ],
   "source": [
    "df = pd.DataFrame({'A':['a','b','c',np.nan,'d','e'],\n",
    "             'B': np.random.randn(6),\n",
    "             'C': [2.6,np.nan, 8.0, 9.4, 3.3, np.nan]})\n",
    "df"
   ]
  },
  {
   "cell_type": "code",
   "execution_count": 175,
   "metadata": {},
   "outputs": [],
   "source": [
    "df[\"A\"] = df[\"A\"].astype(str)"
   ]
  },
  {
   "cell_type": "code",
   "execution_count": 177,
   "metadata": {},
   "outputs": [
    {
     "data": {
      "text/plain": [
       "A    False\n",
       "B    False\n",
       "C     True\n",
       "dtype: bool"
      ]
     },
     "execution_count": 177,
     "metadata": {},
     "output_type": "execute_result"
    }
   ],
   "source": [
    "df.isnull().any(axis = 0)"
   ]
  },
  {
   "cell_type": "markdown",
   "metadata": {},
   "source": [
    "#### Exploration Challenge\n",
    "\n",
    "Convert column A and C in `df` to `str` and `float`, respectively, and then shown what the resulting values at the previously null indexes are\n",
    "\n",
    "*Hint: you can get the index of the current null values before the conversion*"
   ]
  },
  {
   "cell_type": "code",
   "execution_count": null,
   "metadata": {},
   "outputs": [],
   "source": []
  },
  {
   "cell_type": "markdown",
   "metadata": {},
   "source": [
    "#### Challenge 4\n",
    "\n",
    "Create a new column \"D\" for our toy dataframe, df. \"D\" will contain the values from column B + 100. \n",
    "\n",
    "_Hint 1: You can test your output by using the \"apply\" function without assigning it to a new column first_\n",
    "\n",
    "_Hint 2: you can create your own functions using \"lambda\". e.g. _`apply(lambda x: ` _`insert stuff with x`_`)`\n"
   ]
  },
  {
   "cell_type": "code",
   "execution_count": null,
   "metadata": {},
   "outputs": [],
   "source": []
  },
  {
   "cell_type": "code",
   "execution_count": null,
   "metadata": {},
   "outputs": [],
   "source": []
  },
  {
   "cell_type": "markdown",
   "metadata": {},
   "source": [
    "##### Extension Challenge\n",
    "\n",
    "Harken back to our `flightData` dataframe from Challenge 3.\n",
    "\n",
    "In the RecentDelays column, the values have been entered into the DataFrame as a list. We would like each first value in its own column, each second value in its own column, and so on. If there isn't an Nth value, the value should be NaN.\n",
    "\n",
    "Expand the Series of lists into a DataFrame named delays, rename the columns delay_1, delay_2, etc. and replace the unwanted RecentDelays column in df with delays.\n",
    "\n",
    "*Hint: You can create a new dataframe from the list data in the column by combining `apply` and pd.Series.*  \n",
    "*Hint 2: `help(df.join)`*"
   ]
  },
  {
   "cell_type": "code",
   "execution_count": null,
   "metadata": {},
   "outputs": [],
   "source": [
    "flightData"
   ]
  },
  {
   "cell_type": "code",
   "execution_count": null,
   "metadata": {},
   "outputs": [],
   "source": []
  },
  {
   "cell_type": "code",
   "execution_count": null,
   "metadata": {},
   "outputs": [],
   "source": []
  },
  {
   "cell_type": "code",
   "execution_count": null,
   "metadata": {},
   "outputs": [],
   "source": []
  },
  {
   "cell_type": "markdown",
   "metadata": {},
   "source": [
    "## Grouping Data with `groupby`\n",
    "\n",
    "It's often useful to be able to group the data within a column according to the data in another column. \n",
    "\n",
    "For example, you might wish to take the mean pedestrian counts for each month, or each year. We could do this is a complicated and time consuming way where you subset the data for each month, and then take the mean of the Counts column...or we could just use the `groupby` function. `groupby` outputs a reformatted version of your data where all values associated with your \"grouping factor\" are taken together. You can then perform mathematical and statistical tests on this grouped output (and plotting!), and the tests will be performed within each of the \"groups\" you defined.\n",
    "\n",
    "For example, say that we wanted to find the mean pedestrian counts seen in each month:"
   ]
  },
  {
   "cell_type": "code",
   "execution_count": 179,
   "metadata": {},
   "outputs": [
    {
     "data": {
      "text/html": [
       "<div>\n",
       "<style>\n",
       "    .dataframe thead tr:only-child th {\n",
       "        text-align: right;\n",
       "    }\n",
       "\n",
       "    .dataframe thead th {\n",
       "        text-align: left;\n",
       "    }\n",
       "\n",
       "    .dataframe tbody tr th {\n",
       "        vertical-align: top;\n",
       "    }\n",
       "</style>\n",
       "<table border=\"1\" class=\"dataframe\">\n",
       "  <thead>\n",
       "    <tr style=\"text-align: right;\">\n",
       "      <th></th>\n",
       "      <th>Hour</th>\n",
       "      <th>SensorID</th>\n",
       "      <th>Counts</th>\n",
       "      <th>Date</th>\n",
       "      <th>Year</th>\n",
       "    </tr>\n",
       "    <tr>\n",
       "      <th>Month</th>\n",
       "      <th></th>\n",
       "      <th></th>\n",
       "      <th></th>\n",
       "      <th></th>\n",
       "      <th></th>\n",
       "    </tr>\n",
       "  </thead>\n",
       "  <tbody>\n",
       "    <tr>\n",
       "      <th>1</th>\n",
       "      <td>11.500499</td>\n",
       "      <td>15.090399</td>\n",
       "      <td>602.167428</td>\n",
       "      <td>16.108778</td>\n",
       "      <td>2013.802022</td>\n",
       "    </tr>\n",
       "    <tr>\n",
       "      <th>2</th>\n",
       "      <td>11.485237</td>\n",
       "      <td>14.323410</td>\n",
       "      <td>641.116647</td>\n",
       "      <td>13.084635</td>\n",
       "      <td>2013.547492</td>\n",
       "    </tr>\n",
       "    <tr>\n",
       "      <th>3</th>\n",
       "      <td>11.500000</td>\n",
       "      <td>12.819942</td>\n",
       "      <td>682.660273</td>\n",
       "      <td>15.955470</td>\n",
       "      <td>2013.189739</td>\n",
       "    </tr>\n",
       "    <tr>\n",
       "      <th>4</th>\n",
       "      <td>11.500000</td>\n",
       "      <td>12.720792</td>\n",
       "      <td>657.379868</td>\n",
       "      <td>15.473267</td>\n",
       "      <td>2013.198020</td>\n",
       "    </tr>\n",
       "    <tr>\n",
       "      <th>5</th>\n",
       "      <td>11.500231</td>\n",
       "      <td>12.678764</td>\n",
       "      <td>621.398372</td>\n",
       "      <td>16.154492</td>\n",
       "      <td>2013.194434</td>\n",
       "    </tr>\n",
       "    <tr>\n",
       "      <th>6</th>\n",
       "      <td>11.500000</td>\n",
       "      <td>13.294060</td>\n",
       "      <td>579.292730</td>\n",
       "      <td>15.474718</td>\n",
       "      <td>2013.219440</td>\n",
       "    </tr>\n",
       "    <tr>\n",
       "      <th>7</th>\n",
       "      <td>11.499909</td>\n",
       "      <td>13.361792</td>\n",
       "      <td>616.520401</td>\n",
       "      <td>15.900030</td>\n",
       "      <td>2013.200730</td>\n",
       "    </tr>\n",
       "    <tr>\n",
       "      <th>8</th>\n",
       "      <td>11.500000</td>\n",
       "      <td>13.509564</td>\n",
       "      <td>615.328797</td>\n",
       "      <td>16.139774</td>\n",
       "      <td>2013.209416</td>\n",
       "    </tr>\n",
       "    <tr>\n",
       "      <th>9</th>\n",
       "      <td>11.503597</td>\n",
       "      <td>14.706936</td>\n",
       "      <td>606.965523</td>\n",
       "      <td>15.617322</td>\n",
       "      <td>2013.198284</td>\n",
       "    </tr>\n",
       "    <tr>\n",
       "      <th>10</th>\n",
       "      <td>11.509633</td>\n",
       "      <td>15.390438</td>\n",
       "      <td>618.185780</td>\n",
       "      <td>16.098307</td>\n",
       "      <td>2013.183989</td>\n",
       "    </tr>\n",
       "    <tr>\n",
       "      <th>11</th>\n",
       "      <td>11.500061</td>\n",
       "      <td>15.615394</td>\n",
       "      <td>626.704711</td>\n",
       "      <td>15.401457</td>\n",
       "      <td>2013.179034</td>\n",
       "    </tr>\n",
       "    <tr>\n",
       "      <th>12</th>\n",
       "      <td>11.499804</td>\n",
       "      <td>15.702233</td>\n",
       "      <td>649.984053</td>\n",
       "      <td>16.014173</td>\n",
       "      <td>2013.176027</td>\n",
       "    </tr>\n",
       "  </tbody>\n",
       "</table>\n",
       "</div>"
      ],
      "text/plain": [
       "            Hour   SensorID      Counts       Date         Year\n",
       "Month                                                          \n",
       "1      11.500499  15.090399  602.167428  16.108778  2013.802022\n",
       "2      11.485237  14.323410  641.116647  13.084635  2013.547492\n",
       "3      11.500000  12.819942  682.660273  15.955470  2013.189739\n",
       "4      11.500000  12.720792  657.379868  15.473267  2013.198020\n",
       "5      11.500231  12.678764  621.398372  16.154492  2013.194434\n",
       "6      11.500000  13.294060  579.292730  15.474718  2013.219440\n",
       "7      11.499909  13.361792  616.520401  15.900030  2013.200730\n",
       "8      11.500000  13.509564  615.328797  16.139774  2013.209416\n",
       "9      11.503597  14.706936  606.965523  15.617322  2013.198284\n",
       "10     11.509633  15.390438  618.185780  16.098307  2013.183989\n",
       "11     11.500061  15.615394  626.704711  15.401457  2013.179034\n",
       "12     11.499804  15.702233  649.984053  16.014173  2013.176027"
      ]
     },
     "execution_count": 179,
     "metadata": {},
     "output_type": "execute_result"
    }
   ],
   "source": [
    "no_nans.groupby(by=[\"Month\"]).mean()"
   ]
  },
  {
   "cell_type": "markdown",
   "metadata": {},
   "source": [
    "Unfortunately these tests are non-discriminatory, and will take the `mean()` of each numeric data column. \n",
    "\n",
    "To get the columns you want, such as Counts, you need to specify this in the chained command:"
   ]
  },
  {
   "cell_type": "code",
   "execution_count": 182,
   "metadata": {},
   "outputs": [
    {
     "data": {
      "text/html": [
       "<div>\n",
       "<style>\n",
       "    .dataframe thead tr:only-child th {\n",
       "        text-align: right;\n",
       "    }\n",
       "\n",
       "    .dataframe thead th {\n",
       "        text-align: left;\n",
       "    }\n",
       "\n",
       "    .dataframe tbody tr th {\n",
       "        vertical-align: top;\n",
       "    }\n",
       "</style>\n",
       "<table border=\"1\" class=\"dataframe\">\n",
       "  <thead>\n",
       "    <tr style=\"text-align: right;\">\n",
       "      <th></th>\n",
       "      <th>Counts</th>\n",
       "    </tr>\n",
       "    <tr>\n",
       "      <th>Month</th>\n",
       "      <th></th>\n",
       "    </tr>\n",
       "  </thead>\n",
       "  <tbody>\n",
       "    <tr>\n",
       "      <th>1</th>\n",
       "      <td>602.167428</td>\n",
       "    </tr>\n",
       "    <tr>\n",
       "      <th>2</th>\n",
       "      <td>641.116647</td>\n",
       "    </tr>\n",
       "    <tr>\n",
       "      <th>3</th>\n",
       "      <td>682.660273</td>\n",
       "    </tr>\n",
       "    <tr>\n",
       "      <th>4</th>\n",
       "      <td>657.379868</td>\n",
       "    </tr>\n",
       "    <tr>\n",
       "      <th>5</th>\n",
       "      <td>621.398372</td>\n",
       "    </tr>\n",
       "    <tr>\n",
       "      <th>6</th>\n",
       "      <td>579.292730</td>\n",
       "    </tr>\n",
       "    <tr>\n",
       "      <th>7</th>\n",
       "      <td>616.520401</td>\n",
       "    </tr>\n",
       "    <tr>\n",
       "      <th>8</th>\n",
       "      <td>615.328797</td>\n",
       "    </tr>\n",
       "    <tr>\n",
       "      <th>9</th>\n",
       "      <td>606.965523</td>\n",
       "    </tr>\n",
       "    <tr>\n",
       "      <th>10</th>\n",
       "      <td>618.185780</td>\n",
       "    </tr>\n",
       "    <tr>\n",
       "      <th>11</th>\n",
       "      <td>626.704711</td>\n",
       "    </tr>\n",
       "    <tr>\n",
       "      <th>12</th>\n",
       "      <td>649.984053</td>\n",
       "    </tr>\n",
       "  </tbody>\n",
       "</table>\n",
       "</div>"
      ],
      "text/plain": [
       "           Counts\n",
       "Month            \n",
       "1      602.167428\n",
       "2      641.116647\n",
       "3      682.660273\n",
       "4      657.379868\n",
       "5      621.398372\n",
       "6      579.292730\n",
       "7      616.520401\n",
       "8      615.328797\n",
       "9      606.965523\n",
       "10     618.185780\n",
       "11     626.704711\n",
       "12     649.984053"
      ]
     },
     "execution_count": 182,
     "metadata": {},
     "output_type": "execute_result"
    }
   ],
   "source": [
    "# the mean pedestrian counts within each month\n",
    "no_nans[[\"Counts\",\"Month\"]].groupby(by = \"Month\").mean()"
   ]
  },
  {
   "cell_type": "code",
   "execution_count": 183,
   "metadata": {},
   "outputs": [
    {
     "data": {
      "text/html": [
       "<div>\n",
       "<style>\n",
       "    .dataframe thead tr:only-child th {\n",
       "        text-align: right;\n",
       "    }\n",
       "\n",
       "    .dataframe thead th {\n",
       "        text-align: left;\n",
       "    }\n",
       "\n",
       "    .dataframe tbody tr th {\n",
       "        vertical-align: top;\n",
       "    }\n",
       "</style>\n",
       "<table border=\"1\" class=\"dataframe\">\n",
       "  <thead>\n",
       "    <tr style=\"text-align: right;\">\n",
       "      <th></th>\n",
       "      <th>Counts</th>\n",
       "      <th>Hour</th>\n",
       "    </tr>\n",
       "    <tr>\n",
       "      <th>Month</th>\n",
       "      <th></th>\n",
       "      <th></th>\n",
       "    </tr>\n",
       "  </thead>\n",
       "  <tbody>\n",
       "    <tr>\n",
       "      <th>1</th>\n",
       "      <td>602.167428</td>\n",
       "      <td>11.500499</td>\n",
       "    </tr>\n",
       "    <tr>\n",
       "      <th>2</th>\n",
       "      <td>641.116647</td>\n",
       "      <td>11.485237</td>\n",
       "    </tr>\n",
       "    <tr>\n",
       "      <th>3</th>\n",
       "      <td>682.660273</td>\n",
       "      <td>11.500000</td>\n",
       "    </tr>\n",
       "    <tr>\n",
       "      <th>4</th>\n",
       "      <td>657.379868</td>\n",
       "      <td>11.500000</td>\n",
       "    </tr>\n",
       "    <tr>\n",
       "      <th>5</th>\n",
       "      <td>621.398372</td>\n",
       "      <td>11.500231</td>\n",
       "    </tr>\n",
       "    <tr>\n",
       "      <th>6</th>\n",
       "      <td>579.292730</td>\n",
       "      <td>11.500000</td>\n",
       "    </tr>\n",
       "    <tr>\n",
       "      <th>7</th>\n",
       "      <td>616.520401</td>\n",
       "      <td>11.499909</td>\n",
       "    </tr>\n",
       "    <tr>\n",
       "      <th>8</th>\n",
       "      <td>615.328797</td>\n",
       "      <td>11.500000</td>\n",
       "    </tr>\n",
       "    <tr>\n",
       "      <th>9</th>\n",
       "      <td>606.965523</td>\n",
       "      <td>11.503597</td>\n",
       "    </tr>\n",
       "    <tr>\n",
       "      <th>10</th>\n",
       "      <td>618.185780</td>\n",
       "      <td>11.509633</td>\n",
       "    </tr>\n",
       "    <tr>\n",
       "      <th>11</th>\n",
       "      <td>626.704711</td>\n",
       "      <td>11.500061</td>\n",
       "    </tr>\n",
       "    <tr>\n",
       "      <th>12</th>\n",
       "      <td>649.984053</td>\n",
       "      <td>11.499804</td>\n",
       "    </tr>\n",
       "  </tbody>\n",
       "</table>\n",
       "</div>"
      ],
      "text/plain": [
       "           Counts       Hour\n",
       "Month                       \n",
       "1      602.167428  11.500499\n",
       "2      641.116647  11.485237\n",
       "3      682.660273  11.500000\n",
       "4      657.379868  11.500000\n",
       "5      621.398372  11.500231\n",
       "6      579.292730  11.500000\n",
       "7      616.520401  11.499909\n",
       "8      615.328797  11.500000\n",
       "9      606.965523  11.503597\n",
       "10     618.185780  11.509633\n",
       "11     626.704711  11.500061\n",
       "12     649.984053  11.499804"
      ]
     },
     "execution_count": 183,
     "metadata": {},
     "output_type": "execute_result"
    }
   ],
   "source": [
    "# Can also specify multiple columns to be output\n",
    "    # the mean \"Hour\" and pedestrian counts within each month\n",
    "no_nans.groupby(by=[\"Month\"]).mean()[[\"Counts\",\"Hour\"]]"
   ]
  },
  {
   "cell_type": "markdown",
   "metadata": {},
   "source": [
    "We can also choose to only apply to certain columns, or even group by multiple factors"
   ]
  },
  {
   "cell_type": "code",
   "execution_count": 185,
   "metadata": {
    "scrolled": true
   },
   "outputs": [
    {
     "data": {
      "text/html": [
       "<div>\n",
       "<style>\n",
       "    .dataframe thead tr:only-child th {\n",
       "        text-align: right;\n",
       "    }\n",
       "\n",
       "    .dataframe thead th {\n",
       "        text-align: left;\n",
       "    }\n",
       "\n",
       "    .dataframe tbody tr th {\n",
       "        vertical-align: top;\n",
       "    }\n",
       "</style>\n",
       "<table border=\"1\" class=\"dataframe\">\n",
       "  <thead>\n",
       "    <tr style=\"text-align: right;\">\n",
       "      <th></th>\n",
       "      <th></th>\n",
       "      <th>Counts</th>\n",
       "    </tr>\n",
       "    <tr>\n",
       "      <th>Year</th>\n",
       "      <th>Month</th>\n",
       "      <th></th>\n",
       "    </tr>\n",
       "  </thead>\n",
       "  <tbody>\n",
       "    <tr>\n",
       "      <th rowspan=\"12\" valign=\"top\">2012</th>\n",
       "      <th>1</th>\n",
       "      <td>593.921778</td>\n",
       "    </tr>\n",
       "    <tr>\n",
       "      <th>2</th>\n",
       "      <td>664.069604</td>\n",
       "    </tr>\n",
       "    <tr>\n",
       "      <th>3</th>\n",
       "      <td>708.321087</td>\n",
       "    </tr>\n",
       "    <tr>\n",
       "      <th>4</th>\n",
       "      <td>662.224460</td>\n",
       "    </tr>\n",
       "    <tr>\n",
       "      <th>5</th>\n",
       "      <td>640.853569</td>\n",
       "    </tr>\n",
       "    <tr>\n",
       "      <th>6</th>\n",
       "      <td>608.292438</td>\n",
       "    </tr>\n",
       "    <tr>\n",
       "      <th>7</th>\n",
       "      <td>653.820266</td>\n",
       "    </tr>\n",
       "    <tr>\n",
       "      <th>8</th>\n",
       "      <td>633.853719</td>\n",
       "    </tr>\n",
       "    <tr>\n",
       "      <th>9</th>\n",
       "      <td>641.173530</td>\n",
       "    </tr>\n",
       "    <tr>\n",
       "      <th>10</th>\n",
       "      <td>653.699671</td>\n",
       "    </tr>\n",
       "    <tr>\n",
       "      <th>11</th>\n",
       "      <td>652.947454</td>\n",
       "    </tr>\n",
       "    <tr>\n",
       "      <th>12</th>\n",
       "      <td>677.285878</td>\n",
       "    </tr>\n",
       "    <tr>\n",
       "      <th rowspan=\"12\" valign=\"top\">2013</th>\n",
       "      <th>1</th>\n",
       "      <td>614.056783</td>\n",
       "    </tr>\n",
       "    <tr>\n",
       "      <th>2</th>\n",
       "      <td>658.246445</td>\n",
       "    </tr>\n",
       "    <tr>\n",
       "      <th>3</th>\n",
       "      <td>667.956467</td>\n",
       "    </tr>\n",
       "    <tr>\n",
       "      <th>4</th>\n",
       "      <td>658.531867</td>\n",
       "    </tr>\n",
       "    <tr>\n",
       "      <th>5</th>\n",
       "      <td>625.939964</td>\n",
       "    </tr>\n",
       "    <tr>\n",
       "      <th>6</th>\n",
       "      <td>591.016422</td>\n",
       "    </tr>\n",
       "    <tr>\n",
       "      <th>7</th>\n",
       "      <td>639.931293</td>\n",
       "    </tr>\n",
       "    <tr>\n",
       "      <th>8</th>\n",
       "      <td>644.591230</td>\n",
       "    </tr>\n",
       "    <tr>\n",
       "      <th>9</th>\n",
       "      <td>621.340619</td>\n",
       "    </tr>\n",
       "    <tr>\n",
       "      <th>10</th>\n",
       "      <td>607.113297</td>\n",
       "    </tr>\n",
       "    <tr>\n",
       "      <th>11</th>\n",
       "      <td>638.762026</td>\n",
       "    </tr>\n",
       "    <tr>\n",
       "      <th>12</th>\n",
       "      <td>661.754761</td>\n",
       "    </tr>\n",
       "    <tr>\n",
       "      <th rowspan=\"12\" valign=\"top\">2014</th>\n",
       "      <th>1</th>\n",
       "      <td>591.552915</td>\n",
       "    </tr>\n",
       "    <tr>\n",
       "      <th>2</th>\n",
       "      <td>646.541572</td>\n",
       "    </tr>\n",
       "    <tr>\n",
       "      <th>3</th>\n",
       "      <td>676.224474</td>\n",
       "    </tr>\n",
       "    <tr>\n",
       "      <th>4</th>\n",
       "      <td>653.935018</td>\n",
       "    </tr>\n",
       "    <tr>\n",
       "      <th>5</th>\n",
       "      <td>607.479839</td>\n",
       "    </tr>\n",
       "    <tr>\n",
       "      <th>6</th>\n",
       "      <td>557.368794</td>\n",
       "    </tr>\n",
       "    <tr>\n",
       "      <th>7</th>\n",
       "      <td>582.366259</td>\n",
       "    </tr>\n",
       "    <tr>\n",
       "      <th>8</th>\n",
       "      <td>590.099281</td>\n",
       "    </tr>\n",
       "    <tr>\n",
       "      <th>9</th>\n",
       "      <td>577.266101</td>\n",
       "    </tr>\n",
       "    <tr>\n",
       "      <th>10</th>\n",
       "      <td>608.402323</td>\n",
       "    </tr>\n",
       "    <tr>\n",
       "      <th>11</th>\n",
       "      <td>601.042184</td>\n",
       "    </tr>\n",
       "    <tr>\n",
       "      <th>12</th>\n",
       "      <td>623.627575</td>\n",
       "    </tr>\n",
       "    <tr>\n",
       "      <th rowspan=\"2\" valign=\"top\">2015</th>\n",
       "      <th>1</th>\n",
       "      <td>610.483598</td>\n",
       "    </tr>\n",
       "    <tr>\n",
       "      <th>2</th>\n",
       "      <td>587.227723</td>\n",
       "    </tr>\n",
       "  </tbody>\n",
       "</table>\n",
       "</div>"
      ],
      "text/plain": [
       "                Counts\n",
       "Year Month            \n",
       "2012 1      593.921778\n",
       "     2      664.069604\n",
       "     3      708.321087\n",
       "     4      662.224460\n",
       "     5      640.853569\n",
       "     6      608.292438\n",
       "     7      653.820266\n",
       "     8      633.853719\n",
       "     9      641.173530\n",
       "     10     653.699671\n",
       "     11     652.947454\n",
       "     12     677.285878\n",
       "2013 1      614.056783\n",
       "     2      658.246445\n",
       "     3      667.956467\n",
       "     4      658.531867\n",
       "     5      625.939964\n",
       "     6      591.016422\n",
       "     7      639.931293\n",
       "     8      644.591230\n",
       "     9      621.340619\n",
       "     10     607.113297\n",
       "     11     638.762026\n",
       "     12     661.754761\n",
       "2014 1      591.552915\n",
       "     2      646.541572\n",
       "     3      676.224474\n",
       "     4      653.935018\n",
       "     5      607.479839\n",
       "     6      557.368794\n",
       "     7      582.366259\n",
       "     8      590.099281\n",
       "     9      577.266101\n",
       "     10     608.402323\n",
       "     11     601.042184\n",
       "     12     623.627575\n",
       "2015 1      610.483598\n",
       "     2      587.227723"
      ]
     },
     "execution_count": 185,
     "metadata": {},
     "output_type": "execute_result"
    }
   ],
   "source": [
    "# Just remember to keep the months you're grouping by in your column selection!\n",
    "no_nans[[\"Counts\",\"Month\",\"Year\"]].groupby(by=[\"Year\",\"Month\"]).mean()"
   ]
  },
  {
   "cell_type": "code",
   "execution_count": null,
   "metadata": {},
   "outputs": [],
   "source": []
  },
  {
   "cell_type": "code",
   "execution_count": null,
   "metadata": {
    "scrolled": true
   },
   "outputs": [],
   "source": [
    "# The order of the groupby matters\n"
   ]
  },
  {
   "cell_type": "markdown",
   "metadata": {},
   "source": [
    "By chaining more commands together you can also find the maximum, minimum, etc, values for your groups."
   ]
  },
  {
   "cell_type": "code",
   "execution_count": 186,
   "metadata": {},
   "outputs": [
    {
     "data": {
      "text/plain": [
       "45216150.0"
      ]
     },
     "execution_count": 186,
     "metadata": {},
     "output_type": "execute_result"
    }
   ],
   "source": [
    "# Maximum counts grouped by Month\n",
    "no_nans.groupby(by=[\"Month\"]).Counts.sum()"
   ]
  },
  {
   "cell_type": "markdown",
   "metadata": {},
   "source": [
    "But which month is this associated with?"
   ]
  },
  {
   "cell_type": "code",
   "execution_count": 187,
   "metadata": {},
   "outputs": [
    {
     "data": {
      "text/plain": [
       "Month\n",
       "1    45216150.0\n",
       "Name: Counts, dtype: float64"
      ]
     },
     "execution_count": 187,
     "metadata": {},
     "output_type": "execute_result"
    }
   ],
   "source": [
    "# Finding the Month associated with the maximum value\n",
    "countSums = no_nans.groupby(by=[\"Month\"]).Counts.sum()\n",
    "\n",
    "countSums[countSums == countSums.max()]#<-subset condition in here"
   ]
  },
  {
   "cell_type": "markdown",
   "metadata": {},
   "source": [
    "You might also it useful to chain groupby and the `aggregate` function together for more functionality. We are limited with being able to apply this in interesting ways in our current dataset, but feel free to do some reading in your own time."
   ]
  },
  {
   "cell_type": "code",
   "execution_count": null,
   "metadata": {},
   "outputs": [],
   "source": [
    "help(df.aggregate)"
   ]
  },
  {
   "cell_type": "markdown",
   "metadata": {},
   "source": [
    "#### Challenge 5\n",
    "**Part 1** Which season has the greatest average Pedestrian traffic? "
   ]
  },
  {
   "cell_type": "code",
   "execution_count": 188,
   "metadata": {},
   "outputs": [
    {
     "data": {
      "text/plain": [
       "Season\n",
       "Autumn    653.722896\n",
       "Name: Counts, dtype: float64"
      ]
     },
     "execution_count": 188,
     "metadata": {},
     "output_type": "execute_result"
    }
   ],
   "source": [
    "seasonsmax = no_nans.groupby(by = \"Season\").Counts.mean()\n",
    "\n",
    "seasonsmax[seasonsmax == seasonsmax.max()]"
   ]
  },
  {
   "cell_type": "markdown",
   "metadata": {},
   "source": [
    "**Part 2** Which year has the greatest standard deviation in pedestrians?"
   ]
  },
  {
   "cell_type": "code",
   "execution_count": 189,
   "metadata": {},
   "outputs": [
    {
     "data": {
      "text/plain": [
       "Year\n",
       "2012    880.866814\n",
       "Name: Counts, dtype: float64"
      ]
     },
     "execution_count": 189,
     "metadata": {},
     "output_type": "execute_result"
    }
   ],
   "source": [
    "yearstd = no_nans.groupby(by = \"Year\").Counts.std()\n",
    "\n",
    "yearstd[yearstd == yearstd.max()]"
   ]
  },
  {
   "cell_type": "markdown",
   "metadata": {},
   "source": [
    "**Part 3** Which hour, of which day, sees the greatest average pedestrian traffic overall?\n",
    "\n",
    "Hint: `help(df.sort_values)` might be useful"
   ]
  },
  {
   "cell_type": "code",
   "execution_count": 195,
   "metadata": {
    "scrolled": false
   },
   "outputs": [
    {
     "data": {
      "text/html": [
       "<div>\n",
       "<style>\n",
       "    .dataframe thead tr:only-child th {\n",
       "        text-align: right;\n",
       "    }\n",
       "\n",
       "    .dataframe thead th {\n",
       "        text-align: left;\n",
       "    }\n",
       "\n",
       "    .dataframe tbody tr th {\n",
       "        vertical-align: top;\n",
       "    }\n",
       "</style>\n",
       "<table border=\"1\" class=\"dataframe\">\n",
       "  <thead>\n",
       "    <tr style=\"text-align: right;\">\n",
       "      <th></th>\n",
       "      <th></th>\n",
       "      <th>Counts</th>\n",
       "    </tr>\n",
       "    <tr>\n",
       "      <th>Hour</th>\n",
       "      <th>Day</th>\n",
       "      <th></th>\n",
       "    </tr>\n",
       "  </thead>\n",
       "  <tbody>\n",
       "    <tr>\n",
       "      <th rowspan=\"5\" valign=\"top\">17</th>\n",
       "      <th>Fri</th>\n",
       "      <td>1706.545687</td>\n",
       "    </tr>\n",
       "    <tr>\n",
       "      <th>Thurs</th>\n",
       "      <td>1624.508812</td>\n",
       "    </tr>\n",
       "    <tr>\n",
       "      <th>Wed</th>\n",
       "      <td>1612.041103</td>\n",
       "    </tr>\n",
       "    <tr>\n",
       "      <th>Tues</th>\n",
       "      <td>1572.307024</td>\n",
       "    </tr>\n",
       "    <tr>\n",
       "      <th>Mon</th>\n",
       "      <td>1519.460005</td>\n",
       "    </tr>\n",
       "    <tr>\n",
       "      <th>13</th>\n",
       "      <th>Fri</th>\n",
       "      <td>1477.868555</td>\n",
       "    </tr>\n",
       "    <tr>\n",
       "      <th>12</th>\n",
       "      <th>Fri</th>\n",
       "      <td>1444.317254</td>\n",
       "    </tr>\n",
       "    <tr>\n",
       "      <th>16</th>\n",
       "      <th>Fri</th>\n",
       "      <td>1411.262124</td>\n",
       "    </tr>\n",
       "    <tr>\n",
       "      <th rowspan=\"2\" valign=\"top\">13</th>\n",
       "      <th>Thurs</th>\n",
       "      <td>1406.688123</td>\n",
       "    </tr>\n",
       "    <tr>\n",
       "      <th>Wed</th>\n",
       "      <td>1404.723768</td>\n",
       "    </tr>\n",
       "    <tr>\n",
       "      <th>12</th>\n",
       "      <th>Wed</th>\n",
       "      <td>1383.820271</td>\n",
       "    </tr>\n",
       "    <tr>\n",
       "      <th rowspan=\"2\" valign=\"top\">13</th>\n",
       "      <th>Mon</th>\n",
       "      <td>1378.568873</td>\n",
       "    </tr>\n",
       "    <tr>\n",
       "      <th>Tues</th>\n",
       "      <td>1369.356668</td>\n",
       "    </tr>\n",
       "    <tr>\n",
       "      <th rowspan=\"3\" valign=\"top\">12</th>\n",
       "      <th>Thurs</th>\n",
       "      <td>1369.101712</td>\n",
       "    </tr>\n",
       "    <tr>\n",
       "      <th>Mon</th>\n",
       "      <td>1346.162024</td>\n",
       "    </tr>\n",
       "    <tr>\n",
       "      <th>Tues</th>\n",
       "      <td>1337.887867</td>\n",
       "    </tr>\n",
       "    <tr>\n",
       "      <th>18</th>\n",
       "      <th>Fri</th>\n",
       "      <td>1323.202654</td>\n",
       "    </tr>\n",
       "    <tr>\n",
       "      <th rowspan=\"4\" valign=\"top\">16</th>\n",
       "      <th>Thurs</th>\n",
       "      <td>1292.441890</td>\n",
       "    </tr>\n",
       "    <tr>\n",
       "      <th>Wed</th>\n",
       "      <td>1285.857033</td>\n",
       "    </tr>\n",
       "    <tr>\n",
       "      <th>Tues</th>\n",
       "      <td>1246.507535</td>\n",
       "    </tr>\n",
       "    <tr>\n",
       "      <th>Mon</th>\n",
       "      <td>1241.005878</td>\n",
       "    </tr>\n",
       "    <tr>\n",
       "      <th rowspan=\"2\" valign=\"top\">15</th>\n",
       "      <th>Fri</th>\n",
       "      <td>1222.186830</td>\n",
       "    </tr>\n",
       "    <tr>\n",
       "      <th>Sat</th>\n",
       "      <td>1216.003092</td>\n",
       "    </tr>\n",
       "    <tr>\n",
       "      <th rowspan=\"2\" valign=\"top\">14</th>\n",
       "      <th>Fri</th>\n",
       "      <td>1202.718734</td>\n",
       "    </tr>\n",
       "    <tr>\n",
       "      <th>Sat</th>\n",
       "      <td>1197.093533</td>\n",
       "    </tr>\n",
       "    <tr>\n",
       "      <th>16</th>\n",
       "      <th>Sat</th>\n",
       "      <td>1187.859830</td>\n",
       "    </tr>\n",
       "    <tr>\n",
       "      <th>14</th>\n",
       "      <th>Sun</th>\n",
       "      <td>1174.966999</td>\n",
       "    </tr>\n",
       "    <tr>\n",
       "      <th>13</th>\n",
       "      <th>Sat</th>\n",
       "      <td>1174.768874</td>\n",
       "    </tr>\n",
       "    <tr>\n",
       "      <th rowspan=\"2\" valign=\"top\">8</th>\n",
       "      <th>Wed</th>\n",
       "      <td>1163.281082</td>\n",
       "    </tr>\n",
       "    <tr>\n",
       "      <th>Tues</th>\n",
       "      <td>1162.520562</td>\n",
       "    </tr>\n",
       "    <tr>\n",
       "      <th>...</th>\n",
       "      <th>...</th>\n",
       "      <td>...</td>\n",
       "    </tr>\n",
       "    <tr>\n",
       "      <th>6</th>\n",
       "      <th>Sat</th>\n",
       "      <td>60.247101</td>\n",
       "    </tr>\n",
       "    <tr>\n",
       "      <th>1</th>\n",
       "      <th>Fri</th>\n",
       "      <td>55.439112</td>\n",
       "    </tr>\n",
       "    <tr>\n",
       "      <th rowspan=\"4\" valign=\"top\">5</th>\n",
       "      <th>Fri</th>\n",
       "      <td>55.131478</td>\n",
       "    </tr>\n",
       "    <tr>\n",
       "      <th>Wed</th>\n",
       "      <td>53.352145</td>\n",
       "    </tr>\n",
       "    <tr>\n",
       "      <th>Thurs</th>\n",
       "      <td>53.235429</td>\n",
       "    </tr>\n",
       "    <tr>\n",
       "      <th>Tues</th>\n",
       "      <td>52.461951</td>\n",
       "    </tr>\n",
       "    <tr>\n",
       "      <th>6</th>\n",
       "      <th>Sun</th>\n",
       "      <td>51.029178</td>\n",
       "    </tr>\n",
       "    <tr>\n",
       "      <th>5</th>\n",
       "      <th>Mon</th>\n",
       "      <td>49.239458</td>\n",
       "    </tr>\n",
       "    <tr>\n",
       "      <th>1</th>\n",
       "      <th>Thurs</th>\n",
       "      <td>45.328393</td>\n",
       "    </tr>\n",
       "    <tr>\n",
       "      <th>5</th>\n",
       "      <th>Sun</th>\n",
       "      <td>45.132771</td>\n",
       "    </tr>\n",
       "    <tr>\n",
       "      <th>4</th>\n",
       "      <th>Sat</th>\n",
       "      <td>41.337027</td>\n",
       "    </tr>\n",
       "    <tr>\n",
       "      <th>1</th>\n",
       "      <th>Wed</th>\n",
       "      <td>40.921859</td>\n",
       "    </tr>\n",
       "    <tr>\n",
       "      <th>5</th>\n",
       "      <th>Sat</th>\n",
       "      <td>40.094306</td>\n",
       "    </tr>\n",
       "    <tr>\n",
       "      <th>1</th>\n",
       "      <th>Mon</th>\n",
       "      <td>40.044212</td>\n",
       "    </tr>\n",
       "    <tr>\n",
       "      <th>2</th>\n",
       "      <th>Fri</th>\n",
       "      <td>36.303293</td>\n",
       "    </tr>\n",
       "    <tr>\n",
       "      <th>1</th>\n",
       "      <th>Tues</th>\n",
       "      <td>32.566139</td>\n",
       "    </tr>\n",
       "    <tr>\n",
       "      <th>3</th>\n",
       "      <th>Fri</th>\n",
       "      <td>27.941282</td>\n",
       "    </tr>\n",
       "    <tr>\n",
       "      <th rowspan=\"2\" valign=\"top\">2</th>\n",
       "      <th>Thurs</th>\n",
       "      <td>27.635829</td>\n",
       "    </tr>\n",
       "    <tr>\n",
       "      <th>Mon</th>\n",
       "      <td>25.206491</td>\n",
       "    </tr>\n",
       "    <tr>\n",
       "      <th>4</th>\n",
       "      <th>Fri</th>\n",
       "      <td>24.992341</td>\n",
       "    </tr>\n",
       "    <tr>\n",
       "      <th>2</th>\n",
       "      <th>Wed</th>\n",
       "      <td>24.324821</td>\n",
       "    </tr>\n",
       "    <tr>\n",
       "      <th>4</th>\n",
       "      <th>Mon</th>\n",
       "      <td>20.700230</td>\n",
       "    </tr>\n",
       "    <tr>\n",
       "      <th rowspan=\"2\" valign=\"top\">3</th>\n",
       "      <th>Thurs</th>\n",
       "      <td>20.027345</td>\n",
       "    </tr>\n",
       "    <tr>\n",
       "      <th>Mon</th>\n",
       "      <td>20.003578</td>\n",
       "    </tr>\n",
       "    <tr>\n",
       "      <th>2</th>\n",
       "      <th>Tues</th>\n",
       "      <td>19.299030</td>\n",
       "    </tr>\n",
       "    <tr>\n",
       "      <th>4</th>\n",
       "      <th>Thurs</th>\n",
       "      <td>19.055712</td>\n",
       "    </tr>\n",
       "    <tr>\n",
       "      <th>3</th>\n",
       "      <th>Wed</th>\n",
       "      <td>18.881767</td>\n",
       "    </tr>\n",
       "    <tr>\n",
       "      <th rowspan=\"2\" valign=\"top\">4</th>\n",
       "      <th>Wed</th>\n",
       "      <td>18.550306</td>\n",
       "    </tr>\n",
       "    <tr>\n",
       "      <th>Tues</th>\n",
       "      <td>17.326437</td>\n",
       "    </tr>\n",
       "    <tr>\n",
       "      <th>3</th>\n",
       "      <th>Tues</th>\n",
       "      <td>16.151175</td>\n",
       "    </tr>\n",
       "  </tbody>\n",
       "</table>\n",
       "<p>168 rows × 1 columns</p>\n",
       "</div>"
      ],
      "text/plain": [
       "                 Counts\n",
       "Hour Day               \n",
       "17   Fri    1706.545687\n",
       "     Thurs  1624.508812\n",
       "     Wed    1612.041103\n",
       "     Tues   1572.307024\n",
       "     Mon    1519.460005\n",
       "13   Fri    1477.868555\n",
       "12   Fri    1444.317254\n",
       "16   Fri    1411.262124\n",
       "13   Thurs  1406.688123\n",
       "     Wed    1404.723768\n",
       "12   Wed    1383.820271\n",
       "13   Mon    1378.568873\n",
       "     Tues   1369.356668\n",
       "12   Thurs  1369.101712\n",
       "     Mon    1346.162024\n",
       "     Tues   1337.887867\n",
       "18   Fri    1323.202654\n",
       "16   Thurs  1292.441890\n",
       "     Wed    1285.857033\n",
       "     Tues   1246.507535\n",
       "     Mon    1241.005878\n",
       "15   Fri    1222.186830\n",
       "     Sat    1216.003092\n",
       "14   Fri    1202.718734\n",
       "     Sat    1197.093533\n",
       "16   Sat    1187.859830\n",
       "14   Sun    1174.966999\n",
       "13   Sat    1174.768874\n",
       "8    Wed    1163.281082\n",
       "     Tues   1162.520562\n",
       "...                 ...\n",
       "6    Sat      60.247101\n",
       "1    Fri      55.439112\n",
       "5    Fri      55.131478\n",
       "     Wed      53.352145\n",
       "     Thurs    53.235429\n",
       "     Tues     52.461951\n",
       "6    Sun      51.029178\n",
       "5    Mon      49.239458\n",
       "1    Thurs    45.328393\n",
       "5    Sun      45.132771\n",
       "4    Sat      41.337027\n",
       "1    Wed      40.921859\n",
       "5    Sat      40.094306\n",
       "1    Mon      40.044212\n",
       "2    Fri      36.303293\n",
       "1    Tues     32.566139\n",
       "3    Fri      27.941282\n",
       "2    Thurs    27.635829\n",
       "     Mon      25.206491\n",
       "4    Fri      24.992341\n",
       "2    Wed      24.324821\n",
       "4    Mon      20.700230\n",
       "3    Thurs    20.027345\n",
       "     Mon      20.003578\n",
       "2    Tues     19.299030\n",
       "4    Thurs    19.055712\n",
       "3    Wed      18.881767\n",
       "4    Wed      18.550306\n",
       "     Tues     17.326437\n",
       "3    Tues     16.151175\n",
       "\n",
       "[168 rows x 1 columns]"
      ]
     },
     "execution_count": 195,
     "metadata": {},
     "output_type": "execute_result"
    }
   ],
   "source": [
    "no_nans[[\"Counts\",\"Hour\", \"Day\"]].groupby(by = [\"Hour\", \"Day\"]).mean().sort_values(by = [\"Counts\"],ascending = False)"
   ]
  },
  {
   "cell_type": "code",
   "execution_count": 199,
   "metadata": {},
   "outputs": [
    {
     "data": {
      "text/html": [
       "<div>\n",
       "<style>\n",
       "    .dataframe thead tr:only-child th {\n",
       "        text-align: right;\n",
       "    }\n",
       "\n",
       "    .dataframe thead th {\n",
       "        text-align: left;\n",
       "    }\n",
       "\n",
       "    .dataframe tbody tr th {\n",
       "        vertical-align: top;\n",
       "    }\n",
       "</style>\n",
       "<table border=\"1\" class=\"dataframe\">\n",
       "  <thead>\n",
       "    <tr style=\"text-align: right;\">\n",
       "      <th></th>\n",
       "      <th></th>\n",
       "      <th>Counts</th>\n",
       "    </tr>\n",
       "    <tr>\n",
       "      <th>Day</th>\n",
       "      <th>Hour</th>\n",
       "      <th></th>\n",
       "    </tr>\n",
       "  </thead>\n",
       "  <tbody>\n",
       "    <tr>\n",
       "      <th>Fri</th>\n",
       "      <th>17</th>\n",
       "      <td>1706.545687</td>\n",
       "    </tr>\n",
       "  </tbody>\n",
       "</table>\n",
       "</div>"
      ],
      "text/plain": [
       "               Counts\n",
       "Day Hour             \n",
       "Fri 17    1706.545687"
      ]
     },
     "execution_count": 199,
     "metadata": {},
     "output_type": "execute_result"
    }
   ],
   "source": [
    "no_nans[[\"Counts\",\"Hour\",\"Day\"]]\\\n",
    ".groupby(by = ['Day',\"Hour\"]).mean().apply(lambda t: t[t==t.max()])"
   ]
  },
  {
   "cell_type": "code",
   "execution_count": null,
   "metadata": {},
   "outputs": [],
   "source": []
  },
  {
   "cell_type": "code",
   "execution_count": null,
   "metadata": {},
   "outputs": [],
   "source": []
  },
  {
   "cell_type": "code",
   "execution_count": null,
   "metadata": {},
   "outputs": [],
   "source": []
  },
  {
   "cell_type": "code",
   "execution_count": null,
   "metadata": {},
   "outputs": [],
   "source": []
  },
  {
   "cell_type": "code",
   "execution_count": null,
   "metadata": {},
   "outputs": [],
   "source": []
  },
  {
   "cell_type": "code",
   "execution_count": null,
   "metadata": {},
   "outputs": [],
   "source": []
  },
  {
   "cell_type": "markdown",
   "metadata": {},
   "source": [
    "^ Answer `no_nans[[\"Counts\",\"Hour\",\"Day\"]].groupby(by = ['Day',\"Hour\"]).mean().apply(lambda t: t[t==t.max()])`"
   ]
  },
  {
   "cell_type": "markdown",
   "metadata": {},
   "source": [
    "# Plotting Your Data\n",
    "\n",
    "Now that we've examined and cleaned our data, it's time to look at how we might explore that visually.\n",
    "\n",
    "Pandas has some in-built plotting functionality, that builds off of the traditional matplotlib library, which are reasonably easy to use. However, as Pandas plotting is built-upon matplotlib, customising your plots will require you to understand matplotlib commands. \n",
    "\n",
    "This section will teach you the basics of plotting within pandas. This is hardly comprehensive, and please feel free to delve into some of user guides and tutorials and questions available on Google and Stack Overflow to learn more about these tools and how to make them work for you.\n",
    "\n",
    "A reasonably good matplotlib tutorial can be found at https://matplotlib.org/users/pyplot_tutorial.html\n",
    "\n",
    "The [matplotlib API](https://matplotlib.org/devdocs/api/_as_gen/matplotlib.pyplot.html) contains all of the functions you can call within matplotlib, along with detailed information about how you can use them and their parameters\n",
    "\n",
    "A handy \"quick guide\" to the different kinds of plotting functions within pyplot can also be found at the [pyplot API](https://matplotlib.org/api/pyplot_api.html)"
   ]
  },
  {
   "cell_type": "markdown",
   "metadata": {},
   "source": [
    "Let's first try using `df.plot()` on our no_nans dataframe"
   ]
  },
  {
   "cell_type": "code",
   "execution_count": 200,
   "metadata": {},
   "outputs": [
    {
     "data": {
      "image/png": "[encoded data removed]",
      "text/plain": [
       "<matplotlib.figure.Figure at 0x22063b116a0>"
      ]
     },
     "metadata": {},
     "output_type": "display_data"
    }
   ],
   "source": [
    "no_nans.plot()\n",
    "plt.show()"
   ]
  },
  {
   "cell_type": "markdown",
   "metadata": {},
   "source": [
    "But that's not particularly informative, and much of the graph is completely unreadable.\n",
    "\n",
    "Matplotlib has great customisability, so let's play around with trying to plot different types of graphs with our data"
   ]
  },
  {
   "cell_type": "markdown",
   "metadata": {},
   "source": [
    "## Line Plot\n",
    "\n",
    "Line plots are great for plotting series data, usually a time series of some description.\n",
    "\n",
    "Line plots are also the default plot drawn when calling `.plot()`.\n",
    "\n",
    "Within the plot function you can also specify the figure title and the figure size"
   ]
  },
  {
   "cell_type": "code",
   "execution_count": 202,
   "metadata": {},
   "outputs": [
    {
     "data": {
      "text/plain": [
       "(array([  0.,   5.,  10.,  15.,  20.,  25.,  30.,  35.,  40.]),\n",
       " <a list of 9 Text xticklabel objects>)"
      ]
     },
     "execution_count": 202,
     "metadata": {},
     "output_type": "execute_result"
    },
    {
     "data": {
      "image/png": "[encoded data removed]",
      "text/plain": [
       "<matplotlib.figure.Figure at 0x2200002a588>"
      ]
     },
     "metadata": {},
     "output_type": "display_data"
    }
   ],
   "source": [
    "no_nans.groupby(by = ['Year', 'Month']).mean().Counts.plot( # Drawing a pot from the grouped Year, Month data\n",
    "                                                figsize = (8,6), # The figure size\n",
    "                                                title = 'Mean Pedestrian Counts per Month, per Year') #Figure Title\n",
    "\n",
    "# #Let's customise it a bit further\n",
    "# #specifying the x-axis label\n",
    "plt.xlabel('Pedestrian Counts per Year, Month')\n",
    "\n",
    "# # the y-axis label\n",
    "plt.ylabel('Counts (mean)')\n",
    "\n",
    "# #Rotating the x-axis labels\n",
    "plt.xticks(rotation=45)"
   ]
  },
  {
   "cell_type": "markdown",
   "metadata": {},
   "source": [
    "## Bar Chart\n",
    "\n",
    "Bar charts are great for categorical data, like examining \"Seasons\", for example.\n",
    "\n",
    "Bar charts aren't generally recommended for time series data, such as plotting counts/hour, or mean counts per month, as these are more suited for line plots."
   ]
  },
  {
   "cell_type": "code",
   "execution_count": 205,
   "metadata": {},
   "outputs": [
    {
     "data": {
      "text/plain": [
       "<matplotlib.axes._subplots.AxesSubplot at 0x2207cfe67b8>"
      ]
     },
     "execution_count": 205,
     "metadata": {},
     "output_type": "execute_result"
    },
    {
     "data": {
      "image/png": "[encoded data removed]",
      "text/plain": [
       "<matplotlib.figure.Figure at 0x22063588908>"
      ]
     },
     "metadata": {},
     "output_type": "display_data"
    }
   ],
   "source": [
    "# You can still use the plot function, but specify which columns and plot type you would like to use\n",
    "no_nans.groupby(by = ['Season']).mean().Counts.plot(kind = 'bar',figsize = (7, 5)) \n",
    "\n",
    "# #Figure title\n",
    "# title(\"Mean Pedestrian Counts per Season\")\n",
    "\n",
    "# # x-axis label\n",
    "# plt.xlabel('Mean Counts')\n",
    "\n",
    "# #y-axis label\n",
    "# plt.ylabel('Season')"
   ]
  },
  {
   "cell_type": "markdown",
   "metadata": {},
   "source": [
    "## Boxplot\n",
    "Box plots are good for viewing the spread of data within certain categories. These can be useful to measure whether two conditions could be said to be approximately equal, for example."
   ]
  },
  {
   "cell_type": "code",
   "execution_count": null,
   "metadata": {},
   "outputs": [],
   "source": []
  },
  {
   "cell_type": "code",
   "execution_count": null,
   "metadata": {},
   "outputs": [],
   "source": [
    "fig = plt.figure(figsize = (6,8))\n",
    "# ax = fig.gca() #defining axis\n",
    "\n",
    "# The data and plot to use                                      \n",
    "no_nans[['Season','Counts']][0:65000].boxplot(by = 'Season')\n",
    "\n",
    "# # x-axis label\n",
    "# plt.xlabel('Season')\n",
    "\n",
    "# #y-axis label\n",
    "# plt.ylabel('Mean Counts')\n",
    "\n",
    "# #figure title\n",
    "# title(\"Pedestrian Counts per Season\")\n",
    "\n",
    "# #If you want to SAVE your plot, make sure you do it BEFORE you show it in the notebook\n",
    "# #plt.savefig('SeasonsBoxplot.png', dpi=300)\n",
    "\n",
    "#Generating an image\n",
    "plt.show()"
   ]
  },
  {
   "cell_type": "markdown",
   "metadata": {},
   "source": [
    "## Histograms\n",
    "\n",
    "Histograms let you observe the distribution of your (continuous) data, which means that it isn't suitable for all data types.\n",
    "\n",
    "One thing we could use to observe, however, are how the average number of pedestrians per month is distributed"
   ]
  },
  {
   "cell_type": "code",
   "execution_count": null,
   "metadata": {},
   "outputs": [],
   "source": [
    "#plt.hist takes the data you want to plot\n",
    "plt.hist(no_nans.groupby(by = \"Month\").mean().Counts, bins = 12, normed = False)\n",
    "\n",
    "#specifying the x-axis label\n",
    "plt.xlabel('Mean Pedestrian Counts')\n",
    "\n",
    "# the y-axis label\n",
    "plt.ylabel('Frequency')\n",
    "\n",
    "#Generating an image\n",
    "plt.show()\n"
   ]
  },
  {
   "cell_type": "markdown",
   "metadata": {},
   "source": [
    "## ScatterPlots\n",
    "\n",
    "Scatter plots also allow you observe the relationship between two conditions within your data. This works best when you have two continuous variables. With the use of colours and shapes, you can also observe how certain conditions cluster throughout this relationship."
   ]
  },
  {
   "cell_type": "code",
   "execution_count": 206,
   "metadata": {},
   "outputs": [
    {
     "data": {
      "image/png": "[encoded data removed]",
      "text/plain": [
       "<matplotlib.figure.Figure at 0x2207d3e3cc0>"
      ]
     },
     "metadata": {},
     "output_type": "display_data"
    }
   ],
   "source": [
    "no_nans.plot(kind='scatter', x = \"Counts\", y = \"Month\")\n",
    "\n",
    "plt.show()"
   ]
  },
  {
   "cell_type": "markdown",
   "metadata": {},
   "source": [
    "Unfortunately we don't actually have two continuous variables within this dataset, so our scatter plot sorts according to their discrete categories.\n",
    "\n",
    "Instead, let's try reading in the metadata for the sensor location, in the \"pedestrian_sensor_locations.csv\" file.\n",
    "\n",
    "Tihs file contains latitude and longitude data, and would show a more ideal scatterplot projection."
   ]
  },
  {
   "cell_type": "code",
   "execution_count": 207,
   "metadata": {},
   "outputs": [
    {
     "data": {
      "text/html": [
       "<div>\n",
       "<style>\n",
       "    .dataframe thead tr:only-child th {\n",
       "        text-align: right;\n",
       "    }\n",
       "\n",
       "    .dataframe thead th {\n",
       "        text-align: left;\n",
       "    }\n",
       "\n",
       "    .dataframe tbody tr th {\n",
       "        vertical-align: top;\n",
       "    }\n",
       "</style>\n",
       "<table border=\"1\" class=\"dataframe\">\n",
       "  <thead>\n",
       "    <tr style=\"text-align: right;\">\n",
       "      <th></th>\n",
       "      <th>Sensor ID</th>\n",
       "      <th>Sensor Name</th>\n",
       "      <th>Sensor Description</th>\n",
       "      <th>Status</th>\n",
       "      <th>Upload Date</th>\n",
       "      <th>Year Installed</th>\n",
       "      <th>Location Type</th>\n",
       "      <th>Geometry</th>\n",
       "      <th>Latitude</th>\n",
       "      <th>Longitude</th>\n",
       "    </tr>\n",
       "  </thead>\n",
       "  <tbody>\n",
       "    <tr>\n",
       "      <th>0</th>\n",
       "      <td>22</td>\n",
       "      <td>Eli274_T</td>\n",
       "      <td>Flinders St-Elizabeth St (East)</td>\n",
       "      <td>Installed</td>\n",
       "      <td>19/08/2016 12:39:50 PM +0000</td>\n",
       "      <td>2013</td>\n",
       "      <td>Outdoor</td>\n",
       "      <td>(-37.8178644478193, 144.965068228214)</td>\n",
       "      <td>-37.817864</td>\n",
       "      <td>144.965068</td>\n",
       "    </tr>\n",
       "    <tr>\n",
       "      <th>1</th>\n",
       "      <td>34</td>\n",
       "      <td>Fli32_T</td>\n",
       "      <td>Flinders St-Spark La</td>\n",
       "      <td>Installed</td>\n",
       "      <td>19/08/2016 12:39:50 PM +0000</td>\n",
       "      <td>2014</td>\n",
       "      <td>Outdoor</td>\n",
       "      <td>(-37.8153798501116, 144.974150495806)</td>\n",
       "      <td>-37.815380</td>\n",
       "      <td>144.974150</td>\n",
       "    </tr>\n",
       "    <tr>\n",
       "      <th>2</th>\n",
       "      <td>11</td>\n",
       "      <td>WatCit_T</td>\n",
       "      <td>Waterfront City</td>\n",
       "      <td>Installed</td>\n",
       "      <td>19/08/2016 12:39:50 PM +0000</td>\n",
       "      <td>2009</td>\n",
       "      <td>Outdoor</td>\n",
       "      <td>(-37.8154565643471, 144.939579299407)</td>\n",
       "      <td>-37.815457</td>\n",
       "      <td>144.939579</td>\n",
       "    </tr>\n",
       "    <tr>\n",
       "      <th>3</th>\n",
       "      <td>8</td>\n",
       "      <td>WebBN_T</td>\n",
       "      <td>Webb Bridge</td>\n",
       "      <td>Installed</td>\n",
       "      <td>19/08/2016 12:39:50 PM +0000</td>\n",
       "      <td>2009</td>\n",
       "      <td>Outdoor</td>\n",
       "      <td>(-37.8229354263742, 144.947175106953)</td>\n",
       "      <td>-37.822935</td>\n",
       "      <td>144.947175</td>\n",
       "    </tr>\n",
       "    <tr>\n",
       "      <th>4</th>\n",
       "      <td>7</td>\n",
       "      <td>Fed_T</td>\n",
       "      <td>Birrarung Marr</td>\n",
       "      <td>Installed</td>\n",
       "      <td>19/08/2016 12:39:50 PM +0000</td>\n",
       "      <td>2009</td>\n",
       "      <td>Outdoor</td>\n",
       "      <td>(-37.8183237506589, 144.971414820121)</td>\n",
       "      <td>-37.818324</td>\n",
       "      <td>144.971415</td>\n",
       "    </tr>\n",
       "  </tbody>\n",
       "</table>\n",
       "</div>"
      ],
      "text/plain": [
       "   Sensor ID Sensor Name               Sensor Description     Status  \\\n",
       "0         22    Eli274_T  Flinders St-Elizabeth St (East)  Installed   \n",
       "1         34     Fli32_T             Flinders St-Spark La  Installed   \n",
       "2         11    WatCit_T                  Waterfront City  Installed   \n",
       "3          8     WebBN_T                      Webb Bridge  Installed   \n",
       "4          7       Fed_T                   Birrarung Marr  Installed   \n",
       "\n",
       "                    Upload Date  Year Installed Location Type  \\\n",
       "0  19/08/2016 12:39:50 PM +0000            2013       Outdoor   \n",
       "1  19/08/2016 12:39:50 PM +0000            2014       Outdoor   \n",
       "2  19/08/2016 12:39:50 PM +0000            2009       Outdoor   \n",
       "3  19/08/2016 12:39:50 PM +0000            2009       Outdoor   \n",
       "4  19/08/2016 12:39:50 PM +0000            2009       Outdoor   \n",
       "\n",
       "                                Geometry   Latitude   Longitude  \n",
       "0  (-37.8178644478193, 144.965068228214) -37.817864  144.965068  \n",
       "1  (-37.8153798501116, 144.974150495806) -37.815380  144.974150  \n",
       "2  (-37.8154565643471, 144.939579299407) -37.815457  144.939579  \n",
       "3  (-37.8229354263742, 144.947175106953) -37.822935  144.947175  \n",
       "4  (-37.8183237506589, 144.971414820121) -37.818324  144.971415  "
      ]
     },
     "execution_count": 207,
     "metadata": {},
     "output_type": "execute_result"
    }
   ],
   "source": [
    "sensorLt = pd.read_csv(\"pedestrian_sensor_locations.csv\")\n",
    "sensorLt.head()"
   ]
  },
  {
   "cell_type": "code",
   "execution_count": 210,
   "metadata": {},
   "outputs": [
    {
     "data": {
      "image/png": "[encoded data removed]",
      "text/plain": [
       "<matplotlib.figure.Figure at 0x220001ed9e8>"
      ]
     },
     "metadata": {},
     "output_type": "display_data"
    }
   ],
   "source": [
    "# Setting up a list of \"area\" values, scaled according to the mean pedestrian counts for each location\n",
    "\n",
    "# This lets us create a size scale for our scatter plot points based on the proportion of pedestrians at each location\n",
    "area = (pdsn.groupby(\"Location\").mean().Counts)/(pdsn.groupby(\"Location\").mean().Counts.max()) * 110\n",
    "\n",
    "sensorLt.plot(kind='scatter', x = \"Latitude\", y = \"Longitude\", s = area)\n",
    "\n",
    "plt.show()"
   ]
  },
  {
   "cell_type": "code",
   "execution_count": null,
   "metadata": {},
   "outputs": [],
   "source": []
  },
  {
   "cell_type": "code",
   "execution_count": null,
   "metadata": {},
   "outputs": [],
   "source": []
  },
  {
   "cell_type": "markdown",
   "metadata": {},
   "source": [
    "# Summary\n",
    "\n",
    "I hope this has been an informative, although limited, introduction into the plotting and functional capabilites of the Pandas library. There are still many things you can learn, and many other ways to use it. If you're stuck, don't be afraid to throw as many key words into Google Overlord as possible, and hope that the people at StackOverflow have been kind enough (and kind) to answer a similar question.\n",
    "\n",
    "To keep you going on your journey, here are a few tutorials or Pandas-based problem sets you might like to use to practice:  \n",
    "* [Github Repo 1](https://github.com/guipsamora/pandas_exercises)\n",
    "* [Github Repo 2](https://github.com/ajcr/100-pandas-puzzles) (some of these might seem familiar)\n",
    "* [10 minutes to Pandas](http://pandas.pydata.org/pandas-docs/version/0.17.0/10min.html)\n",
    "* [Essential Basic Functionality](http://pandas.pydata.org/pandas-docs/version/0.17.0/basics.html)\n",
    "* [Pandas Dev recommended tutorials](http://pandas.pydata.org/pandas-docs/stable/tutorials.html)\n",
    "\n",
    "Follow us on Twitter and Eventbrite to keep up-to-date on new and up-coming trainings\n",
    "- [@ResPlat](https://twitter.com/resplat)\n",
    "- [All currently planned Eventbrite trainings](https://www.eventbrite.com.au/o/research-platforms-services-10600096884)"
   ]
  },
  {
   "cell_type": "code",
   "execution_count": null,
   "metadata": {},
   "outputs": [],
   "source": []
  }
 ],
 "metadata": {
  "kernelspec": {
   "display_name": "Python 3",
   "language": "python",
   "name": "python3"
  },
  "language_info": {
   "codemirror_mode": {
    "name": "ipython",
    "version": 3
   },
   "file_extension": ".py",
   "mimetype": "text/x-python",
   "name": "python",
   "nbconvert_exporter": "python",
   "pygments_lexer": "ipython3",
   "version": "3.6.1"
  },
  "toc": {
   "colors": {
    "hover_highlight": "#DAA520",
    "navigate_num": "#000000",
    "navigate_text": "#333333",
    "running_highlight": "#FF0000",
    "selected_highlight": "#FFD700",
    "sidebar_border": "#EEEEEE",
    "wrapper_background": "#FFFFFF"
   },
   "moveMenuLeft": true,
   "nav_menu": {
    "height": "512px",
    "width": "252px"
   },
   "navigate_menu": true,
   "number_sections": true,
   "sideBar": false,
   "threshold": 4,
   "toc_cell": false,
   "toc_position": {
    "height": "415px",
    "left": "695px",
    "right": "1131px",
    "top": "89px",
    "width": "234px"
   },
   "toc_section_display": "none",
   "toc_window_display": true,
   "widenNotebook": false
  },
  "varInspector": {
   "cols": {
    "lenName": 16,
    "lenType": 16,
    "lenVar": 40
   },
   "kernels_config": {
    "python": {
     "delete_cmd_postfix": "",
     "delete_cmd_prefix": "del ",
     "library": "var_list.py",
     "varRefreshCmd": "print(var_dic_list())"
    },
    "r": {
     "delete_cmd_postfix": ") ",
     "delete_cmd_prefix": "rm(",
     "library": "var_list.r",
     "varRefreshCmd": "cat(var_dic_list()) "
    }
   },
   "types_to_exclude": [
    "module",
    "function",
    "builtin_function_or_method",
    "instance",
    "_Feature"
   ],
   "window_display": false
  }
 },
 "nbformat": 4,
 "nbformat_minor": 2
}
